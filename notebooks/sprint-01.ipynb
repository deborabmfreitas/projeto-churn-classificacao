{
 "cells": [
  {
   "cell_type": "markdown",
   "id": "13324734",
   "metadata": {
    "heading_collapsed": true
   },
   "source": [
    "# Entendimento de negócio\n",
    "\n",
    "`Objetivo geral`\n",
    "- Foi requisitado um modelo de performance para a identificação de clientes em _churn_\n",
    "- Uma espécie de _score_ correspondente à probabilidade de um cliente entrar em _churn_\n",
    " \n",
    "`Métricas`   \n",
    "- Taxa atual de churn da empresa  \n",
    "- Variação da taxa de churn por mês  \n",
    "- Performance do modelo em classificar os clientes com churn  \n",
    "- Qual o faturamento da empresa se ela impedir o churn de clientes  \n",
    "- Qual o valor de um cupom de desconto daria para o cliente, a fim de evitar o churn\n",
    "- Qual o custo total dessse incentivo para a empresa"
   ]
  },
  {
   "cell_type": "markdown",
   "id": "b557925e",
   "metadata": {
    "heading_collapsed": true
   },
   "source": [
    "# Objetivos da Sprint 1\n",
    "\n",
    "- Descrição dos dados\n",
    "- Análise descritiva dos dados\n",
    "- Planejamento e substituições de NA\n",
    "- Lista de hipóteses"
   ]
  },
  {
   "cell_type": "markdown",
   "id": "72e1e472",
   "metadata": {
    "heading_collapsed": true
   },
   "source": [
    "# Descrição dos dados\n",
    "\n",
    "Coluna | Descrição\n",
    "-------|----------\n",
    "RowNumber | Nº da linha\n",
    "CustomerId | ID do cliente\n",
    "Surname | Sobrenome do cliente\n",
    "CreditScore | Pontuação de crédito do cliente para o mercado de consumo\n",
    "Geography | País onde o cliente reside\n",
    "Gender | Gênero do cliente\n",
    "Age | Idade do cliente\n",
    "Tenure| Nº de meses que o cliente permaneceu ativo\n",
    "Balance  | Valor gasto pelo cliente\n",
    "NumOfProducts | Nº de produtos comprados pelo cliente\n",
    "HasCrCard | Indica se o cliente possui ou não um cartão de crédito\n",
    "IsActiveMember | Indica se o cliente ainda tem o cadastro ativo na empresa\n",
    "EstimatedSalary | Estimativa de salário mensal do cliente\n",
    "Exited | Indica se o cliente está ou não em churn "
   ]
  },
  {
   "cell_type": "markdown",
   "id": "409deb3e",
   "metadata": {},
   "source": [
    "# Bibliotecas"
   ]
  },
  {
   "cell_type": "code",
   "execution_count": 1,
   "id": "e0260443",
   "metadata": {
    "ExecuteTime": {
     "end_time": "2023-02-27T18:17:14.673089Z",
     "start_time": "2023-02-27T18:17:07.919551Z"
    }
   },
   "outputs": [],
   "source": [
    "import pandas as pd\n",
    "import numpy as np\n",
    "from sklearn.model_selection import train_test_split"
   ]
  },
  {
   "cell_type": "markdown",
   "id": "9e0a2859",
   "metadata": {},
   "source": [
    "# Carregando o dataset"
   ]
  },
  {
   "cell_type": "code",
   "execution_count": 2,
   "id": "755bba2b",
   "metadata": {
    "ExecuteTime": {
     "end_time": "2023-02-27T18:17:14.727680Z",
     "start_time": "2023-02-27T18:17:14.677226Z"
    }
   },
   "outputs": [],
   "source": [
    "df_raw = pd.read_csv('../data/churn.csv')"
   ]
  },
  {
   "cell_type": "markdown",
   "id": "9daf2181",
   "metadata": {},
   "source": [
    "# Análise descritiva dos dados"
   ]
  },
  {
   "cell_type": "code",
   "execution_count": 3,
   "id": "c8e147ca",
   "metadata": {
    "ExecuteTime": {
     "end_time": "2023-02-27T18:17:14.783781Z",
     "start_time": "2023-02-27T18:17:14.732352Z"
    }
   },
   "outputs": [
    {
     "data": {
      "text/html": [
       "<div>\n",
       "<style scoped>\n",
       "    .dataframe tbody tr th:only-of-type {\n",
       "        vertical-align: middle;\n",
       "    }\n",
       "\n",
       "    .dataframe tbody tr th {\n",
       "        vertical-align: top;\n",
       "    }\n",
       "\n",
       "    .dataframe thead th {\n",
       "        text-align: right;\n",
       "    }\n",
       "</style>\n",
       "<table border=\"1\" class=\"dataframe\">\n",
       "  <thead>\n",
       "    <tr style=\"text-align: right;\">\n",
       "      <th></th>\n",
       "      <th>RowNumber</th>\n",
       "      <th>CustomerId</th>\n",
       "      <th>Surname</th>\n",
       "      <th>CreditScore</th>\n",
       "      <th>Geography</th>\n",
       "      <th>Gender</th>\n",
       "      <th>Age</th>\n",
       "      <th>Tenure</th>\n",
       "      <th>Balance</th>\n",
       "      <th>NumOfProducts</th>\n",
       "      <th>HasCrCard</th>\n",
       "      <th>IsActiveMember</th>\n",
       "      <th>EstimatedSalary</th>\n",
       "      <th>Exited</th>\n",
       "    </tr>\n",
       "  </thead>\n",
       "  <tbody>\n",
       "    <tr>\n",
       "      <th>0</th>\n",
       "      <td>1</td>\n",
       "      <td>15634602</td>\n",
       "      <td>Hargrave</td>\n",
       "      <td>619</td>\n",
       "      <td>France</td>\n",
       "      <td>Female</td>\n",
       "      <td>42</td>\n",
       "      <td>2</td>\n",
       "      <td>0.00</td>\n",
       "      <td>1</td>\n",
       "      <td>1</td>\n",
       "      <td>1</td>\n",
       "      <td>101348.88</td>\n",
       "      <td>1</td>\n",
       "    </tr>\n",
       "    <tr>\n",
       "      <th>1</th>\n",
       "      <td>2</td>\n",
       "      <td>15647311</td>\n",
       "      <td>Hill</td>\n",
       "      <td>608</td>\n",
       "      <td>Spain</td>\n",
       "      <td>Female</td>\n",
       "      <td>41</td>\n",
       "      <td>1</td>\n",
       "      <td>83807.86</td>\n",
       "      <td>1</td>\n",
       "      <td>0</td>\n",
       "      <td>1</td>\n",
       "      <td>112542.58</td>\n",
       "      <td>0</td>\n",
       "    </tr>\n",
       "    <tr>\n",
       "      <th>2</th>\n",
       "      <td>3</td>\n",
       "      <td>15619304</td>\n",
       "      <td>Onio</td>\n",
       "      <td>502</td>\n",
       "      <td>France</td>\n",
       "      <td>Female</td>\n",
       "      <td>42</td>\n",
       "      <td>8</td>\n",
       "      <td>159660.80</td>\n",
       "      <td>3</td>\n",
       "      <td>1</td>\n",
       "      <td>0</td>\n",
       "      <td>113931.57</td>\n",
       "      <td>1</td>\n",
       "    </tr>\n",
       "    <tr>\n",
       "      <th>3</th>\n",
       "      <td>4</td>\n",
       "      <td>15701354</td>\n",
       "      <td>Boni</td>\n",
       "      <td>699</td>\n",
       "      <td>France</td>\n",
       "      <td>Female</td>\n",
       "      <td>39</td>\n",
       "      <td>1</td>\n",
       "      <td>0.00</td>\n",
       "      <td>2</td>\n",
       "      <td>0</td>\n",
       "      <td>0</td>\n",
       "      <td>93826.63</td>\n",
       "      <td>0</td>\n",
       "    </tr>\n",
       "    <tr>\n",
       "      <th>4</th>\n",
       "      <td>5</td>\n",
       "      <td>15737888</td>\n",
       "      <td>Mitchell</td>\n",
       "      <td>850</td>\n",
       "      <td>Spain</td>\n",
       "      <td>Female</td>\n",
       "      <td>43</td>\n",
       "      <td>2</td>\n",
       "      <td>125510.82</td>\n",
       "      <td>1</td>\n",
       "      <td>1</td>\n",
       "      <td>1</td>\n",
       "      <td>79084.10</td>\n",
       "      <td>0</td>\n",
       "    </tr>\n",
       "  </tbody>\n",
       "</table>\n",
       "</div>"
      ],
      "text/plain": [
       "   RowNumber  CustomerId   Surname  CreditScore Geography  Gender  Age  \\\n",
       "0          1    15634602  Hargrave          619    France  Female   42   \n",
       "1          2    15647311      Hill          608     Spain  Female   41   \n",
       "2          3    15619304      Onio          502    France  Female   42   \n",
       "3          4    15701354      Boni          699    France  Female   39   \n",
       "4          5    15737888  Mitchell          850     Spain  Female   43   \n",
       "\n",
       "   Tenure    Balance  NumOfProducts  HasCrCard  IsActiveMember  \\\n",
       "0       2       0.00              1          1               1   \n",
       "1       1   83807.86              1          0               1   \n",
       "2       8  159660.80              3          1               0   \n",
       "3       1       0.00              2          0               0   \n",
       "4       2  125510.82              1          1               1   \n",
       "\n",
       "   EstimatedSalary  Exited  \n",
       "0        101348.88       1  \n",
       "1        112542.58       0  \n",
       "2        113931.57       1  \n",
       "3         93826.63       0  \n",
       "4         79084.10       0  "
      ]
     },
     "execution_count": 3,
     "metadata": {},
     "output_type": "execute_result"
    }
   ],
   "source": [
    "# analisando colunas\n",
    "\n",
    "df_raw.head()"
   ]
  },
  {
   "cell_type": "code",
   "execution_count": 4,
   "id": "10e2bf82",
   "metadata": {
    "ExecuteTime": {
     "end_time": "2023-02-27T18:17:14.800529Z",
     "start_time": "2023-02-27T18:17:14.790224Z"
    }
   },
   "outputs": [
    {
     "data": {
      "text/plain": [
       "(10000, 14)"
      ]
     },
     "execution_count": 4,
     "metadata": {},
     "output_type": "execute_result"
    }
   ],
   "source": [
    "# checando linhas do dataset \n",
    "\n",
    "df_raw.shape"
   ]
  },
  {
   "cell_type": "code",
   "execution_count": 5,
   "id": "7b18bce0",
   "metadata": {
    "ExecuteTime": {
     "end_time": "2023-02-27T18:17:14.817512Z",
     "start_time": "2023-02-27T18:17:14.808546Z"
    }
   },
   "outputs": [
    {
     "data": {
      "text/plain": [
       "Index(['RowNumber', 'CustomerId', 'Surname', 'CreditScore', 'Geography',\n",
       "       'Gender', 'Age', 'Tenure', 'Balance', 'NumOfProducts', 'HasCrCard',\n",
       "       'IsActiveMember', 'EstimatedSalary', 'Exited'],\n",
       "      dtype='object')"
      ]
     },
     "execution_count": 5,
     "metadata": {},
     "output_type": "execute_result"
    }
   ],
   "source": [
    "# checando colunas\n",
    "\n",
    "df_raw.columns"
   ]
  },
  {
   "cell_type": "code",
   "execution_count": 6,
   "id": "b3811733",
   "metadata": {
    "ExecuteTime": {
     "end_time": "2023-02-27T18:17:14.888141Z",
     "start_time": "2023-02-27T18:17:14.826291Z"
    }
   },
   "outputs": [
    {
     "name": "stdout",
     "output_type": "stream",
     "text": [
      "<class 'pandas.core.frame.DataFrame'>\n",
      "RangeIndex: 10000 entries, 0 to 9999\n",
      "Data columns (total 14 columns):\n",
      " #   Column           Non-Null Count  Dtype  \n",
      "---  ------           --------------  -----  \n",
      " 0   RowNumber        10000 non-null  int64  \n",
      " 1   CustomerId       10000 non-null  int64  \n",
      " 2   Surname          10000 non-null  object \n",
      " 3   CreditScore      10000 non-null  int64  \n",
      " 4   Geography        10000 non-null  object \n",
      " 5   Gender           10000 non-null  object \n",
      " 6   Age              10000 non-null  int64  \n",
      " 7   Tenure           10000 non-null  int64  \n",
      " 8   Balance          10000 non-null  float64\n",
      " 9   NumOfProducts    10000 non-null  int64  \n",
      " 10  HasCrCard        10000 non-null  int64  \n",
      " 11  IsActiveMember   10000 non-null  int64  \n",
      " 12  EstimatedSalary  10000 non-null  float64\n",
      " 13  Exited           10000 non-null  int64  \n",
      "dtypes: float64(2), int64(9), object(3)\n",
      "memory usage: 1.1+ MB\n"
     ]
    }
   ],
   "source": [
    "# checando os tipos de dados\n",
    "\n",
    "df_raw. info()"
   ]
  },
  {
   "cell_type": "code",
   "execution_count": 7,
   "id": "3fa18eb0",
   "metadata": {
    "ExecuteTime": {
     "end_time": "2023-02-27T18:17:15.017514Z",
     "start_time": "2023-02-27T18:17:14.892212Z"
    }
   },
   "outputs": [
    {
     "data": {
      "text/html": [
       "<div>\n",
       "<style scoped>\n",
       "    .dataframe tbody tr th:only-of-type {\n",
       "        vertical-align: middle;\n",
       "    }\n",
       "\n",
       "    .dataframe tbody tr th {\n",
       "        vertical-align: top;\n",
       "    }\n",
       "\n",
       "    .dataframe thead th {\n",
       "        text-align: right;\n",
       "    }\n",
       "</style>\n",
       "<table border=\"1\" class=\"dataframe\">\n",
       "  <thead>\n",
       "    <tr style=\"text-align: right;\">\n",
       "      <th></th>\n",
       "      <th>RowNumber</th>\n",
       "      <th>CustomerId</th>\n",
       "      <th>CreditScore</th>\n",
       "      <th>Age</th>\n",
       "      <th>Tenure</th>\n",
       "      <th>Balance</th>\n",
       "      <th>NumOfProducts</th>\n",
       "      <th>HasCrCard</th>\n",
       "      <th>IsActiveMember</th>\n",
       "      <th>EstimatedSalary</th>\n",
       "      <th>Exited</th>\n",
       "    </tr>\n",
       "  </thead>\n",
       "  <tbody>\n",
       "    <tr>\n",
       "      <th>count</th>\n",
       "      <td>10000.00000</td>\n",
       "      <td>1.000000e+04</td>\n",
       "      <td>10000.000000</td>\n",
       "      <td>10000.000000</td>\n",
       "      <td>10000.000000</td>\n",
       "      <td>10000.000000</td>\n",
       "      <td>10000.000000</td>\n",
       "      <td>10000.00000</td>\n",
       "      <td>10000.000000</td>\n",
       "      <td>10000.000000</td>\n",
       "      <td>10000.000000</td>\n",
       "    </tr>\n",
       "    <tr>\n",
       "      <th>mean</th>\n",
       "      <td>5000.50000</td>\n",
       "      <td>1.569094e+07</td>\n",
       "      <td>650.528800</td>\n",
       "      <td>38.921800</td>\n",
       "      <td>5.012800</td>\n",
       "      <td>76485.889288</td>\n",
       "      <td>1.530200</td>\n",
       "      <td>0.70550</td>\n",
       "      <td>0.515100</td>\n",
       "      <td>100090.239881</td>\n",
       "      <td>0.203700</td>\n",
       "    </tr>\n",
       "    <tr>\n",
       "      <th>std</th>\n",
       "      <td>2886.89568</td>\n",
       "      <td>7.193619e+04</td>\n",
       "      <td>96.653299</td>\n",
       "      <td>10.487806</td>\n",
       "      <td>2.892174</td>\n",
       "      <td>62397.405202</td>\n",
       "      <td>0.581654</td>\n",
       "      <td>0.45584</td>\n",
       "      <td>0.499797</td>\n",
       "      <td>57510.492818</td>\n",
       "      <td>0.402769</td>\n",
       "    </tr>\n",
       "    <tr>\n",
       "      <th>min</th>\n",
       "      <td>1.00000</td>\n",
       "      <td>1.556570e+07</td>\n",
       "      <td>350.000000</td>\n",
       "      <td>18.000000</td>\n",
       "      <td>0.000000</td>\n",
       "      <td>0.000000</td>\n",
       "      <td>1.000000</td>\n",
       "      <td>0.00000</td>\n",
       "      <td>0.000000</td>\n",
       "      <td>11.580000</td>\n",
       "      <td>0.000000</td>\n",
       "    </tr>\n",
       "    <tr>\n",
       "      <th>25%</th>\n",
       "      <td>2500.75000</td>\n",
       "      <td>1.562853e+07</td>\n",
       "      <td>584.000000</td>\n",
       "      <td>32.000000</td>\n",
       "      <td>3.000000</td>\n",
       "      <td>0.000000</td>\n",
       "      <td>1.000000</td>\n",
       "      <td>0.00000</td>\n",
       "      <td>0.000000</td>\n",
       "      <td>51002.110000</td>\n",
       "      <td>0.000000</td>\n",
       "    </tr>\n",
       "    <tr>\n",
       "      <th>50%</th>\n",
       "      <td>5000.50000</td>\n",
       "      <td>1.569074e+07</td>\n",
       "      <td>652.000000</td>\n",
       "      <td>37.000000</td>\n",
       "      <td>5.000000</td>\n",
       "      <td>97198.540000</td>\n",
       "      <td>1.000000</td>\n",
       "      <td>1.00000</td>\n",
       "      <td>1.000000</td>\n",
       "      <td>100193.915000</td>\n",
       "      <td>0.000000</td>\n",
       "    </tr>\n",
       "    <tr>\n",
       "      <th>75%</th>\n",
       "      <td>7500.25000</td>\n",
       "      <td>1.575323e+07</td>\n",
       "      <td>718.000000</td>\n",
       "      <td>44.000000</td>\n",
       "      <td>7.000000</td>\n",
       "      <td>127644.240000</td>\n",
       "      <td>2.000000</td>\n",
       "      <td>1.00000</td>\n",
       "      <td>1.000000</td>\n",
       "      <td>149388.247500</td>\n",
       "      <td>0.000000</td>\n",
       "    </tr>\n",
       "    <tr>\n",
       "      <th>max</th>\n",
       "      <td>10000.00000</td>\n",
       "      <td>1.581569e+07</td>\n",
       "      <td>850.000000</td>\n",
       "      <td>92.000000</td>\n",
       "      <td>10.000000</td>\n",
       "      <td>250898.090000</td>\n",
       "      <td>4.000000</td>\n",
       "      <td>1.00000</td>\n",
       "      <td>1.000000</td>\n",
       "      <td>199992.480000</td>\n",
       "      <td>1.000000</td>\n",
       "    </tr>\n",
       "  </tbody>\n",
       "</table>\n",
       "</div>"
      ],
      "text/plain": [
       "         RowNumber    CustomerId   CreditScore           Age        Tenure  \\\n",
       "count  10000.00000  1.000000e+04  10000.000000  10000.000000  10000.000000   \n",
       "mean    5000.50000  1.569094e+07    650.528800     38.921800      5.012800   \n",
       "std     2886.89568  7.193619e+04     96.653299     10.487806      2.892174   \n",
       "min        1.00000  1.556570e+07    350.000000     18.000000      0.000000   \n",
       "25%     2500.75000  1.562853e+07    584.000000     32.000000      3.000000   \n",
       "50%     5000.50000  1.569074e+07    652.000000     37.000000      5.000000   \n",
       "75%     7500.25000  1.575323e+07    718.000000     44.000000      7.000000   \n",
       "max    10000.00000  1.581569e+07    850.000000     92.000000     10.000000   \n",
       "\n",
       "             Balance  NumOfProducts    HasCrCard  IsActiveMember  \\\n",
       "count   10000.000000   10000.000000  10000.00000    10000.000000   \n",
       "mean    76485.889288       1.530200      0.70550        0.515100   \n",
       "std     62397.405202       0.581654      0.45584        0.499797   \n",
       "min         0.000000       1.000000      0.00000        0.000000   \n",
       "25%         0.000000       1.000000      0.00000        0.000000   \n",
       "50%     97198.540000       1.000000      1.00000        1.000000   \n",
       "75%    127644.240000       2.000000      1.00000        1.000000   \n",
       "max    250898.090000       4.000000      1.00000        1.000000   \n",
       "\n",
       "       EstimatedSalary        Exited  \n",
       "count     10000.000000  10000.000000  \n",
       "mean     100090.239881      0.203700  \n",
       "std       57510.492818      0.402769  \n",
       "min          11.580000      0.000000  \n",
       "25%       51002.110000      0.000000  \n",
       "50%      100193.915000      0.000000  \n",
       "75%      149388.247500      0.000000  \n",
       "max      199992.480000      1.000000  "
      ]
     },
     "execution_count": 7,
     "metadata": {},
     "output_type": "execute_result"
    }
   ],
   "source": [
    "# ver como os dados estão distribuídos\n",
    "\n",
    "df_raw.describe()"
   ]
  },
  {
   "cell_type": "code",
   "execution_count": 8,
   "id": "39d51fd8",
   "metadata": {
    "ExecuteTime": {
     "end_time": "2023-02-27T18:17:15.075356Z",
     "start_time": "2023-02-27T18:17:15.021315Z"
    }
   },
   "outputs": [
    {
     "data": {
      "text/plain": [
       "0"
      ]
     },
     "execution_count": 8,
     "metadata": {},
     "output_type": "execute_result"
    }
   ],
   "source": [
    "# checando se há dados duplicados\n",
    "\n",
    "df_raw.duplicated().sum()"
   ]
  },
  {
   "cell_type": "code",
   "execution_count": 9,
   "id": "a1cbdab2",
   "metadata": {
    "ExecuteTime": {
     "end_time": "2023-02-27T18:17:15.102993Z",
     "start_time": "2023-02-27T18:17:15.079123Z"
    },
    "scrolled": true
   },
   "outputs": [
    {
     "data": {
      "text/plain": [
       "Smith       32\n",
       "Scott       29\n",
       "Martin      29\n",
       "Walker      28\n",
       "Brown       26\n",
       "            ..\n",
       "Izmailov     1\n",
       "Bold         1\n",
       "Bonham       1\n",
       "Poninski     1\n",
       "Burbidge     1\n",
       "Name: Surname, Length: 2932, dtype: int64"
      ]
     },
     "execution_count": 9,
     "metadata": {},
     "output_type": "execute_result"
    }
   ],
   "source": [
    "# quantidade de clientes por sobrenome\n",
    "\n",
    "df_raw['Surname'].value_counts()"
   ]
  },
  {
   "cell_type": "code",
   "execution_count": 10,
   "id": "623b75e6",
   "metadata": {
    "ExecuteTime": {
     "end_time": "2023-02-27T18:17:15.132253Z",
     "start_time": "2023-02-27T18:17:15.114960Z"
    }
   },
   "outputs": [
    {
     "data": {
      "text/plain": [
       "(2932,)"
      ]
     },
     "execution_count": 10,
     "metadata": {},
     "output_type": "execute_result"
    }
   ],
   "source": [
    "# quantos sobrenomes únicos existem\n",
    "\n",
    "df_raw['Surname'].unique().shape"
   ]
  },
  {
   "cell_type": "code",
   "execution_count": 11,
   "id": "d20ab0cc",
   "metadata": {
    "ExecuteTime": {
     "end_time": "2023-02-27T18:17:15.149486Z",
     "start_time": "2023-02-27T18:17:15.136108Z"
    }
   },
   "outputs": [
    {
     "data": {
      "text/plain": [
       "413"
      ]
     },
     "execution_count": 11,
     "metadata": {},
     "output_type": "execute_result"
    }
   ],
   "source": [
    "# quantos clientes são recém-chegados\n",
    "\n",
    "(df_raw['Tenure'] == 0).sum()"
   ]
  },
  {
   "cell_type": "code",
   "execution_count": 12,
   "id": "087ea307",
   "metadata": {
    "ExecuteTime": {
     "end_time": "2023-02-27T18:17:15.173013Z",
     "start_time": "2023-02-27T18:17:15.153173Z"
    }
   },
   "outputs": [
    {
     "data": {
      "text/plain": [
       "1    5084\n",
       "2    4590\n",
       "3     266\n",
       "4      60\n",
       "Name: NumOfProducts, dtype: int64"
      ]
     },
     "execution_count": 12,
     "metadata": {},
     "output_type": "execute_result"
    }
   ],
   "source": [
    "# quantidade de clientes por produto\n",
    "\n",
    "df_raw['NumOfProducts'].value_counts()"
   ]
  },
  {
   "cell_type": "code",
   "execution_count": 13,
   "id": "e97156a8",
   "metadata": {
    "ExecuteTime": {
     "end_time": "2023-02-27T18:17:15.194102Z",
     "start_time": "2023-02-27T18:17:15.176614Z"
    }
   },
   "outputs": [
    {
     "data": {
      "text/plain": [
       "1    7055\n",
       "0    2945\n",
       "Name: HasCrCard, dtype: int64"
      ]
     },
     "execution_count": 13,
     "metadata": {},
     "output_type": "execute_result"
    }
   ],
   "source": [
    "# contabilizando clientes com e sem cartão\n",
    "\n",
    "df_raw['HasCrCard'].value_counts()"
   ]
  },
  {
   "cell_type": "code",
   "execution_count": 14,
   "id": "4116c7e3",
   "metadata": {
    "ExecuteTime": {
     "end_time": "2023-02-27T18:17:15.216529Z",
     "start_time": "2023-02-27T18:17:15.197489Z"
    }
   },
   "outputs": [
    {
     "data": {
      "text/plain": [
       "Male      5457\n",
       "Female    4543\n",
       "Name: Gender, dtype: int64"
      ]
     },
     "execution_count": 14,
     "metadata": {},
     "output_type": "execute_result"
    }
   ],
   "source": [
    "# contabilizando clientes por gênero\n",
    "\n",
    "df_raw['Gender'].value_counts() "
   ]
  },
  {
   "cell_type": "code",
   "execution_count": 15,
   "id": "1ffd8539",
   "metadata": {
    "ExecuteTime": {
     "end_time": "2023-02-27T18:17:15.236874Z",
     "start_time": "2023-02-27T18:17:15.221072Z"
    }
   },
   "outputs": [
    {
     "data": {
      "text/plain": [
       "1    5151\n",
       "0    4849\n",
       "Name: IsActiveMember, dtype: int64"
      ]
     },
     "execution_count": 15,
     "metadata": {},
     "output_type": "execute_result"
    }
   ],
   "source": [
    "# verificando quantidade de clientes ativos\n",
    "\n",
    "df_raw['IsActiveMember'].value_counts()"
   ]
  },
  {
   "cell_type": "code",
   "execution_count": 16,
   "id": "08777db9",
   "metadata": {
    "ExecuteTime": {
     "end_time": "2023-02-27T18:17:15.256573Z",
     "start_time": "2023-02-27T18:17:15.241229Z"
    }
   },
   "outputs": [
    {
     "data": {
      "text/plain": [
       "0    7963\n",
       "1    2037\n",
       "Name: Exited, dtype: int64"
      ]
     },
     "execution_count": 16,
     "metadata": {},
     "output_type": "execute_result"
    }
   ],
   "source": [
    "# verificando clientes em churn\n",
    "\n",
    "df_raw['Exited'].value_counts()"
   ]
  },
  {
   "cell_type": "code",
   "execution_count": 17,
   "id": "2e019828",
   "metadata": {
    "ExecuteTime": {
     "end_time": "2023-02-27T18:17:15.287992Z",
     "start_time": "2023-02-27T18:17:15.265795Z"
    }
   },
   "outputs": [
    {
     "data": {
      "text/plain": [
       "France     5014\n",
       "Germany    2509\n",
       "Spain      2477\n",
       "Name: Geography, dtype: int64"
      ]
     },
     "execution_count": 17,
     "metadata": {},
     "output_type": "execute_result"
    }
   ],
   "source": [
    "# checando países com mais clientes\n",
    "\n",
    "df_raw['Geography'].value_counts()"
   ]
  },
  {
   "cell_type": "markdown",
   "id": "e10f7b4b",
   "metadata": {},
   "source": [
    "# Planejamento e substituições de NA"
   ]
  },
  {
   "cell_type": "code",
   "execution_count": 18,
   "id": "987aafbd",
   "metadata": {
    "ExecuteTime": {
     "end_time": "2023-02-27T18:17:15.312465Z",
     "start_time": "2023-02-27T18:17:15.292030Z"
    }
   },
   "outputs": [
    {
     "data": {
      "text/plain": [
       "RowNumber          0\n",
       "CustomerId         0\n",
       "Surname            0\n",
       "CreditScore        0\n",
       "Geography          0\n",
       "Gender             0\n",
       "Age                0\n",
       "Tenure             0\n",
       "Balance            0\n",
       "NumOfProducts      0\n",
       "HasCrCard          0\n",
       "IsActiveMember     0\n",
       "EstimatedSalary    0\n",
       "Exited             0\n",
       "dtype: int64"
      ]
     },
     "execution_count": 18,
     "metadata": {},
     "output_type": "execute_result"
    }
   ],
   "source": [
    "# checando dados nulos\n",
    "\n",
    "df_raw.isna().sum()"
   ]
  },
  {
   "cell_type": "markdown",
   "id": "b423f795",
   "metadata": {},
   "source": [
    "Não foram verificados dados nulos."
   ]
  },
  {
   "cell_type": "markdown",
   "id": "56b58d5c",
   "metadata": {},
   "source": [
    "# Levantamento de hipóteses"
   ]
  },
  {
   "cell_type": "markdown",
   "id": "4e57926b",
   "metadata": {},
   "source": [
    "## Hipóteses: Clientes"
   ]
  },
  {
   "cell_type": "markdown",
   "id": "69ad595a",
   "metadata": {},
   "source": [
    " `Hipótese 1`: Mulheres estão entre os clientes mais cadastrados  \n",
    " `Hipótese 2`: Mulheres compram mais produtos do que homens  \n",
    " `Hipótese 3`: A taxa de churn de homens é maior, enquanto a de mulheres é menor  \n",
    " `Hipótese 4`: Os clientes mais ativos são adultos  \n",
    " `Hipótese 5`: Os clientes mais ativos compram mais produtos  \n",
    " `Hipótese 6`: Clientes franceses utilizam mais o cartão de crédito  \n",
    " `Hipótese 7`: Clientes franceses têm um _credit score_ maior   \n",
    " `Hipótese 8`: Clientes com salário maior compram mais  \n",
    " `Hipótese 9`: Clientes que compram mais produtos possuem menor risco de churn   \n",
    " `Hipótese 10`: Clientes com mais gastos por salário têm menos churn"
   ]
  },
  {
   "cell_type": "markdown",
   "id": "b9c8a9be",
   "metadata": {},
   "source": [
    "## Hipóteses: Temporais"
   ]
  },
  {
   "cell_type": "markdown",
   "id": "7dc37680",
   "metadata": {
    "ExecuteTime": {
     "end_time": "2023-02-27T16:21:49.755594Z",
     "start_time": "2023-02-27T16:21:49.702346Z"
    }
   },
   "source": [
    "`Hipótese 11`: Clientes recém-chegados compram mais  \n",
    "`Hipótese 12`: Clientes mais antigos compram menos  \n",
    "`Hipótese 13`: Alguns meses possuem mais vendas/clientes ativos  \n",
    "`Hipótese 14`: Clientes que não estão ativos há pelo menos 3 meses estão em churn"
   ]
  },
  {
   "cell_type": "markdown",
   "id": "bd521bd3",
   "metadata": {},
   "source": [
    "## Split do dataset"
   ]
  },
  {
   "cell_type": "code",
   "execution_count": 19,
   "id": "f1bc6217",
   "metadata": {
    "ExecuteTime": {
     "end_time": "2023-02-27T18:17:15.330111Z",
     "start_time": "2023-02-27T18:17:15.319782Z"
    }
   },
   "outputs": [],
   "source": [
    "# cópia do dataset\n",
    "\n",
    "df1 = df_raw.copy()"
   ]
  },
  {
   "cell_type": "code",
   "execution_count": 20,
   "id": "85b6b778",
   "metadata": {
    "ExecuteTime": {
     "end_time": "2023-02-27T18:17:15.359159Z",
     "start_time": "2023-02-27T18:17:15.343008Z"
    }
   },
   "outputs": [],
   "source": [
    "# separando features de targets\n",
    "\n",
    "X = df1.drop('Exited', axis=1)\n",
    "y = df1['Exited']"
   ]
  },
  {
   "cell_type": "code",
   "execution_count": 21,
   "id": "7b4fa19a",
   "metadata": {
    "ExecuteTime": {
     "end_time": "2023-02-27T18:17:15.403567Z",
     "start_time": "2023-02-27T18:17:15.371443Z"
    }
   },
   "outputs": [],
   "source": [
    "# separando os dados em treino, teste e validação\n",
    "\n",
    "X_train_val, X_test, y_train_val, y_test = train_test_split(X,y, test_size=0.1, stratify=y, random_state=42)\n",
    "X_train, X_val, y_train, y_val = train_test_split(X_train_val, y_train_val, test_size=0.1, stratify=y_train_val, random_state=42)"
   ]
  },
  {
   "cell_type": "code",
   "execution_count": 22,
   "id": "e7684544",
   "metadata": {
    "ExecuteTime": {
     "end_time": "2023-02-27T18:17:15.427766Z",
     "start_time": "2023-02-27T18:17:15.415284Z"
    }
   },
   "outputs": [
    {
     "name": "stdout",
     "output_type": "stream",
     "text": [
      "Dados de treino: 8100\n",
      "Dados de validação:900\n",
      "Dados de teste: 1000\n"
     ]
    }
   ],
   "source": [
    "# instâncias por split\n",
    "\n",
    "print(f'Dados de treino: {X_train.shape[0]}')\n",
    "print(f'Dados de validação:{X_val.shape[0]}')\n",
    "print(f'Dados de teste: {X_test.shape[0]}')"
   ]
  }
 ],
 "metadata": {
  "kernelspec": {
   "display_name": "Python 3 (ipykernel)",
   "language": "python",
   "name": "python3"
  },
  "language_info": {
   "codemirror_mode": {
    "name": "ipython",
    "version": 3
   },
   "file_extension": ".py",
   "mimetype": "text/x-python",
   "name": "python",
   "nbconvert_exporter": "python",
   "pygments_lexer": "ipython3",
   "version": "3.10.6"
  },
  "varInspector": {
   "cols": {
    "lenName": 16,
    "lenType": 16,
    "lenVar": 40
   },
   "kernels_config": {
    "python": {
     "delete_cmd_postfix": "",
     "delete_cmd_prefix": "del ",
     "library": "var_list.py",
     "varRefreshCmd": "print(var_dic_list())"
    },
    "r": {
     "delete_cmd_postfix": ") ",
     "delete_cmd_prefix": "rm(",
     "library": "var_list.r",
     "varRefreshCmd": "cat(var_dic_list()) "
    }
   },
   "types_to_exclude": [
    "module",
    "function",
    "builtin_function_or_method",
    "instance",
    "_Feature"
   ],
   "window_display": false
  }
 },
 "nbformat": 4,
 "nbformat_minor": 5
}
