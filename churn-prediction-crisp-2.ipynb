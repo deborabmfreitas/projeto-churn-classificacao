{
 "cells": [
  {
   "cell_type": "markdown",
   "id": "8e87fc5b",
   "metadata": {},
   "source": [
    "# Entendimento de negócio\n",
    "\n",
    "`Objetivo geral`\n",
    "\n",
    "- Um banco requisitou um modelo de _machine learning_ para a identificação de clientes em _churn_, buscando encontrar o maior número de clientes em churn possível.\n",
    "\n",
    "- É necessário entregar, no final, uma lista com os 20 clientes mais prioritários."
   ]
  },
  {
   "cell_type": "markdown",
   "id": "67fce0bd",
   "metadata": {},
   "source": [
    "### Breve descrição dos dados"
   ]
  },
  {
   "cell_type": "markdown",
   "id": "b98d116a",
   "metadata": {},
   "source": [
    "Coluna | Descrição\n",
    "-------|----------\n",
    "RowNumber | Nº da linha\n",
    "CustomerId | ID do cliente\n",
    "Surname | Sobrenome do cliente\n",
    "CreditScore | Pontuação de crédito do cliente para o mercado de consumo\n",
    "Geography | País onde o cliente reside\n",
    "Gender | Gênero do cliente\n",
    "Age | Idade do cliente\n",
    "Tenure| Nº de meses que o cliente permaneceu ativo\n",
    "Balance  | Valor gasto pelo cliente\n",
    "NumOfProducts | Nº de produtos comprados pelo cliente\n",
    "HasCrCard | Indica se o cliente possui ou não um cartão de crédito\n",
    "IsActiveMember | Indica se o cliente ainda tem o cadastro ativo na empresa\n",
    "EstimatedSalary | Estimativa de salário mensal do cliente\n",
    "Exited | Indica se o cliente está ou não em churn "
   ]
  },
  {
   "cell_type": "markdown",
   "id": "502b0a63",
   "metadata": {},
   "source": [
    "# 1. Bibliotecas"
   ]
  },
  {
   "cell_type": "code",
   "execution_count": 1,
   "id": "d9e73bae",
   "metadata": {
    "ExecuteTime": {
     "end_time": "2023-06-23T22:35:44.915952Z",
     "start_time": "2023-06-23T22:35:39.810754Z"
    }
   },
   "outputs": [],
   "source": [
    "# Manipulação dos dados\n",
    "\n",
    "import pandas as pd\n",
    "import numpy as np\n",
    "\n",
    "# DataViz\n",
    "\n",
    "import seaborn as sns\n",
    "import matplotlib.pyplot as plt\n",
    "from sklearn.manifold import TSNE # Separabilidade dos dados\n",
    "import scikitplot as skplt # Cumulative gains / Lift\n",
    "from sklearn.metrics import precision_recall_curve # Gráfico de recall e precisão\n",
    "\n",
    "\n",
    "# Split dos dados\n",
    "\n",
    "from sklearn.model_selection import train_test_split\n",
    "\n",
    "# Pipeline / transformação\n",
    "\n",
    "from sklearn.pipeline import Pipeline\n",
    "from sklearn.preprocessing import OneHotEncoder, StandardScaler\n",
    "from sklearn.compose import ColumnTransformer\n",
    "\n",
    "# Métricas\n",
    "\n",
    "from sklearn.metrics import accuracy_score, recall_score, precision_score, classification_report, roc_auc_score\n",
    "from sklearn.metrics import confusion_matrix, ConfusionMatrixDisplay\n",
    "from scikitplot.metrics import plot_roc\n",
    "from sklearn.metrics import roc_curve\n",
    "\n",
    "# Balanceamento das classes\n",
    "\n",
    "from imblearn.under_sampling import NearMiss\n",
    "from imblearn.over_sampling import SMOTE\n",
    "\n",
    "# Modelagem\n",
    "\n",
    "from sklearn.dummy import DummyClassifier\n",
    "\n",
    "from sklearn.linear_model import LogisticRegression\n",
    "from sklearn.svm import SVC\n",
    "\n",
    "from sklearn.neighbors import KNeighborsClassifier\n",
    "\n",
    "from sklearn.tree import DecisionTreeClassifier\n",
    "from sklearn.ensemble import RandomForestClassifier\n",
    "from lightgbm import LGBMClassifier\n",
    "\n",
    "# Feature selection\n",
    "\n",
    "from sklearn.feature_selection import SelectKBest, f_classif, mutual_info_classif\n",
    "\n",
    "# Otimização dos hiperparâmetros\n",
    "\n",
    "from sklearn.model_selection import RandomizedSearchCV"
   ]
  },
  {
   "cell_type": "markdown",
   "id": "484b3671",
   "metadata": {
    "heading_collapsed": true
   },
   "source": [
    "# 2. Carregando os dados"
   ]
  },
  {
   "cell_type": "code",
   "execution_count": 2,
   "id": "d7486e07",
   "metadata": {
    "ExecuteTime": {
     "end_time": "2023-06-23T22:35:44.993521Z",
     "start_time": "2023-06-23T22:35:44.919298Z"
    },
    "hidden": true
   },
   "outputs": [],
   "source": [
    "df_raw = pd.read_csv('data/churn.csv')"
   ]
  },
  {
   "cell_type": "markdown",
   "id": "76bfd58c",
   "metadata": {
    "heading_collapsed": true
   },
   "source": [
    "# 3. Inspeção inicial"
   ]
  },
  {
   "cell_type": "code",
   "execution_count": 3,
   "id": "653dc2b2",
   "metadata": {
    "ExecuteTime": {
     "end_time": "2023-06-23T22:35:45.065339Z",
     "start_time": "2023-06-23T22:35:45.011112Z"
    },
    "hidden": true
   },
   "outputs": [
    {
     "data": {
      "text/html": [
       "<div>\n",
       "<style scoped>\n",
       "    .dataframe tbody tr th:only-of-type {\n",
       "        vertical-align: middle;\n",
       "    }\n",
       "\n",
       "    .dataframe tbody tr th {\n",
       "        vertical-align: top;\n",
       "    }\n",
       "\n",
       "    .dataframe thead th {\n",
       "        text-align: right;\n",
       "    }\n",
       "</style>\n",
       "<table border=\"1\" class=\"dataframe\">\n",
       "  <thead>\n",
       "    <tr style=\"text-align: right;\">\n",
       "      <th></th>\n",
       "      <th>RowNumber</th>\n",
       "      <th>CustomerId</th>\n",
       "      <th>Surname</th>\n",
       "      <th>CreditScore</th>\n",
       "      <th>Geography</th>\n",
       "      <th>Gender</th>\n",
       "      <th>Age</th>\n",
       "      <th>Tenure</th>\n",
       "      <th>Balance</th>\n",
       "      <th>NumOfProducts</th>\n",
       "      <th>HasCrCard</th>\n",
       "      <th>IsActiveMember</th>\n",
       "      <th>EstimatedSalary</th>\n",
       "      <th>Exited</th>\n",
       "    </tr>\n",
       "  </thead>\n",
       "  <tbody>\n",
       "    <tr>\n",
       "      <th>0</th>\n",
       "      <td>1</td>\n",
       "      <td>15634602</td>\n",
       "      <td>Hargrave</td>\n",
       "      <td>619</td>\n",
       "      <td>France</td>\n",
       "      <td>Female</td>\n",
       "      <td>42</td>\n",
       "      <td>2</td>\n",
       "      <td>0.00</td>\n",
       "      <td>1</td>\n",
       "      <td>1</td>\n",
       "      <td>1</td>\n",
       "      <td>101348.88</td>\n",
       "      <td>1</td>\n",
       "    </tr>\n",
       "    <tr>\n",
       "      <th>1</th>\n",
       "      <td>2</td>\n",
       "      <td>15647311</td>\n",
       "      <td>Hill</td>\n",
       "      <td>608</td>\n",
       "      <td>Spain</td>\n",
       "      <td>Female</td>\n",
       "      <td>41</td>\n",
       "      <td>1</td>\n",
       "      <td>83807.86</td>\n",
       "      <td>1</td>\n",
       "      <td>0</td>\n",
       "      <td>1</td>\n",
       "      <td>112542.58</td>\n",
       "      <td>0</td>\n",
       "    </tr>\n",
       "    <tr>\n",
       "      <th>2</th>\n",
       "      <td>3</td>\n",
       "      <td>15619304</td>\n",
       "      <td>Onio</td>\n",
       "      <td>502</td>\n",
       "      <td>France</td>\n",
       "      <td>Female</td>\n",
       "      <td>42</td>\n",
       "      <td>8</td>\n",
       "      <td>159660.80</td>\n",
       "      <td>3</td>\n",
       "      <td>1</td>\n",
       "      <td>0</td>\n",
       "      <td>113931.57</td>\n",
       "      <td>1</td>\n",
       "    </tr>\n",
       "    <tr>\n",
       "      <th>3</th>\n",
       "      <td>4</td>\n",
       "      <td>15701354</td>\n",
       "      <td>Boni</td>\n",
       "      <td>699</td>\n",
       "      <td>France</td>\n",
       "      <td>Female</td>\n",
       "      <td>39</td>\n",
       "      <td>1</td>\n",
       "      <td>0.00</td>\n",
       "      <td>2</td>\n",
       "      <td>0</td>\n",
       "      <td>0</td>\n",
       "      <td>93826.63</td>\n",
       "      <td>0</td>\n",
       "    </tr>\n",
       "    <tr>\n",
       "      <th>4</th>\n",
       "      <td>5</td>\n",
       "      <td>15737888</td>\n",
       "      <td>Mitchell</td>\n",
       "      <td>850</td>\n",
       "      <td>Spain</td>\n",
       "      <td>Female</td>\n",
       "      <td>43</td>\n",
       "      <td>2</td>\n",
       "      <td>125510.82</td>\n",
       "      <td>1</td>\n",
       "      <td>1</td>\n",
       "      <td>1</td>\n",
       "      <td>79084.10</td>\n",
       "      <td>0</td>\n",
       "    </tr>\n",
       "  </tbody>\n",
       "</table>\n",
       "</div>"
      ],
      "text/plain": [
       "   RowNumber  CustomerId   Surname  CreditScore Geography  Gender  Age  \\\n",
       "0          1    15634602  Hargrave          619    France  Female   42   \n",
       "1          2    15647311      Hill          608     Spain  Female   41   \n",
       "2          3    15619304      Onio          502    France  Female   42   \n",
       "3          4    15701354      Boni          699    France  Female   39   \n",
       "4          5    15737888  Mitchell          850     Spain  Female   43   \n",
       "\n",
       "   Tenure    Balance  NumOfProducts  HasCrCard  IsActiveMember  \\\n",
       "0       2       0.00              1          1               1   \n",
       "1       1   83807.86              1          0               1   \n",
       "2       8  159660.80              3          1               0   \n",
       "3       1       0.00              2          0               0   \n",
       "4       2  125510.82              1          1               1   \n",
       "\n",
       "   EstimatedSalary  Exited  \n",
       "0        101348.88       1  \n",
       "1        112542.58       0  \n",
       "2        113931.57       1  \n",
       "3         93826.63       0  \n",
       "4         79084.10       0  "
      ]
     },
     "execution_count": 3,
     "metadata": {},
     "output_type": "execute_result"
    }
   ],
   "source": [
    "# Analisando colunas\n",
    "\n",
    "df_raw.head()"
   ]
  },
  {
   "cell_type": "code",
   "execution_count": 4,
   "id": "223f439f",
   "metadata": {
    "ExecuteTime": {
     "end_time": "2023-06-23T22:35:45.081106Z",
     "start_time": "2023-06-23T22:35:45.071262Z"
    },
    "hidden": true
   },
   "outputs": [
    {
     "name": "stdout",
     "output_type": "stream",
     "text": [
      "Total de linhas: 10000\n",
      "Total de colunas: 14\n"
     ]
    }
   ],
   "source": [
    "# Verificando a dimensionalidade\n",
    "\n",
    "print(f'Total de linhas: {df_raw.shape[0]}')\n",
    "print(f'Total de colunas: {df_raw.shape[1]}')"
   ]
  },
  {
   "cell_type": "code",
   "execution_count": 5,
   "id": "cfab35dc",
   "metadata": {
    "ExecuteTime": {
     "end_time": "2023-06-23T22:35:45.121701Z",
     "start_time": "2023-06-23T22:35:45.085378Z"
    },
    "hidden": true
   },
   "outputs": [
    {
     "name": "stdout",
     "output_type": "stream",
     "text": [
      "<class 'pandas.core.frame.DataFrame'>\n",
      "RangeIndex: 10000 entries, 0 to 9999\n",
      "Data columns (total 14 columns):\n",
      " #   Column           Non-Null Count  Dtype  \n",
      "---  ------           --------------  -----  \n",
      " 0   RowNumber        10000 non-null  int64  \n",
      " 1   CustomerId       10000 non-null  int64  \n",
      " 2   Surname          10000 non-null  object \n",
      " 3   CreditScore      10000 non-null  int64  \n",
      " 4   Geography        10000 non-null  object \n",
      " 5   Gender           10000 non-null  object \n",
      " 6   Age              10000 non-null  int64  \n",
      " 7   Tenure           10000 non-null  int64  \n",
      " 8   Balance          10000 non-null  float64\n",
      " 9   NumOfProducts    10000 non-null  int64  \n",
      " 10  HasCrCard        10000 non-null  int64  \n",
      " 11  IsActiveMember   10000 non-null  int64  \n",
      " 12  EstimatedSalary  10000 non-null  float64\n",
      " 13  Exited           10000 non-null  int64  \n",
      "dtypes: float64(2), int64(9), object(3)\n",
      "memory usage: 1.1+ MB\n"
     ]
    }
   ],
   "source": [
    "# Informações gerais dos dados\n",
    "\n",
    "df_raw. info()"
   ]
  },
  {
   "cell_type": "code",
   "execution_count": 6,
   "id": "d42ce0c0",
   "metadata": {
    "ExecuteTime": {
     "end_time": "2023-06-23T22:35:45.215145Z",
     "start_time": "2023-06-23T22:35:45.125718Z"
    },
    "hidden": true
   },
   "outputs": [
    {
     "data": {
      "text/html": [
       "<div>\n",
       "<style scoped>\n",
       "    .dataframe tbody tr th:only-of-type {\n",
       "        vertical-align: middle;\n",
       "    }\n",
       "\n",
       "    .dataframe tbody tr th {\n",
       "        vertical-align: top;\n",
       "    }\n",
       "\n",
       "    .dataframe thead th {\n",
       "        text-align: right;\n",
       "    }\n",
       "</style>\n",
       "<table border=\"1\" class=\"dataframe\">\n",
       "  <thead>\n",
       "    <tr style=\"text-align: right;\">\n",
       "      <th></th>\n",
       "      <th>RowNumber</th>\n",
       "      <th>CustomerId</th>\n",
       "      <th>CreditScore</th>\n",
       "      <th>Age</th>\n",
       "      <th>Tenure</th>\n",
       "      <th>Balance</th>\n",
       "      <th>NumOfProducts</th>\n",
       "      <th>HasCrCard</th>\n",
       "      <th>IsActiveMember</th>\n",
       "      <th>EstimatedSalary</th>\n",
       "      <th>Exited</th>\n",
       "    </tr>\n",
       "  </thead>\n",
       "  <tbody>\n",
       "    <tr>\n",
       "      <th>count</th>\n",
       "      <td>10000.0</td>\n",
       "      <td>10000.0</td>\n",
       "      <td>10000.0</td>\n",
       "      <td>10000.0</td>\n",
       "      <td>10000.0</td>\n",
       "      <td>10000.0</td>\n",
       "      <td>10000.0</td>\n",
       "      <td>10000.0</td>\n",
       "      <td>10000.0</td>\n",
       "      <td>10000.0</td>\n",
       "      <td>10000.0</td>\n",
       "    </tr>\n",
       "    <tr>\n",
       "      <th>mean</th>\n",
       "      <td>5000.5</td>\n",
       "      <td>15690940.6</td>\n",
       "      <td>650.5</td>\n",
       "      <td>38.9</td>\n",
       "      <td>5.0</td>\n",
       "      <td>76485.9</td>\n",
       "      <td>1.5</td>\n",
       "      <td>0.7</td>\n",
       "      <td>0.5</td>\n",
       "      <td>100090.2</td>\n",
       "      <td>0.2</td>\n",
       "    </tr>\n",
       "    <tr>\n",
       "      <th>std</th>\n",
       "      <td>2886.9</td>\n",
       "      <td>71936.2</td>\n",
       "      <td>96.7</td>\n",
       "      <td>10.5</td>\n",
       "      <td>2.9</td>\n",
       "      <td>62397.4</td>\n",
       "      <td>0.6</td>\n",
       "      <td>0.5</td>\n",
       "      <td>0.5</td>\n",
       "      <td>57510.5</td>\n",
       "      <td>0.4</td>\n",
       "    </tr>\n",
       "    <tr>\n",
       "      <th>min</th>\n",
       "      <td>1.0</td>\n",
       "      <td>15565701.0</td>\n",
       "      <td>350.0</td>\n",
       "      <td>18.0</td>\n",
       "      <td>0.0</td>\n",
       "      <td>0.0</td>\n",
       "      <td>1.0</td>\n",
       "      <td>0.0</td>\n",
       "      <td>0.0</td>\n",
       "      <td>11.6</td>\n",
       "      <td>0.0</td>\n",
       "    </tr>\n",
       "    <tr>\n",
       "      <th>25%</th>\n",
       "      <td>2500.8</td>\n",
       "      <td>15628528.2</td>\n",
       "      <td>584.0</td>\n",
       "      <td>32.0</td>\n",
       "      <td>3.0</td>\n",
       "      <td>0.0</td>\n",
       "      <td>1.0</td>\n",
       "      <td>0.0</td>\n",
       "      <td>0.0</td>\n",
       "      <td>51002.1</td>\n",
       "      <td>0.0</td>\n",
       "    </tr>\n",
       "    <tr>\n",
       "      <th>50%</th>\n",
       "      <td>5000.5</td>\n",
       "      <td>15690738.0</td>\n",
       "      <td>652.0</td>\n",
       "      <td>37.0</td>\n",
       "      <td>5.0</td>\n",
       "      <td>97198.5</td>\n",
       "      <td>1.0</td>\n",
       "      <td>1.0</td>\n",
       "      <td>1.0</td>\n",
       "      <td>100193.9</td>\n",
       "      <td>0.0</td>\n",
       "    </tr>\n",
       "    <tr>\n",
       "      <th>75%</th>\n",
       "      <td>7500.2</td>\n",
       "      <td>15753233.8</td>\n",
       "      <td>718.0</td>\n",
       "      <td>44.0</td>\n",
       "      <td>7.0</td>\n",
       "      <td>127644.2</td>\n",
       "      <td>2.0</td>\n",
       "      <td>1.0</td>\n",
       "      <td>1.0</td>\n",
       "      <td>149388.2</td>\n",
       "      <td>0.0</td>\n",
       "    </tr>\n",
       "    <tr>\n",
       "      <th>max</th>\n",
       "      <td>10000.0</td>\n",
       "      <td>15815690.0</td>\n",
       "      <td>850.0</td>\n",
       "      <td>92.0</td>\n",
       "      <td>10.0</td>\n",
       "      <td>250898.1</td>\n",
       "      <td>4.0</td>\n",
       "      <td>1.0</td>\n",
       "      <td>1.0</td>\n",
       "      <td>199992.5</td>\n",
       "      <td>1.0</td>\n",
       "    </tr>\n",
       "  </tbody>\n",
       "</table>\n",
       "</div>"
      ],
      "text/plain": [
       "       RowNumber  CustomerId  CreditScore      Age   Tenure   Balance  \\\n",
       "count    10000.0     10000.0      10000.0  10000.0  10000.0   10000.0   \n",
       "mean      5000.5  15690940.6        650.5     38.9      5.0   76485.9   \n",
       "std       2886.9     71936.2         96.7     10.5      2.9   62397.4   \n",
       "min          1.0  15565701.0        350.0     18.0      0.0       0.0   \n",
       "25%       2500.8  15628528.2        584.0     32.0      3.0       0.0   \n",
       "50%       5000.5  15690738.0        652.0     37.0      5.0   97198.5   \n",
       "75%       7500.2  15753233.8        718.0     44.0      7.0  127644.2   \n",
       "max      10000.0  15815690.0        850.0     92.0     10.0  250898.1   \n",
       "\n",
       "       NumOfProducts  HasCrCard  IsActiveMember  EstimatedSalary   Exited  \n",
       "count        10000.0    10000.0         10000.0          10000.0  10000.0  \n",
       "mean             1.5        0.7             0.5         100090.2      0.2  \n",
       "std              0.6        0.5             0.5          57510.5      0.4  \n",
       "min              1.0        0.0             0.0             11.6      0.0  \n",
       "25%              1.0        0.0             0.0          51002.1      0.0  \n",
       "50%              1.0        1.0             1.0         100193.9      0.0  \n",
       "75%              2.0        1.0             1.0         149388.2      0.0  \n",
       "max              4.0        1.0             1.0         199992.5      1.0  "
      ]
     },
     "execution_count": 6,
     "metadata": {},
     "output_type": "execute_result"
    }
   ],
   "source": [
    "# Verificando a distribuição geral dos dados\n",
    "\n",
    "np.round(df_raw.describe(),1)"
   ]
  },
  {
   "cell_type": "code",
   "execution_count": 7,
   "id": "1238b2f0",
   "metadata": {
    "ExecuteTime": {
     "end_time": "2023-06-23T22:35:45.283573Z",
     "start_time": "2023-06-23T22:35:45.223751Z"
    },
    "hidden": true
   },
   "outputs": [
    {
     "data": {
      "text/plain": [
       "0"
      ]
     },
     "execution_count": 7,
     "metadata": {},
     "output_type": "execute_result"
    }
   ],
   "source": [
    "# Checando se há dados duplicados\n",
    "\n",
    "df_raw.duplicated().sum()"
   ]
  },
  {
   "cell_type": "code",
   "execution_count": 8,
   "id": "83f05a34",
   "metadata": {
    "ExecuteTime": {
     "end_time": "2023-06-23T22:35:45.308787Z",
     "start_time": "2023-06-23T22:35:45.291177Z"
    },
    "hidden": true
   },
   "outputs": [
    {
     "data": {
      "text/plain": [
       "RowNumber          0\n",
       "CustomerId         0\n",
       "Surname            0\n",
       "CreditScore        0\n",
       "Geography          0\n",
       "Gender             0\n",
       "Age                0\n",
       "Tenure             0\n",
       "Balance            0\n",
       "NumOfProducts      0\n",
       "HasCrCard          0\n",
       "IsActiveMember     0\n",
       "EstimatedSalary    0\n",
       "Exited             0\n",
       "dtype: int64"
      ]
     },
     "execution_count": 8,
     "metadata": {},
     "output_type": "execute_result"
    }
   ],
   "source": [
    "# Checando se há dados nulos\n",
    "\n",
    "df_raw.isna().sum()"
   ]
  },
  {
   "cell_type": "markdown",
   "id": "943b0156",
   "metadata": {
    "heading_collapsed": true
   },
   "source": [
    "# 4. Split do dataset"
   ]
  },
  {
   "cell_type": "code",
   "execution_count": 9,
   "id": "e146a33f",
   "metadata": {
    "ExecuteTime": {
     "end_time": "2023-06-23T22:35:45.322640Z",
     "start_time": "2023-06-23T22:35:45.312979Z"
    },
    "hidden": true
   },
   "outputs": [],
   "source": [
    "# Cópia do dataset\n",
    "\n",
    "df1 = df_raw.copy()"
   ]
  },
  {
   "cell_type": "code",
   "execution_count": 10,
   "id": "88de9a4b",
   "metadata": {
    "ExecuteTime": {
     "end_time": "2023-06-23T22:35:45.339400Z",
     "start_time": "2023-06-23T22:35:45.330329Z"
    },
    "hidden": true
   },
   "outputs": [],
   "source": [
    "# Separando features de targets\n",
    "\n",
    "X = df1.drop('Exited', axis=1)\n",
    "y = df1['Exited']"
   ]
  },
  {
   "cell_type": "code",
   "execution_count": 11,
   "id": "9f4a74fb",
   "metadata": {
    "ExecuteTime": {
     "end_time": "2023-06-23T22:35:45.378627Z",
     "start_time": "2023-06-23T22:35:45.348093Z"
    },
    "hidden": true
   },
   "outputs": [],
   "source": [
    "# Separando os dados em treino, teste e validação\n",
    "\n",
    "X_train_val, X_test, y_train_val, y_test = train_test_split(X, y, test_size=0.1, stratify=y, random_state=42)\n",
    "\n",
    "X_train, X_val, y_train, y_val = train_test_split(\n",
    "    X_train_val, y_train_val, test_size=0.1, stratify=y_train_val, random_state=42)"
   ]
  },
  {
   "cell_type": "code",
   "execution_count": 12,
   "id": "cd4c1f30",
   "metadata": {
    "ExecuteTime": {
     "end_time": "2023-06-23T22:35:45.392445Z",
     "start_time": "2023-06-23T22:35:45.385360Z"
    },
    "hidden": true
   },
   "outputs": [
    {
     "name": "stdout",
     "output_type": "stream",
     "text": [
      "Dados de treino: 8100\n",
      "Dados de validação:900\n",
      "Dados de teste: 1000\n"
     ]
    }
   ],
   "source": [
    "# Dimensionalidade\n",
    "\n",
    "print(f'Dados de treino: {X_train.shape[0]}')\n",
    "print(f'Dados de validação:{X_val.shape[0]}')\n",
    "print(f'Dados de teste: {X_test.shape[0]}')"
   ]
  },
  {
   "cell_type": "markdown",
   "id": "42900a4f",
   "metadata": {},
   "source": [
    "# 5. EDA"
   ]
  },
  {
   "cell_type": "code",
   "execution_count": 13,
   "id": "5f7021ef",
   "metadata": {
    "ExecuteTime": {
     "end_time": "2023-06-23T22:35:45.873892Z",
     "start_time": "2023-06-23T22:35:45.396557Z"
    }
   },
   "outputs": [
    {
     "data": {
      "text/plain": [
       "<function matplotlib.pyplot.show(close=None, block=None)>"
      ]
     },
     "execution_count": 13,
     "metadata": {},
     "output_type": "execute_result"
    },
    {
     "data": {
      "image/png": "[encoded data removed]",
      "text/plain": [
       "<Figure size 432x288 with 1 Axes>"
      ]
     },
     "metadata": {
      "needs_background": "light"
     },
     "output_type": "display_data"
    }
   ],
   "source": [
    "# Verificando se as classes estão desbalanceadas\n",
    "\n",
    "sns.countplot(data=X_train.join(y_train), x='Exited', palette=['lightblue', 'red'])\n",
    "plt.grid()\n",
    "plt.show"
   ]
  },
  {
   "cell_type": "code",
   "execution_count": 14,
   "id": "222eb7d4",
   "metadata": {
    "ExecuteTime": {
     "end_time": "2023-06-23T22:35:45.897283Z",
     "start_time": "2023-06-23T22:35:45.877868Z"
    }
   },
   "outputs": [
    {
     "data": {
      "text/plain": [
       "0    0.796296\n",
       "1    0.203704\n",
       "Name: Exited, dtype: float64"
      ]
     },
     "execution_count": 14,
     "metadata": {},
     "output_type": "execute_result"
    }
   ],
   "source": [
    "# Checando a porcentagem das classes\n",
    "\n",
    "y_train.value_counts(normalize=True)"
   ]
  },
  {
   "cell_type": "code",
   "execution_count": 15,
   "id": "a8dc6933",
   "metadata": {
    "ExecuteTime": {
     "end_time": "2023-06-23T22:35:46.521275Z",
     "start_time": "2023-06-23T22:35:45.906604Z"
    }
   },
   "outputs": [
    {
     "data": {
      "image/png": "[encoded data removed]",
      "text/plain": [
       "<Figure size 432x288 with 1 Axes>"
      ]
     },
     "metadata": {
      "needs_background": "light"
     },
     "output_type": "display_data"
    }
   ],
   "source": [
    "# Churn na quantidade de meses ativos\n",
    "\n",
    "data = pd.concat([X_train, y_train], axis=1)\n",
    "\n",
    "sns.histplot(data=data, x='Tenure', hue='Exited', discrete=True)\n",
    "plt.grid()"
   ]
  },
  {
   "cell_type": "code",
   "execution_count": 16,
   "id": "8485ce55",
   "metadata": {
    "ExecuteTime": {
     "end_time": "2023-06-23T22:35:46.547687Z",
     "start_time": "2023-06-23T22:35:46.525394Z"
    }
   },
   "outputs": [],
   "source": [
    "# Separando colunas com dados numéricos\n",
    "colunas_numericas = X_train.join(\n",
    "    y_train).select_dtypes(include=['int64', 'float64'])\n",
    "\n",
    "# Separando colunas com dados categóricos\n",
    "colunas_categoricas = X_train.join(y_train).select_dtypes(\n",
    "    exclude=['int64', 'float64'])"
   ]
  },
  {
   "cell_type": "markdown",
   "id": "f66f12a8",
   "metadata": {
    "heading_collapsed": true
   },
   "source": [
    "### 5.1 Dados numéricos"
   ]
  },
  {
   "cell_type": "code",
   "execution_count": 17,
   "id": "a4b9a8b8",
   "metadata": {
    "ExecuteTime": {
     "end_time": "2023-06-23T22:35:51.305621Z",
     "start_time": "2023-06-23T22:35:46.553479Z"
    },
    "hidden": true
   },
   "outputs": [
    {
     "data": {
      "image/png": "[encoded data removed]",
      "text/plain": [
       "<Figure size 1800x1800 with 12 Axes>"
      ]
     },
     "metadata": {
      "needs_background": "light"
     },
     "output_type": "display_data"
    }
   ],
   "source": [
    "# Checando as distribuições das variáveis numéricas\n",
    "\n",
    "colunas_numericas.hist(figsize=(25, 25), bins=25);"
   ]
  },
  {
   "cell_type": "code",
   "execution_count": 18,
   "id": "320d646f",
   "metadata": {
    "ExecuteTime": {
     "end_time": "2023-06-23T22:35:51.329680Z",
     "start_time": "2023-06-23T22:35:51.308918Z"
    },
    "hidden": true
   },
   "outputs": [
    {
     "data": {
      "text/plain": [
       "1    0.5151\n",
       "0    0.4849\n",
       "Name: IsActiveMember, dtype: float64"
      ]
     },
     "execution_count": 18,
     "metadata": {},
     "output_type": "execute_result"
    }
   ],
   "source": [
    "# Verificando quantidade de clientes ativos\n",
    "\n",
    "df_raw['IsActiveMember'].value_counts(normalize=True)"
   ]
  },
  {
   "cell_type": "code",
   "execution_count": 19,
   "id": "a2f8e615",
   "metadata": {
    "ExecuteTime": {
     "end_time": "2023-06-23T22:35:51.354504Z",
     "start_time": "2023-06-23T22:35:51.333375Z"
    },
    "hidden": true
   },
   "outputs": [
    {
     "data": {
      "text/plain": [
       "1    0.7055\n",
       "0    0.2945\n",
       "Name: HasCrCard, dtype: float64"
      ]
     },
     "execution_count": 19,
     "metadata": {},
     "output_type": "execute_result"
    }
   ],
   "source": [
    "# Contabilizando clientes com e sem cartão de crédito\n",
    "\n",
    "df_raw['HasCrCard'].value_counts(normalize=True)"
   ]
  },
  {
   "cell_type": "code",
   "execution_count": 20,
   "id": "90f51137",
   "metadata": {
    "ExecuteTime": {
     "end_time": "2023-06-23T22:35:51.390821Z",
     "start_time": "2023-06-23T22:35:51.366949Z"
    },
    "hidden": true
   },
   "outputs": [
    {
     "data": {
      "text/plain": [
       "1    0.5084\n",
       "2    0.4590\n",
       "3    0.0266\n",
       "4    0.0060\n",
       "Name: NumOfProducts, dtype: float64"
      ]
     },
     "execution_count": 20,
     "metadata": {},
     "output_type": "execute_result"
    }
   ],
   "source": [
    "# Quantidade de clientes por serviço oferecido\n",
    "\n",
    "df_raw['NumOfProducts'].value_counts(normalize=True)"
   ]
  },
  {
   "cell_type": "code",
   "execution_count": 21,
   "id": "ecbdf340",
   "metadata": {
    "ExecuteTime": {
     "end_time": "2023-06-23T22:35:52.051296Z",
     "start_time": "2023-06-23T22:35:51.401980Z"
    },
    "hidden": true
   },
   "outputs": [
    {
     "data": {
      "image/png": "[encoded data removed]",
      "text/plain": [
       "<Figure size 720x360 with 2 Axes>"
      ]
     },
     "metadata": {
      "needs_background": "light"
     },
     "output_type": "display_data"
    }
   ],
   "source": [
    "# Tenure (meses com clientes ativos)\n",
    "\n",
    "plt.figure(figsize=(10, 5))\n",
    "\n",
    "# Histograma\n",
    "plt.subplot(1, 2, 1)\n",
    "sns.histplot(data=df_raw['Tenure'])\n",
    "plt.grid()\n",
    "\n",
    "# Boxplot\n",
    "plt.subplot(1, 2, 2)\n",
    "plt.grid()\n",
    "sns.boxplot(data=df_raw['Tenure'])\n",
    "\n",
    "plt.show()"
   ]
  },
  {
   "cell_type": "code",
   "execution_count": 22,
   "id": "d8170fae",
   "metadata": {
    "ExecuteTime": {
     "end_time": "2023-06-23T22:35:52.081515Z",
     "start_time": "2023-06-23T22:35:52.062215Z"
    },
    "hidden": true
   },
   "outputs": [
    {
     "data": {
      "text/plain": [
       "413"
      ]
     },
     "execution_count": 22,
     "metadata": {},
     "output_type": "execute_result"
    }
   ],
   "source": [
    "# Quantos clientes são recém-chegados\n",
    "\n",
    "(df_raw['Tenure'] == 0).sum()"
   ]
  },
  {
   "cell_type": "code",
   "execution_count": 23,
   "id": "c3d2be1f",
   "metadata": {
    "ExecuteTime": {
     "end_time": "2023-06-23T22:35:52.129866Z",
     "start_time": "2023-06-23T22:35:52.106290Z"
    },
    "hidden": true
   },
   "outputs": [
    {
     "data": {
      "text/plain": [
       "2     0.1048\n",
       "1     0.1035\n",
       "7     0.1028\n",
       "8     0.1025\n",
       "5     0.1012\n",
       "3     0.1009\n",
       "4     0.0989\n",
       "9     0.0984\n",
       "6     0.0967\n",
       "10    0.0490\n",
       "0     0.0413\n",
       "Name: Tenure, dtype: float64"
      ]
     },
     "execution_count": 23,
     "metadata": {},
     "output_type": "execute_result"
    }
   ],
   "source": [
    "# Porcentagem de clientes por mês que permaneceu ativo\n",
    "\n",
    "df_raw['Tenure'].value_counts(normalize=True)"
   ]
  },
  {
   "cell_type": "code",
   "execution_count": 24,
   "id": "b96ac69c",
   "metadata": {
    "ExecuteTime": {
     "end_time": "2023-06-23T22:35:52.770641Z",
     "start_time": "2023-06-23T22:35:52.138639Z"
    },
    "hidden": true
   },
   "outputs": [
    {
     "data": {
      "image/png": "[encoded data removed]",
      "text/plain": [
       "<Figure size 432x288 with 1 Axes>"
      ]
     },
     "metadata": {
      "needs_background": "light"
     },
     "output_type": "display_data"
    }
   ],
   "source": [
    "# Meses ativos e churn\n",
    "\n",
    "sns.histplot(data=X_train.join(y_train)[X_train['IsActiveMember'] == 0], x='Tenure', hue='Exited', discrete=True)\n",
    "plt.grid()"
   ]
  },
  {
   "cell_type": "markdown",
   "id": "5eb603ae",
   "metadata": {
    "hidden": true
   },
   "source": [
    "Não há diferença."
   ]
  },
  {
   "cell_type": "code",
   "execution_count": 25,
   "id": "9b72f45b",
   "metadata": {
    "ExecuteTime": {
     "end_time": "2023-06-23T22:35:53.749910Z",
     "start_time": "2023-06-23T22:35:52.780636Z"
    },
    "hidden": true
   },
   "outputs": [
    {
     "data": {
      "text/plain": [
       "<function matplotlib.pyplot.show(close=None, block=None)>"
      ]
     },
     "execution_count": 25,
     "metadata": {},
     "output_type": "execute_result"
    },
    {
     "data": {
      "image/png": "[encoded data removed]",
      "text/plain": [
       "<Figure size 720x360 with 2 Axes>"
      ]
     },
     "metadata": {
      "needs_background": "light"
     },
     "output_type": "display_data"
    }
   ],
   "source": [
    "# Correlação linear de Pearson\n",
    "\n",
    "plt.figure(figsize=(10, 5))\n",
    "\n",
    "cols = colunas_numericas[['Age', 'CreditScore', 'Tenure',\n",
    "                          'Balance', 'EstimatedSalary', 'NumOfProducts']].join(y_train)\n",
    "\n",
    "sns.heatmap(cols.corr(method='pearson'), annot=True)\n",
    "plt.show"
   ]
  },
  {
   "cell_type": "markdown",
   "id": "109cfa4d",
   "metadata": {
    "hidden": true
   },
   "source": [
    "Existe uma certa correlação linear entre 'Age' e 'Exited'."
   ]
  },
  {
   "cell_type": "markdown",
   "id": "22f84c9c",
   "metadata": {
    "heading_collapsed": true
   },
   "source": [
    "### 5.2 Dados categóricos"
   ]
  },
  {
   "cell_type": "code",
   "execution_count": 26,
   "id": "767c083a",
   "metadata": {
    "ExecuteTime": {
     "end_time": "2023-06-23T22:35:53.787588Z",
     "start_time": "2023-06-23T22:35:53.766061Z"
    },
    "hidden": true
   },
   "outputs": [
    {
     "data": {
      "text/plain": [
       "Surname      2642\n",
       "Geography       3\n",
       "Gender          2\n",
       "dtype: int64"
      ]
     },
     "execution_count": 26,
     "metadata": {},
     "output_type": "execute_result"
    }
   ],
   "source": [
    "# Valores únicos dos dados categóricos\n",
    "\n",
    "colunas_categoricas.apply(lambda x: x.unique().shape[0])"
   ]
  },
  {
   "cell_type": "code",
   "execution_count": 27,
   "id": "b59b0283",
   "metadata": {
    "ExecuteTime": {
     "end_time": "2023-06-23T22:35:54.130041Z",
     "start_time": "2023-06-23T22:35:53.800975Z"
    },
    "hidden": true
   },
   "outputs": [
    {
     "data": {
      "image/png": "[encoded data removed]",
      "text/plain": [
       "<Figure size 432x288 with 1 Axes>"
      ]
     },
     "metadata": {
      "needs_background": "light"
     },
     "output_type": "display_data"
    }
   ],
   "source": [
    "# Verificando a quantidade de clientes em cada país\n",
    "\n",
    "sns.countplot(data=X_train.join(y_train), x='Geography')\n",
    "plt.grid()\n",
    "plt.show()"
   ]
  },
  {
   "cell_type": "code",
   "execution_count": 28,
   "id": "96cadb1f",
   "metadata": {
    "ExecuteTime": {
     "end_time": "2023-06-23T22:35:54.164504Z",
     "start_time": "2023-06-23T22:35:54.140222Z"
    },
    "hidden": true
   },
   "outputs": [
    {
     "data": {
      "text/plain": [
       "France     0.5014\n",
       "Germany    0.2509\n",
       "Spain      0.2477\n",
       "Name: Geography, dtype: float64"
      ]
     },
     "execution_count": 28,
     "metadata": {},
     "output_type": "execute_result"
    }
   ],
   "source": [
    "# Checando a quantidade de clientes por país cadastrado\n",
    "\n",
    "df_raw['Geography'].value_counts(normalize=True)"
   ]
  },
  {
   "cell_type": "code",
   "execution_count": 29,
   "id": "3e2f9075",
   "metadata": {
    "ExecuteTime": {
     "end_time": "2023-06-23T22:35:54.375669Z",
     "start_time": "2023-06-23T22:35:54.174725Z"
    },
    "hidden": true
   },
   "outputs": [
    {
     "data": {
      "image/png": "[encoded data removed]",
      "text/plain": [
       "<Figure size 432x288 with 1 Axes>"
      ]
     },
     "metadata": {
      "needs_background": "light"
     },
     "output_type": "display_data"
    }
   ],
   "source": [
    "# Quantidade de pessoas por gênero\n",
    "\n",
    "sns.countplot(data=X_train.join(y_train), x='Gender')\n",
    "plt.grid()\n",
    "plt.show()"
   ]
  },
  {
   "cell_type": "code",
   "execution_count": 30,
   "id": "9085e05c",
   "metadata": {
    "ExecuteTime": {
     "end_time": "2023-06-23T22:35:54.403626Z",
     "start_time": "2023-06-23T22:35:54.384986Z"
    },
    "hidden": true
   },
   "outputs": [
    {
     "data": {
      "text/plain": [
       "Male      0.5457\n",
       "Female    0.4543\n",
       "Name: Gender, dtype: float64"
      ]
     },
     "execution_count": 30,
     "metadata": {},
     "output_type": "execute_result"
    }
   ],
   "source": [
    "# Contabilizando clientes por gênero\n",
    "\n",
    "df_raw['Gender'].value_counts(normalize=True)"
   ]
  },
  {
   "cell_type": "code",
   "execution_count": 31,
   "id": "f920f511",
   "metadata": {
    "ExecuteTime": {
     "end_time": "2023-06-23T22:35:54.879654Z",
     "start_time": "2023-06-23T22:35:54.416229Z"
    },
    "hidden": true
   },
   "outputs": [
    {
     "data": {
      "image/png": "[encoded data removed]",
      "text/plain": [
       "<Figure size 432x288 with 1 Axes>"
      ]
     },
     "metadata": {
      "needs_background": "light"
     },
     "output_type": "display_data"
    }
   ],
   "source": [
    "# Consumo dos tipos de serviço oferecidos por gênero\n",
    "\n",
    "X_train.join(y_train).groupby(['Gender', 'NumOfProducts']).size().unstack().plot(kind='bar')\n",
    "plt.grid()"
   ]
  },
  {
   "cell_type": "markdown",
   "id": "b90989d3",
   "metadata": {
    "hidden": true
   },
   "source": [
    "Não há diferença de compra dos diferentes serviços entre os gêneros."
   ]
  },
  {
   "cell_type": "code",
   "execution_count": 32,
   "id": "e985f9f8",
   "metadata": {
    "ExecuteTime": {
     "end_time": "2023-06-23T22:35:55.325961Z",
     "start_time": "2023-06-23T22:35:54.883349Z"
    },
    "hidden": true
   },
   "outputs": [
    {
     "data": {
      "image/png": "[encoded data removed]",
      "text/plain": [
       "<Figure size 432x288 with 1 Axes>"
      ]
     },
     "metadata": {
      "needs_background": "light"
     },
     "output_type": "display_data"
    }
   ],
   "source": [
    "# Clientes ativos e serviços oferecidos\n",
    "\n",
    "X_train.join(y_train).groupby(['NumOfProducts', 'IsActiveMember']).size().unstack().plot(kind='bar')\n",
    "plt.grid()"
   ]
  },
  {
   "cell_type": "markdown",
   "id": "3b326f6e",
   "metadata": {
    "hidden": true
   },
   "source": [
    "Até a compra de 2 produtos, os membros ativos compram um pouco mais que os clientes não ativos, porém quando chega a 3 produtos, os clientes ativos compram menos."
   ]
  },
  {
   "cell_type": "code",
   "execution_count": 33,
   "id": "16c34e1e",
   "metadata": {
    "ExecuteTime": {
     "end_time": "2023-06-23T22:35:55.755964Z",
     "start_time": "2023-06-23T22:35:55.329741Z"
    },
    "hidden": true
   },
   "outputs": [
    {
     "data": {
      "image/png": "[encoded data removed]",
      "text/plain": [
       "<Figure size 432x288 with 1 Axes>"
      ]
     },
     "metadata": {
      "needs_background": "light"
     },
     "output_type": "display_data"
    }
   ],
   "source": [
    "# Churn por gênero\n",
    "\n",
    "X_train.join(y_train).groupby(['Gender', 'Exited']).size().unstack().plot(kind='bar')\n",
    "plt.grid()"
   ]
  },
  {
   "cell_type": "code",
   "execution_count": 34,
   "id": "ed595fa2",
   "metadata": {
    "ExecuteTime": {
     "end_time": "2023-06-23T22:35:55.787997Z",
     "start_time": "2023-06-23T22:35:55.759634Z"
    },
    "hidden": true
   },
   "outputs": [
    {
     "data": {
      "text/html": [
       "<div>\n",
       "<style scoped>\n",
       "    .dataframe tbody tr th:only-of-type {\n",
       "        vertical-align: middle;\n",
       "    }\n",
       "\n",
       "    .dataframe tbody tr th {\n",
       "        vertical-align: top;\n",
       "    }\n",
       "\n",
       "    .dataframe thead th {\n",
       "        text-align: right;\n",
       "    }\n",
       "</style>\n",
       "<table border=\"1\" class=\"dataframe\">\n",
       "  <thead>\n",
       "    <tr style=\"text-align: right;\">\n",
       "      <th>Exited</th>\n",
       "      <th>0</th>\n",
       "      <th>1</th>\n",
       "    </tr>\n",
       "    <tr>\n",
       "      <th>Gender</th>\n",
       "      <th></th>\n",
       "      <th></th>\n",
       "    </tr>\n",
       "  </thead>\n",
       "  <tbody>\n",
       "    <tr>\n",
       "      <th>Female</th>\n",
       "      <td>2753</td>\n",
       "      <td>924</td>\n",
       "    </tr>\n",
       "    <tr>\n",
       "      <th>Male</th>\n",
       "      <td>3697</td>\n",
       "      <td>726</td>\n",
       "    </tr>\n",
       "  </tbody>\n",
       "</table>\n",
       "</div>"
      ],
      "text/plain": [
       "Exited     0    1\n",
       "Gender           \n",
       "Female  2753  924\n",
       "Male    3697  726"
      ]
     },
     "execution_count": 34,
     "metadata": {},
     "output_type": "execute_result"
    }
   ],
   "source": [
    "churn_gender = X_train.join(y_train).groupby(['Gender', 'Exited']).size().unstack()\n",
    "churn_gender"
   ]
  },
  {
   "cell_type": "code",
   "execution_count": 35,
   "id": "f72ee973",
   "metadata": {
    "ExecuteTime": {
     "end_time": "2023-06-23T22:35:55.814588Z",
     "start_time": "2023-06-23T22:35:55.794054Z"
    },
    "hidden": true
   },
   "outputs": [
    {
     "data": {
      "text/plain": [
       "Gender\n",
       "Female    0.251292\n",
       "Male      0.164142\n",
       "dtype: float64"
      ]
     },
     "execution_count": 35,
     "metadata": {},
     "output_type": "execute_result"
    }
   ],
   "source": [
    "# Proporção de gênero por churn\n",
    "\n",
    "churn_gender.iloc[:, 1] / churn_gender.sum(axis=1)"
   ]
  },
  {
   "cell_type": "markdown",
   "id": "5317ae1f",
   "metadata": {
    "hidden": true
   },
   "source": [
    "Mulheres dão mais churn."
   ]
  },
  {
   "cell_type": "code",
   "execution_count": 36,
   "id": "27db9ef1",
   "metadata": {
    "ExecuteTime": {
     "end_time": "2023-06-23T22:35:56.178252Z",
     "start_time": "2023-06-23T22:35:55.818227Z"
    },
    "hidden": true
   },
   "outputs": [
    {
     "data": {
      "image/png": "[encoded data removed]",
      "text/plain": [
       "<Figure size 432x288 with 1 Axes>"
      ]
     },
     "metadata": {
      "needs_background": "light"
     },
     "output_type": "display_data"
    }
   ],
   "source": [
    "# Uso de cartão de crédito por país\n",
    "\n",
    "X_train.join(y_train).groupby(['Geography', 'HasCrCard']).size().unstack().plot(kind='bar')\n",
    "plt.grid()"
   ]
  },
  {
   "cell_type": "code",
   "execution_count": 37,
   "id": "576fe2a3",
   "metadata": {
    "ExecuteTime": {
     "end_time": "2023-06-23T22:35:56.202061Z",
     "start_time": "2023-06-23T22:35:56.182442Z"
    },
    "hidden": true
   },
   "outputs": [
    {
     "data": {
      "text/plain": [
       "Geography\n",
       "France     0.706377\n",
       "Germany    0.719961\n",
       "Spain      0.700248\n",
       "dtype: float64"
      ]
     },
     "execution_count": 37,
     "metadata": {},
     "output_type": "execute_result"
    }
   ],
   "source": [
    "# Proporção de clientes dos diferentes países com o cartão de crédito\n",
    "\n",
    "h5 = X_train.join(y_train).groupby(['Geography', 'HasCrCard']).size().unstack()\n",
    "h5.iloc[:, 1] / h5.sum(axis=1)"
   ]
  },
  {
   "cell_type": "markdown",
   "id": "44699ac8",
   "metadata": {
    "hidden": true
   },
   "source": [
    "A proporção é praticamente a mesma."
   ]
  },
  {
   "cell_type": "code",
   "execution_count": 38,
   "id": "4ee8fb13",
   "metadata": {
    "ExecuteTime": {
     "end_time": "2023-06-23T22:35:57.312941Z",
     "start_time": "2023-06-23T22:35:56.205432Z"
    },
    "hidden": true
   },
   "outputs": [
    {
     "data": {
      "image/png": "[encoded data removed]",
      "text/plain": [
       "<Figure size 432x288 with 1 Axes>"
      ]
     },
     "metadata": {
      "needs_background": "light"
     },
     "output_type": "display_data"
    }
   ],
   "source": [
    "# CreditScore dos clientes dos diferentes países\n",
    "\n",
    "sns.histplot(X_train.join(y_train), x='CreditScore', hue='Geography')\n",
    "plt.grid()"
   ]
  },
  {
   "cell_type": "code",
   "execution_count": 39,
   "id": "cef7c8ea",
   "metadata": {
    "ExecuteTime": {
     "end_time": "2023-06-23T22:35:57.369752Z",
     "start_time": "2023-06-23T22:35:57.316917Z"
    },
    "hidden": true
   },
   "outputs": [
    {
     "data": {
      "text/html": [
       "<div>\n",
       "<style scoped>\n",
       "    .dataframe tbody tr th:only-of-type {\n",
       "        vertical-align: middle;\n",
       "    }\n",
       "\n",
       "    .dataframe tbody tr th {\n",
       "        vertical-align: top;\n",
       "    }\n",
       "\n",
       "    .dataframe thead tr th {\n",
       "        text-align: left;\n",
       "    }\n",
       "</style>\n",
       "<table border=\"1\" class=\"dataframe\">\n",
       "  <thead>\n",
       "    <tr>\n",
       "      <th></th>\n",
       "      <th>Geography</th>\n",
       "      <th colspan=\"8\" halign=\"left\">CreditScore</th>\n",
       "    </tr>\n",
       "    <tr>\n",
       "      <th></th>\n",
       "      <th></th>\n",
       "      <th>count</th>\n",
       "      <th>mean</th>\n",
       "      <th>std</th>\n",
       "      <th>min</th>\n",
       "      <th>25%</th>\n",
       "      <th>50%</th>\n",
       "      <th>75%</th>\n",
       "      <th>max</th>\n",
       "    </tr>\n",
       "  </thead>\n",
       "  <tbody>\n",
       "    <tr>\n",
       "      <th>0</th>\n",
       "      <td>France</td>\n",
       "      <td>4046.0</td>\n",
       "      <td>650.727138</td>\n",
       "      <td>97.023465</td>\n",
       "      <td>350.0</td>\n",
       "      <td>583.0</td>\n",
       "      <td>654.0</td>\n",
       "      <td>718.0</td>\n",
       "      <td>850.0</td>\n",
       "    </tr>\n",
       "    <tr>\n",
       "      <th>1</th>\n",
       "      <td>Germany</td>\n",
       "      <td>2039.0</td>\n",
       "      <td>651.898970</td>\n",
       "      <td>97.907702</td>\n",
       "      <td>350.0</td>\n",
       "      <td>585.0</td>\n",
       "      <td>651.0</td>\n",
       "      <td>723.0</td>\n",
       "      <td>850.0</td>\n",
       "    </tr>\n",
       "    <tr>\n",
       "      <th>2</th>\n",
       "      <td>Spain</td>\n",
       "      <td>2015.0</td>\n",
       "      <td>652.482878</td>\n",
       "      <td>94.167035</td>\n",
       "      <td>358.0</td>\n",
       "      <td>588.0</td>\n",
       "      <td>653.0</td>\n",
       "      <td>717.0</td>\n",
       "      <td>850.0</td>\n",
       "    </tr>\n",
       "  </tbody>\n",
       "</table>\n",
       "</div>"
      ],
      "text/plain": [
       "  Geography CreditScore                                                     \\\n",
       "                  count        mean        std    min    25%    50%    75%   \n",
       "0    France      4046.0  650.727138  97.023465  350.0  583.0  654.0  718.0   \n",
       "1   Germany      2039.0  651.898970  97.907702  350.0  585.0  651.0  723.0   \n",
       "2     Spain      2015.0  652.482878  94.167035  358.0  588.0  653.0  717.0   \n",
       "\n",
       "          \n",
       "     max  \n",
       "0  850.0  \n",
       "1  850.0  \n",
       "2  850.0  "
      ]
     },
     "execution_count": 39,
     "metadata": {},
     "output_type": "execute_result"
    }
   ],
   "source": [
    "X_train[['CreditScore', 'Geography']].groupby('Geography').describe().reset_index()"
   ]
  },
  {
   "cell_type": "markdown",
   "id": "af3938e2",
   "metadata": {
    "hidden": true
   },
   "source": [
    "Não foi vista nenhuma diferença entre as distribuições."
   ]
  },
  {
   "cell_type": "code",
   "execution_count": 40,
   "id": "cc9f7760",
   "metadata": {
    "ExecuteTime": {
     "end_time": "2023-06-23T22:35:57.731887Z",
     "start_time": "2023-06-23T22:35:57.374738Z"
    },
    "hidden": true
   },
   "outputs": [
    {
     "data": {
      "image/png": "[encoded data removed]",
      "text/plain": [
       "<Figure size 432x288 with 1 Axes>"
      ]
     },
     "metadata": {
      "needs_background": "light"
     },
     "output_type": "display_data"
    }
   ],
   "source": [
    "# Churn em cada país\n",
    "\n",
    "X_train.join(y_train).groupby(['Geography', 'Exited']).size().unstack().plot(kind='bar')\n",
    "plt.grid()"
   ]
  },
  {
   "cell_type": "code",
   "execution_count": 41,
   "id": "06184591",
   "metadata": {
    "ExecuteTime": {
     "end_time": "2023-06-23T22:35:57.759455Z",
     "start_time": "2023-06-23T22:35:57.735667Z"
    },
    "hidden": true
   },
   "outputs": [
    {
     "data": {
      "text/plain": [
       "Geography\n",
       "France     0.162383\n",
       "Germany    0.326140\n",
       "Spain      0.162779\n",
       "dtype: float64"
      ]
     },
     "execution_count": 41,
     "metadata": {},
     "output_type": "execute_result"
    }
   ],
   "source": [
    "# Proporção do churn por país\n",
    "\n",
    "h7 = X_train.join(y_train).groupby(['Geography', 'Exited']).size().unstack()\n",
    "\n",
    "h7.iloc[:, 1] / h7.sum(axis=1)"
   ]
  },
  {
   "cell_type": "markdown",
   "id": "6be57fe3",
   "metadata": {
    "hidden": true
   },
   "source": [
    "Não foi notada nenhuma diferença entre a França e Espanha, no entanto, a Alemanha apresenta maior churn."
   ]
  },
  {
   "cell_type": "markdown",
   "id": "c7fa7eba",
   "metadata": {
    "heading_collapsed": true
   },
   "source": [
    "# 6. Feature Engineering / Transformação / Pipeline"
   ]
  },
  {
   "cell_type": "markdown",
   "id": "cfa200e2",
   "metadata": {
    "hidden": true
   },
   "source": [
    "* Inserindo coluna de gasto por salário\n",
    "\n",
    "* BalancePerSalary = 'Balance' / 'EstimatedSalary'"
   ]
  },
  {
   "cell_type": "code",
   "execution_count": 42,
   "id": "d767267d",
   "metadata": {
    "ExecuteTime": {
     "end_time": "2023-06-23T22:35:57.781446Z",
     "start_time": "2023-06-23T22:35:57.764418Z"
    },
    "hidden": true
   },
   "outputs": [],
   "source": [
    "# Criando classes para tratar igualmente os dados de treino, teste e validação\n",
    "\n",
    "from sklearn.base import BaseEstimator, TransformerMixin\n",
    "\n",
    "\n",
    "class Feature_drop(BaseEstimator, TransformerMixin):\n",
    "    def __init__(self, cols):\n",
    "        self.cols = cols\n",
    "\n",
    "    def fit(self, X, y=None):\n",
    "        return self\n",
    "\n",
    "    def transform(self, X, y=None):\n",
    "        return X.drop(self.cols, axis=1)\n",
    "\n",
    "\n",
    "class Add_BalancePerSalary(BaseEstimator, TransformerMixin):\n",
    "    def __init__(self):\n",
    "        pass\n",
    "\n",
    "    def fit(self, X, y=None):\n",
    "        return self\n",
    "\n",
    "    def transform(self, X, y=None):\n",
    "        X['BalancePerSalary'] = X['Balance']/X['EstimatedSalary']\n",
    "        return X"
   ]
  },
  {
   "cell_type": "code",
   "execution_count": 43,
   "id": "48375e65",
   "metadata": {
    "ExecuteTime": {
     "end_time": "2023-06-23T22:35:57.796885Z",
     "start_time": "2023-06-23T22:35:57.789837Z"
    },
    "hidden": true
   },
   "outputs": [],
   "source": [
    "# Criação do pipeline / transformação\n",
    "\n",
    "fd = Feature_drop(['RowNumber', 'CustomerId', 'Surname']) # Para dropar as colunas\n",
    "\n",
    "ohe = OneHotEncoder(drop='first', sparse_output=False) # Instanciando para o encoder\n",
    "\n",
    "ohe_ct = ColumnTransformer([('ohe_ct', ohe, ['Geography', 'Gender'])], remainder='passthrough')\n",
    "\n",
    "standard_scaler = StandardScaler() # Instanciando para ajustar a escala\n",
    "\n",
    "pipeline = Pipeline([('drop', fd), ('one_hot', ohe_ct),\n",
    "                     ('StanderScaler', standard_scaler)])"
   ]
  },
  {
   "cell_type": "code",
   "execution_count": 44,
   "id": "b207df63",
   "metadata": {
    "ExecuteTime": {
     "end_time": "2023-06-23T22:35:57.841707Z",
     "start_time": "2023-06-23T22:35:57.801683Z"
    },
    "hidden": true
   },
   "outputs": [],
   "source": [
    "# Transformando os dados de treino\n",
    "\n",
    "X_train_tr = pipeline.fit_transform(X_train)\n",
    "\n",
    "\n",
    "# Transformando os dados de validação\n",
    "\n",
    "X_val_tr = pipeline.transform(X_val)"
   ]
  },
  {
   "cell_type": "code",
   "execution_count": 45,
   "id": "2f3623d5",
   "metadata": {
    "ExecuteTime": {
     "end_time": "2023-06-23T22:38:31.228864Z",
     "start_time": "2023-06-23T22:35:57.845971Z"
    },
    "hidden": true
   },
   "outputs": [],
   "source": [
    "# Verificando a separabilidade dos dados com o TSNE\n",
    "\n",
    "tsne = TSNE(n_components=2, random_state=42)\n",
    "\n",
    "X_reduced = tsne.fit_transform(X_train_tr)"
   ]
  },
  {
   "cell_type": "code",
   "execution_count": 46,
   "id": "370d1294",
   "metadata": {
    "ExecuteTime": {
     "end_time": "2023-06-23T22:38:31.694807Z",
     "start_time": "2023-06-23T22:38:31.241062Z"
    },
    "hidden": true
   },
   "outputs": [
    {
     "data": {
      "image/png": "[encoded data removed]",
      "text/plain": [
       "<Figure size 504x504 with 1 Axes>"
      ]
     },
     "metadata": {
      "needs_background": "light"
     },
     "output_type": "display_data"
    }
   ],
   "source": [
    "plt.figure(figsize=(7,7))\n",
    "plt.scatter(X_reduced[y_train == 0, 0], X_reduced[y_train == 0, 1], alpha=0.3)\n",
    "plt.scatter(X_reduced[y_train == 1, 0], X_reduced[y_train == 1, 1], alpha=0.3)\n",
    "plt.title('t-SNE para d=2 dimensões')\n",
    "plt.grid()\n",
    "plt.show()"
   ]
  },
  {
   "cell_type": "markdown",
   "id": "ebdd9fd0",
   "metadata": {
    "hidden": true
   },
   "source": [
    "Percebe-se, acima, que os dados possuem um indicativo de baixa separabilidade, pois, em duas dimensões, é difícil delimitar as regiões da classe 0 e da classe 1."
   ]
  },
  {
   "cell_type": "markdown",
   "id": "b485d0b3",
   "metadata": {},
   "source": [
    "# 7. Balanceamento das classes"
   ]
  },
  {
   "cell_type": "markdown",
   "id": "20664a11",
   "metadata": {},
   "source": [
    "É possível ver, abaixo, o balanceamento das classes pela remoção dos dados sobrerepresentados (undersampling) e a adição dos dados subamostrados (oversampling)."
   ]
  },
  {
   "cell_type": "code",
   "execution_count": 47,
   "id": "b8b344be",
   "metadata": {
    "ExecuteTime": {
     "end_time": "2023-06-23T22:38:31.709012Z",
     "start_time": "2023-06-23T22:38:31.698206Z"
    }
   },
   "outputs": [
    {
     "data": {
      "text/plain": [
       "0    0.796296\n",
       "1    0.203704\n",
       "Name: Exited, dtype: float64"
      ]
     },
     "execution_count": 47,
     "metadata": {},
     "output_type": "execute_result"
    }
   ],
   "source": [
    "# Proporção desbalanceada\n",
    "\n",
    "y_train.value_counts(normalize=True)"
   ]
  },
  {
   "cell_type": "code",
   "execution_count": 48,
   "id": "d81de516",
   "metadata": {
    "ExecuteTime": {
     "end_time": "2023-06-23T22:38:31.835696Z",
     "start_time": "2023-06-23T22:38:31.712018Z"
    }
   },
   "outputs": [
    {
     "name": "stdout",
     "output_type": "stream",
     "text": [
      "              precision    recall  f1-score   support\n",
      "\n",
      "           0       0.89      0.74      0.81       717\n",
      "           1       0.39      0.66      0.49       183\n",
      "\n",
      "    accuracy                           0.72       900\n",
      "   macro avg       0.64      0.70      0.65       900\n",
      "weighted avg       0.79      0.72      0.74       900\n",
      "\n",
      "AUC:  0.75\n"
     ]
    }
   ],
   "source": [
    "# Verificando perfomace com dados desbalanceados\n",
    "\n",
    "clf = LogisticRegression(class_weight='balanced', random_state=42)\n",
    "clf.fit(X_train_tr, y_train)\n",
    "y_pred = clf.predict(X_val_tr)\n",
    "y_score = clf.predict_proba(X_val_tr)[:,1]\n",
    "\n",
    "print(classification_report(y_val, y_pred))\n",
    "print('AUC: ', np.round(roc_auc_score(y_val, y_score),2))"
   ]
  },
  {
   "cell_type": "markdown",
   "id": "9e76f3f9",
   "metadata": {},
   "source": [
    "### 7.1 NearMiss (Undersampling)"
   ]
  },
  {
   "cell_type": "code",
   "execution_count": 49,
   "id": "60ea559a",
   "metadata": {
    "ExecuteTime": {
     "end_time": "2023-06-23T22:38:32.222038Z",
     "start_time": "2023-06-23T22:38:31.846386Z"
    }
   },
   "outputs": [],
   "source": [
    "nm = NearMiss(sampling_strategy=0.5)\n",
    "X_train_balanced, y_train_balanced = nm.fit_resample(X_train_tr, y_train)"
   ]
  },
  {
   "cell_type": "code",
   "execution_count": 50,
   "id": "0e83a91c",
   "metadata": {
    "ExecuteTime": {
     "end_time": "2023-06-23T22:38:32.239861Z",
     "start_time": "2023-06-23T22:38:32.228709Z"
    }
   },
   "outputs": [
    {
     "data": {
      "text/plain": [
       "0    0.666667\n",
       "1    0.333333\n",
       "Name: Exited, dtype: float64"
      ]
     },
     "execution_count": 50,
     "metadata": {},
     "output_type": "execute_result"
    }
   ],
   "source": [
    "# Checando nova proporção com NearMiss\n",
    "\n",
    "y_train_balanced.value_counts(normalize=True)"
   ]
  },
  {
   "cell_type": "code",
   "execution_count": 51,
   "id": "cb866d3b",
   "metadata": {
    "ExecuteTime": {
     "end_time": "2023-06-23T22:38:32.309180Z",
     "start_time": "2023-06-23T22:38:32.244726Z"
    }
   },
   "outputs": [
    {
     "name": "stdout",
     "output_type": "stream",
     "text": [
      "              precision    recall  f1-score   support\n",
      "\n",
      "           0       0.88      0.71      0.78       717\n",
      "           1       0.35      0.61      0.44       183\n",
      "\n",
      "    accuracy                           0.69       900\n",
      "   macro avg       0.61      0.66      0.61       900\n",
      "weighted avg       0.77      0.69      0.71       900\n",
      "\n",
      "AUC:  0.74\n"
     ]
    }
   ],
   "source": [
    "clf = LogisticRegression(class_weight='balanced', random_state=42)\n",
    "clf.fit(X_train_balanced, y_train_balanced)\n",
    "y_pred = clf.predict(X_val_tr)\n",
    "y_score = clf.predict_proba(X_val_tr)[:,1]\n",
    "\n",
    "print(classification_report(y_val, y_pred))\n",
    "print('AUC: ', np.round(roc_auc_score(y_val, y_score),2))"
   ]
  },
  {
   "cell_type": "markdown",
   "id": "661548cb",
   "metadata": {},
   "source": [
    "### 7.2 SMOTE (Oversampling)"
   ]
  },
  {
   "cell_type": "code",
   "execution_count": 52,
   "id": "133dfa63",
   "metadata": {
    "ExecuteTime": {
     "end_time": "2023-06-23T22:38:32.539146Z",
     "start_time": "2023-06-23T22:38:32.336676Z"
    }
   },
   "outputs": [
    {
     "name": "stdout",
     "output_type": "stream",
     "text": [
      "              precision    recall  f1-score   support\n",
      "\n",
      "           0       0.89      0.74      0.81       717\n",
      "           1       0.39      0.65      0.49       183\n",
      "\n",
      "    accuracy                           0.72       900\n",
      "   macro avg       0.64      0.69      0.65       900\n",
      "weighted avg       0.79      0.72      0.74       900\n",
      "\n",
      "AUC:  0.75\n"
     ]
    }
   ],
   "source": [
    "smote = SMOTE(sampling_strategy=0.5)\n",
    "X_train_balanced, y_train_balanced = smote.fit_resample(X_train_tr, y_train)\n",
    "\n",
    "clf = LogisticRegression(class_weight='balanced', random_state=42)\n",
    "clf.fit(X_train_balanced, y_train_balanced)\n",
    "y_pred = clf.predict(X_val_tr)\n",
    "y_score = clf.predict_proba(X_val_tr)[:,1]\n",
    "\n",
    "print(classification_report(y_val, y_pred))\n",
    "print('AUC: ', np.round(roc_auc_score(y_val, y_score),2))"
   ]
  },
  {
   "cell_type": "markdown",
   "id": "a8e96f27",
   "metadata": {},
   "source": [
    "Os resultados do balanceamento não demonstraram melhora, por esse motivo, seguimos com as classes desbalanceadas. A estratégia será ajustar o `class_weight` nos modelos, para atribuir maior prioridade à classe subamostrada."
   ]
  },
  {
   "cell_type": "markdown",
   "id": "a8c0f4e9",
   "metadata": {},
   "source": [
    "# 8. Feature selection"
   ]
  },
  {
   "cell_type": "markdown",
   "id": "5c2101b0",
   "metadata": {},
   "source": [
    "Foi utilizado o SelectKBest para selecionar as melhores features, utilizando ANOVA como teste estatístico. Além disso, foi feito um loop para verificar o número ideal de k features."
   ]
  },
  {
   "cell_type": "code",
   "execution_count": 53,
   "id": "7009b1d2",
   "metadata": {
    "ExecuteTime": {
     "end_time": "2023-06-23T22:38:32.575688Z",
     "start_time": "2023-06-23T22:38:32.549012Z"
    }
   },
   "outputs": [
    {
     "data": {
      "text/plain": [
       "(8100, 11)"
      ]
     },
     "execution_count": 53,
     "metadata": {},
     "output_type": "execute_result"
    }
   ],
   "source": [
    "# Dimensionalidade do X_train_tr\n",
    "\n",
    "X_train_tr.shape"
   ]
  },
  {
   "cell_type": "code",
   "execution_count": 54,
   "id": "d9708e93",
   "metadata": {
    "ExecuteTime": {
     "end_time": "2023-06-23T22:38:32.907687Z",
     "start_time": "2023-06-23T22:38:32.590233Z"
    }
   },
   "outputs": [],
   "source": [
    "# Lista com o número de features\n",
    "k_array = np.arange(1,12)\n",
    "\n",
    "# Lista vazia para armazenar os valores de AUC\n",
    "auc_array = np.zeros(len(k_array))\n",
    "\n",
    "for i in range(len(k_array)):\n",
    "    # Instanciando o SelectKBest\n",
    "    fs = SelectKBest(score_func=f_classif, k=k_array[i])\n",
    "    # Colunas selecionadas do treino:\n",
    "    X_train_selected = fs.fit_transform(X_train_tr, y_train)\n",
    "    # Colunas selecionadas da validação:\n",
    "    X_val_selected = fs.transform(X_val_tr)\n",
    "    \n",
    "    # Treinando o modelo para avaliar o valor de AUC\n",
    "    clf = LogisticRegression(class_weight='balanced')\n",
    "    clf.fit(X_train_selected, y_train)\n",
    "    y_score = clf.predict_proba(X_val_selected)[:,1]\n",
    "    \n",
    "    # AUC das K melhores features\n",
    "    auc_array[i] = roc_auc_score(y_val, y_score)   "
   ]
  },
  {
   "cell_type": "code",
   "execution_count": 55,
   "id": "b21b2a15",
   "metadata": {
    "ExecuteTime": {
     "end_time": "2023-06-23T22:38:33.127758Z",
     "start_time": "2023-06-23T22:38:32.910749Z"
    }
   },
   "outputs": [
    {
     "data": {
      "image/png": "[encoded data removed]",
      "text/plain": [
       "<Figure size 432x288 with 1 Axes>"
      ]
     },
     "metadata": {
      "needs_background": "light"
     },
     "output_type": "display_data"
    }
   ],
   "source": [
    "plt.plot(k_array, auc_array)\n",
    "plt.xlabel('Nº de features (K)')\n",
    "plt.ylabel('AUC')\n",
    "plt.grid()\n",
    "plt.show()"
   ]
  },
  {
   "cell_type": "markdown",
   "id": "5d982d26",
   "metadata": {},
   "source": [
    "Percebe-se que quanto maior o número de features, maior o AUC. Por esse motivo, foram mantidas as 11 features."
   ]
  },
  {
   "cell_type": "markdown",
   "id": "393cd4dd",
   "metadata": {},
   "source": [
    "# 8. Treinamento de modelos"
   ]
  },
  {
   "cell_type": "markdown",
   "id": "434c07ec",
   "metadata": {},
   "source": [
    "* Dummy (baseline)\n",
    "* Logistic Regression\n",
    "* SVC\n",
    "* KNN\n",
    "* Decision Tree\n",
    "* Random Forest\n",
    "* LGBM\n",
    "\n",
    "\n",
    "Foi utilizado para fins comparativos um modelo dummy, que faz previsões de forma aleatória."
   ]
  },
  {
   "cell_type": "markdown",
   "id": "36e6af8b",
   "metadata": {},
   "source": [
    "`Observação`: a métrica priorizada será o recall, considerando que consideraria de todas as pessoas que estão em churn, a detecção da maioria delas."
   ]
  },
  {
   "cell_type": "markdown",
   "id": "50299de7",
   "metadata": {},
   "source": [
    "## 8.1 Dummy"
   ]
  },
  {
   "cell_type": "code",
   "execution_count": 56,
   "id": "11b72cde",
   "metadata": {
    "ExecuteTime": {
     "end_time": "2023-06-23T22:38:33.168021Z",
     "start_time": "2023-06-23T22:38:33.139465Z"
    }
   },
   "outputs": [
    {
     "name": "stdout",
     "output_type": "stream",
     "text": [
      "              precision    recall  f1-score   support\n",
      "\n",
      "           0       0.77      0.48      0.59       717\n",
      "           1       0.18      0.45      0.26       183\n",
      "\n",
      "    accuracy                           0.47       900\n",
      "   macro avg       0.48      0.46      0.42       900\n",
      "weighted avg       0.65      0.47      0.52       900\n",
      "\n",
      "AUC:  0.5\n"
     ]
    }
   ],
   "source": [
    "dmc = DummyClassifier(strategy='uniform', random_state=42)\n",
    "dmc.fit(X_train_tr, y_train)\n",
    "y_pred = dmc.predict(X_val_tr)\n",
    "y_score = dmc.predict_proba(X_val_tr)[:,1]\n",
    "\n",
    "print(classification_report(y_val, y_pred))\n",
    "print('AUC: ', np.round(roc_auc_score(y_val, y_score),3))"
   ]
  },
  {
   "cell_type": "markdown",
   "id": "1f6e903f",
   "metadata": {},
   "source": [
    "- A precisão dos dados deu um valor próximo da proporção original dos dados, por se tratar de um modelo Dummy.\n",
    "- A acurácia deu um valor próximo de 50%\n",
    "- O AUC, como esperado, deu um valor de 50%."
   ]
  },
  {
   "cell_type": "markdown",
   "id": "fca1696d",
   "metadata": {},
   "source": [
    "## 8.2 Logistic Regression"
   ]
  },
  {
   "cell_type": "code",
   "execution_count": 57,
   "id": "02e6939f",
   "metadata": {
    "ExecuteTime": {
     "end_time": "2023-06-23T22:38:33.221693Z",
     "start_time": "2023-06-23T22:38:33.179011Z"
    }
   },
   "outputs": [
    {
     "name": "stdout",
     "output_type": "stream",
     "text": [
      "              precision    recall  f1-score   support\n",
      "\n",
      "           0       0.89      0.74      0.81       717\n",
      "           1       0.39      0.66      0.49       183\n",
      "\n",
      "    accuracy                           0.72       900\n",
      "   macro avg       0.64      0.70      0.65       900\n",
      "weighted avg       0.79      0.72      0.74       900\n",
      "\n",
      "AUC:  0.752\n"
     ]
    }
   ],
   "source": [
    "lr = LogisticRegression(C=1.5,class_weight='balanced',random_state=42)\n",
    "lr.fit(X_train_tr, y_train)\n",
    "y_pred = lr.predict(X_val_tr)\n",
    "y_score = lr.predict_proba(X_val_tr)[:,1] # Classe 1\n",
    "\n",
    "print(classification_report(y_val, y_pred))\n",
    "print('AUC: ', np.round(roc_auc_score(y_val, y_score),3))"
   ]
  },
  {
   "cell_type": "markdown",
   "id": "ee337f19",
   "metadata": {},
   "source": [
    "Por ser um modelo linear e simples, é possível dizer que é um modelo que não consegue classificar bem os dados. É importante, também, levar em consideração a possível baixa separabilidade dos dados vista anteriormente com o TSNE."
   ]
  },
  {
   "cell_type": "markdown",
   "id": "2f0eed40",
   "metadata": {},
   "source": [
    "## 8.3 SVC"
   ]
  },
  {
   "cell_type": "code",
   "execution_count": 58,
   "id": "81fee505",
   "metadata": {
    "ExecuteTime": {
     "end_time": "2023-06-23T22:38:56.068572Z",
     "start_time": "2023-06-23T22:38:33.230274Z"
    }
   },
   "outputs": [
    {
     "name": "stdout",
     "output_type": "stream",
     "text": [
      "              precision    recall  f1-score   support\n",
      "\n",
      "           0       0.91      0.83      0.87       717\n",
      "           1       0.50      0.67      0.57       183\n",
      "\n",
      "    accuracy                           0.80       900\n",
      "   macro avg       0.70      0.75      0.72       900\n",
      "weighted avg       0.83      0.80      0.81       900\n",
      "\n",
      "AUC: 0.83\n"
     ]
    }
   ],
   "source": [
    "svc = SVC(kernel= 'rbf',class_weight='balanced', probability=True)\n",
    "svc.fit(X_train_tr, y_train)\n",
    "y_pred = svc.predict(X_val_tr)\n",
    "y_score = svc.predict_proba(X_val_tr)[:,1]\n",
    "\n",
    "print(classification_report(y_val, y_pred))\n",
    "print('AUC:', np.round(roc_auc_score(y_val, y_score), 3))"
   ]
  },
  {
   "cell_type": "markdown",
   "id": "1433a1c9",
   "metadata": {},
   "source": [
    "## 8.4 KNN"
   ]
  },
  {
   "cell_type": "code",
   "execution_count": 59,
   "id": "855dcd47",
   "metadata": {
    "ExecuteTime": {
     "end_time": "2023-06-23T22:38:56.498499Z",
     "start_time": "2023-06-23T22:38:56.072432Z"
    }
   },
   "outputs": [
    {
     "name": "stdout",
     "output_type": "stream",
     "text": [
      "              precision    recall  f1-score   support\n",
      "\n",
      "           0       0.83      0.97      0.90       717\n",
      "           1       0.67      0.21      0.32       183\n",
      "\n",
      "    accuracy                           0.82       900\n",
      "   macro avg       0.75      0.59      0.61       900\n",
      "weighted avg       0.80      0.82      0.78       900\n",
      "\n",
      "AUC:  0.764\n"
     ]
    }
   ],
   "source": [
    "knn = KNeighborsClassifier(n_neighbors=10)\n",
    "\n",
    "knn.fit(X_train_tr, y_train)\n",
    "y_pred = knn.predict(X_val_tr)\n",
    "y_score = knn.predict_proba(X_val_tr)[:,1]\n",
    "\n",
    "print(classification_report(y_val, y_pred))\n",
    "print('AUC: ', np.round(roc_auc_score(y_val, y_score),3))"
   ]
  },
  {
   "cell_type": "markdown",
   "id": "c9a37d38",
   "metadata": {},
   "source": [
    "## 8.5 Decision Tree"
   ]
  },
  {
   "cell_type": "code",
   "execution_count": 60,
   "id": "238c0074",
   "metadata": {
    "ExecuteTime": {
     "end_time": "2023-06-23T22:38:56.595690Z",
     "start_time": "2023-06-23T22:38:56.511638Z"
    }
   },
   "outputs": [
    {
     "name": "stdout",
     "output_type": "stream",
     "text": [
      "              precision    recall  f1-score   support\n",
      "\n",
      "           0       0.91      0.82      0.86       717\n",
      "           1       0.48      0.67      0.56       183\n",
      "\n",
      "    accuracy                           0.79       900\n",
      "   macro avg       0.69      0.74      0.71       900\n",
      "weighted avg       0.82      0.79      0.80       900\n",
      "\n",
      "AUC:  0.822\n"
     ]
    }
   ],
   "source": [
    "dt = DecisionTreeClassifier(max_depth=5, class_weight='balanced',random_state=42)\n",
    "dt.fit(X_train_tr, y_train)\n",
    "y_pred = dt.predict(X_val_tr)\n",
    "y_score = dt.predict_proba(X_val_tr)[:,1]\n",
    "\n",
    "print(classification_report(y_val, y_pred))\n",
    "print('AUC: ', np.round(roc_auc_score(y_val, y_score),3))"
   ]
  },
  {
   "cell_type": "markdown",
   "id": "8ed0bdfb",
   "metadata": {},
   "source": [
    "## 8.6 Random Forest Classifier"
   ]
  },
  {
   "cell_type": "code",
   "execution_count": 61,
   "id": "68771351",
   "metadata": {
    "ExecuteTime": {
     "end_time": "2023-06-23T22:38:58.249659Z",
     "start_time": "2023-06-23T22:38:56.599360Z"
    }
   },
   "outputs": [
    {
     "name": "stdout",
     "output_type": "stream",
     "text": [
      "              precision    recall  f1-score   support\n",
      "\n",
      "           0       0.86      0.97      0.91       717\n",
      "           1       0.76      0.38      0.51       183\n",
      "\n",
      "    accuracy                           0.85       900\n",
      "   macro avg       0.81      0.68      0.71       900\n",
      "weighted avg       0.84      0.85      0.83       900\n",
      "\n",
      "AUC:  0.819\n"
     ]
    }
   ],
   "source": [
    "rfc = RandomForestClassifier(class_weight='balanced',random_state=42)\n",
    "rfc.fit(X_train_tr, y_train)\n",
    "y_pred = rfc.predict(X_val_tr)\n",
    "y_score = rfc.predict_proba(X_val_tr)[:,1]\n",
    "\n",
    "print(classification_report(y_val, y_pred))\n",
    "print('AUC: ', np.round(roc_auc_score(y_val, y_score),3))"
   ]
  },
  {
   "cell_type": "markdown",
   "id": "85c86a42",
   "metadata": {},
   "source": [
    "## 8.7 LGBM"
   ]
  },
  {
   "cell_type": "code",
   "execution_count": 62,
   "id": "b4cc796b",
   "metadata": {
    "ExecuteTime": {
     "end_time": "2023-06-23T22:38:59.197090Z",
     "start_time": "2023-06-23T22:38:58.255471Z"
    }
   },
   "outputs": [
    {
     "name": "stdout",
     "output_type": "stream",
     "text": [
      "              precision    recall  f1-score   support\n",
      "\n",
      "           0       0.89      0.87      0.88       717\n",
      "           1       0.54      0.58      0.56       183\n",
      "\n",
      "    accuracy                           0.81       900\n",
      "   macro avg       0.72      0.73      0.72       900\n",
      "weighted avg       0.82      0.81      0.82       900\n",
      "\n",
      "AUC:  0.816\n"
     ]
    }
   ],
   "source": [
    "lgbm = LGBMClassifier(n_estimators=200, class_weight='balanced',random_state=42)\n",
    "lgbm.fit(X_train_tr, y_train)\n",
    "y_pred = lgbm.predict(X_val_tr)\n",
    "y_score = lgbm.predict_proba(X_val_tr)[:,1]\n",
    "\n",
    "print(classification_report(y_val, y_pred))\n",
    "print('AUC: ', np.round(roc_auc_score(y_val, y_score),3))"
   ]
  },
  {
   "cell_type": "markdown",
   "id": "48f9310d",
   "metadata": {},
   "source": [
    "O modelo escolhido foi o SVC, pois apresentou o maior AUC.No entanto, há modelos mais rápidos, como o LGBM."
   ]
  },
  {
   "cell_type": "markdown",
   "id": "2084d4c6",
   "metadata": {},
   "source": [
    "## 8.8 Ajustando os pesos do SVC"
   ]
  },
  {
   "cell_type": "markdown",
   "id": "02b7fac9",
   "metadata": {},
   "source": [
    "Para fins investigativos, foi analisado o ajuste de pesos das classes para melhorar o recall, métrica importante para o problema de negócio."
   ]
  },
  {
   "cell_type": "code",
   "execution_count": 63,
   "id": "1f526756",
   "metadata": {
    "ExecuteTime": {
     "end_time": "2023-06-23T22:39:23.367608Z",
     "start_time": "2023-06-23T22:38:59.214430Z"
    }
   },
   "outputs": [
    {
     "name": "stdout",
     "output_type": "stream",
     "text": [
      "              precision    recall  f1-score   support\n",
      "\n",
      "           0       0.93      0.72      0.81       717\n",
      "           1       0.41      0.78      0.54       183\n",
      "\n",
      "    accuracy                           0.73       900\n",
      "   macro avg       0.67      0.75      0.67       900\n",
      "weighted avg       0.82      0.73      0.75       900\n",
      "\n",
      "AUC: 0.829\n"
     ]
    }
   ],
   "source": [
    "# Ajustando os pesos das classes no class_weight para melhorar o recall\n",
    "\n",
    "svc = SVC(kernel= 'rbf',class_weight={0:0.15, 1:0.85}, probability=True)\n",
    "svc.fit(X_train_tr, y_train)\n",
    "y_pred = svc.predict(X_val_tr)\n",
    "y_score = svc.predict_proba(X_val_tr)[:,1]\n",
    "\n",
    "print(classification_report(y_val, y_pred))\n",
    "print('AUC:', np.round(roc_auc_score(y_val, y_score), 3))"
   ]
  },
  {
   "cell_type": "markdown",
   "id": "c5c20b71",
   "metadata": {},
   "source": [
    "Percebe-se que quando aumenta o recall, diminui a precisão."
   ]
  },
  {
   "cell_type": "markdown",
   "id": "8f1650f7",
   "metadata": {},
   "source": [
    "# 9. Otimização de hiperparâmetros"
   ]
  },
  {
   "cell_type": "code",
   "execution_count": 64,
   "id": "1d9bcc80",
   "metadata": {
    "ExecuteTime": {
     "end_time": "2023-06-23T22:58:30.772225Z",
     "start_time": "2023-06-23T22:39:23.375196Z"
    }
   },
   "outputs": [
    {
     "data": {
      "text/html": [
       "<style>#sk-container-id-1 {color: black;background-color: white;}#sk-container-id-1 pre{padding: 0;}#sk-container-id-1 div.sk-toggleable {background-color: white;}#sk-container-id-1 label.sk-toggleable__label {cursor: pointer;display: block;width: 100%;margin-bottom: 0;padding: 0.3em;box-sizing: border-box;text-align: center;}#sk-container-id-1 label.sk-toggleable__label-arrow:before {content: \"▸\";float: left;margin-right: 0.25em;color: #696969;}#sk-container-id-1 label.sk-toggleable__label-arrow:hover:before {color: black;}#sk-container-id-1 div.sk-estimator:hover label.sk-toggleable__label-arrow:before {color: black;}#sk-container-id-1 div.sk-toggleable__content {max-height: 0;max-width: 0;overflow: hidden;text-align: left;background-color: #f0f8ff;}#sk-container-id-1 div.sk-toggleable__content pre {margin: 0.2em;color: black;border-radius: 0.25em;background-color: #f0f8ff;}#sk-container-id-1 input.sk-toggleable__control:checked~div.sk-toggleable__content {max-height: 200px;max-width: 100%;overflow: auto;}#sk-container-id-1 input.sk-toggleable__control:checked~label.sk-toggleable__label-arrow:before {content: \"▾\";}#sk-container-id-1 div.sk-estimator input.sk-toggleable__control:checked~label.sk-toggleable__label {background-color: #d4ebff;}#sk-container-id-1 div.sk-label input.sk-toggleable__control:checked~label.sk-toggleable__label {background-color: #d4ebff;}#sk-container-id-1 input.sk-hidden--visually {border: 0;clip: rect(1px 1px 1px 1px);clip: rect(1px, 1px, 1px, 1px);height: 1px;margin: -1px;overflow: hidden;padding: 0;position: absolute;width: 1px;}#sk-container-id-1 div.sk-estimator {font-family: monospace;background-color: #f0f8ff;border: 1px dotted black;border-radius: 0.25em;box-sizing: border-box;margin-bottom: 0.5em;}#sk-container-id-1 div.sk-estimator:hover {background-color: #d4ebff;}#sk-container-id-1 div.sk-parallel-item::after {content: \"\";width: 100%;border-bottom: 1px solid gray;flex-grow: 1;}#sk-container-id-1 div.sk-label:hover label.sk-toggleable__label {background-color: #d4ebff;}#sk-container-id-1 div.sk-serial::before {content: \"\";position: absolute;border-left: 1px solid gray;box-sizing: border-box;top: 0;bottom: 0;left: 50%;z-index: 0;}#sk-container-id-1 div.sk-serial {display: flex;flex-direction: column;align-items: center;background-color: white;padding-right: 0.2em;padding-left: 0.2em;position: relative;}#sk-container-id-1 div.sk-item {position: relative;z-index: 1;}#sk-container-id-1 div.sk-parallel {display: flex;align-items: stretch;justify-content: center;background-color: white;position: relative;}#sk-container-id-1 div.sk-item::before, #sk-container-id-1 div.sk-parallel-item::before {content: \"\";position: absolute;border-left: 1px solid gray;box-sizing: border-box;top: 0;bottom: 0;left: 50%;z-index: -1;}#sk-container-id-1 div.sk-parallel-item {display: flex;flex-direction: column;z-index: 1;position: relative;background-color: white;}#sk-container-id-1 div.sk-parallel-item:first-child::after {align-self: flex-end;width: 50%;}#sk-container-id-1 div.sk-parallel-item:last-child::after {align-self: flex-start;width: 50%;}#sk-container-id-1 div.sk-parallel-item:only-child::after {width: 0;}#sk-container-id-1 div.sk-dashed-wrapped {border: 1px dashed gray;margin: 0 0.4em 0.5em 0.4em;box-sizing: border-box;padding-bottom: 0.4em;background-color: white;}#sk-container-id-1 div.sk-label label {font-family: monospace;font-weight: bold;display: inline-block;line-height: 1.2em;}#sk-container-id-1 div.sk-label-container {text-align: center;}#sk-container-id-1 div.sk-container {/* jupyter's `normalize.less` sets `[hidden] { display: none; }` but bootstrap.min.css set `[hidden] { display: none !important; }` so we also need the `!important` here to be able to override the default hidden behavior on the sphinx rendered scikit-learn.org. See: https://github.com/scikit-learn/scikit-learn/issues/21755 */display: inline-block !important;position: relative;}#sk-container-id-1 div.sk-text-repr-fallback {display: none;}</style><div id=\"sk-container-id-1\" class=\"sk-top-container\"><div class=\"sk-text-repr-fallback\"><pre>RandomizedSearchCV(cv=5, estimator=SVC(probability=True, random_state=42),\n",
       "                   n_iter=20,\n",
       "                   param_distributions={&#x27;C&#x27;: array([1.  , 1.25, 1.5 , 1.75, 2.  ]),\n",
       "                                        &#x27;class_weight&#x27;: [{0: 0.5, 1: 0.5},\n",
       "                                                         {0: 0.4555555555555556,\n",
       "                                                          1: 0.5444444444444444},\n",
       "                                                         {0: 0.4111111111111111,\n",
       "                                                          1: 0.5888888888888889},\n",
       "                                                         {0: 0.3666666666666667,\n",
       "                                                          1: 0.6333333333333333},\n",
       "                                                         {0: 0.3222222222222222,\n",
       "                                                          1: 0.6777777777777778},\n",
       "                                                         {0: 0.2777777777777778,\n",
       "                                                          1: 0.7222222222222222},\n",
       "                                                         {0: 0.2333333333333334,\n",
       "                                                          1: 0.7666666666666666},\n",
       "                                                         {0: 0.18888888888888888,\n",
       "                                                          1: 0.8111111111111111},\n",
       "                                                         {0: 0.14444444444444438,\n",
       "                                                          1: 0.8555555555555556},\n",
       "                                                         {0: 0.09999999999999998,\n",
       "                                                          1: 0.9}],\n",
       "                                        &#x27;kernel&#x27;: [&#x27;linear&#x27;, &#x27;poly&#x27;, &#x27;rbf&#x27;,\n",
       "                                                   &#x27;sigmoid&#x27;]},\n",
       "                   scoring=&#x27;roc_auc&#x27;)</pre><b>In a Jupyter environment, please rerun this cell to show the HTML representation or trust the notebook. <br />On GitHub, the HTML representation is unable to render, please try loading this page with nbviewer.org.</b></div><div class=\"sk-container\" hidden><div class=\"sk-item sk-dashed-wrapped\"><div class=\"sk-label-container\"><div class=\"sk-label sk-toggleable\"><input class=\"sk-toggleable__control sk-hidden--visually\" id=\"sk-estimator-id-1\" type=\"checkbox\" ><label for=\"sk-estimator-id-1\" class=\"sk-toggleable__label sk-toggleable__label-arrow\">RandomizedSearchCV</label><div class=\"sk-toggleable__content\"><pre>RandomizedSearchCV(cv=5, estimator=SVC(probability=True, random_state=42),\n",
       "                   n_iter=20,\n",
       "                   param_distributions={&#x27;C&#x27;: array([1.  , 1.25, 1.5 , 1.75, 2.  ]),\n",
       "                                        &#x27;class_weight&#x27;: [{0: 0.5, 1: 0.5},\n",
       "                                                         {0: 0.4555555555555556,\n",
       "                                                          1: 0.5444444444444444},\n",
       "                                                         {0: 0.4111111111111111,\n",
       "                                                          1: 0.5888888888888889},\n",
       "                                                         {0: 0.3666666666666667,\n",
       "                                                          1: 0.6333333333333333},\n",
       "                                                         {0: 0.3222222222222222,\n",
       "                                                          1: 0.6777777777777778},\n",
       "                                                         {0: 0.2777777777777778,\n",
       "                                                          1: 0.7222222222222222},\n",
       "                                                         {0: 0.2333333333333334,\n",
       "                                                          1: 0.7666666666666666},\n",
       "                                                         {0: 0.18888888888888888,\n",
       "                                                          1: 0.8111111111111111},\n",
       "                                                         {0: 0.14444444444444438,\n",
       "                                                          1: 0.8555555555555556},\n",
       "                                                         {0: 0.09999999999999998,\n",
       "                                                          1: 0.9}],\n",
       "                                        &#x27;kernel&#x27;: [&#x27;linear&#x27;, &#x27;poly&#x27;, &#x27;rbf&#x27;,\n",
       "                                                   &#x27;sigmoid&#x27;]},\n",
       "                   scoring=&#x27;roc_auc&#x27;)</pre></div></div></div><div class=\"sk-parallel\"><div class=\"sk-parallel-item\"><div class=\"sk-item\"><div class=\"sk-label-container\"><div class=\"sk-label sk-toggleable\"><input class=\"sk-toggleable__control sk-hidden--visually\" id=\"sk-estimator-id-2\" type=\"checkbox\" ><label for=\"sk-estimator-id-2\" class=\"sk-toggleable__label sk-toggleable__label-arrow\">estimator: SVC</label><div class=\"sk-toggleable__content\"><pre>SVC(probability=True, random_state=42)</pre></div></div></div><div class=\"sk-serial\"><div class=\"sk-item\"><div class=\"sk-estimator sk-toggleable\"><input class=\"sk-toggleable__control sk-hidden--visually\" id=\"sk-estimator-id-3\" type=\"checkbox\" ><label for=\"sk-estimator-id-3\" class=\"sk-toggleable__label sk-toggleable__label-arrow\">SVC</label><div class=\"sk-toggleable__content\"><pre>SVC(probability=True, random_state=42)</pre></div></div></div></div></div></div></div></div></div></div>"
      ],
      "text/plain": [
       "RandomizedSearchCV(cv=5, estimator=SVC(probability=True, random_state=42),\n",
       "                   n_iter=20,\n",
       "                   param_distributions={'C': array([1.  , 1.25, 1.5 , 1.75, 2.  ]),\n",
       "                                        'class_weight': [{0: 0.5, 1: 0.5},\n",
       "                                                         {0: 0.4555555555555556,\n",
       "                                                          1: 0.5444444444444444},\n",
       "                                                         {0: 0.4111111111111111,\n",
       "                                                          1: 0.5888888888888889},\n",
       "                                                         {0: 0.3666666666666667,\n",
       "                                                          1: 0.6333333333333333},\n",
       "                                                         {0: 0.3222222222222222,\n",
       "                                                          1: 0.6777777777777778},\n",
       "                                                         {0: 0.2777777777777778,\n",
       "                                                          1: 0.7222222222222222},\n",
       "                                                         {0: 0.2333333333333334,\n",
       "                                                          1: 0.7666666666666666},\n",
       "                                                         {0: 0.18888888888888888,\n",
       "                                                          1: 0.8111111111111111},\n",
       "                                                         {0: 0.14444444444444438,\n",
       "                                                          1: 0.8555555555555556},\n",
       "                                                         {0: 0.09999999999999998,\n",
       "                                                          1: 0.9}],\n",
       "                                        'kernel': ['linear', 'poly', 'rbf',\n",
       "                                                   'sigmoid']},\n",
       "                   scoring='roc_auc')"
      ]
     },
     "execution_count": 64,
     "metadata": {},
     "output_type": "execute_result"
    }
   ],
   "source": [
    "svc = SVC(probability=True,random_state=42)\n",
    "\n",
    "param = {'class_weight' : [{0:1-x, 1:x} for x in np.linspace(0.5, 0.9, 10)],\n",
    "         'C': np.linspace(1.0, 2.0, 5),\n",
    "         'kernel':['linear', 'poly', 'rbf', 'sigmoid']\n",
    "        }\n",
    "\n",
    "\n",
    "svc_opt = RandomizedSearchCV(estimator=svc, param_distributions= param, n_iter=20, scoring='roc_auc',cv=5)\n",
    "svc_opt.fit(X_train_tr, y_train)"
   ]
  },
  {
   "cell_type": "code",
   "execution_count": 65,
   "id": "c431bff1",
   "metadata": {
    "ExecuteTime": {
     "end_time": "2023-06-23T22:58:30.792305Z",
     "start_time": "2023-06-23T22:58:30.776410Z"
    }
   },
   "outputs": [
    {
     "data": {
      "text/html": [
       "<style>#sk-container-id-2 {color: black;background-color: white;}#sk-container-id-2 pre{padding: 0;}#sk-container-id-2 div.sk-toggleable {background-color: white;}#sk-container-id-2 label.sk-toggleable__label {cursor: pointer;display: block;width: 100%;margin-bottom: 0;padding: 0.3em;box-sizing: border-box;text-align: center;}#sk-container-id-2 label.sk-toggleable__label-arrow:before {content: \"▸\";float: left;margin-right: 0.25em;color: #696969;}#sk-container-id-2 label.sk-toggleable__label-arrow:hover:before {color: black;}#sk-container-id-2 div.sk-estimator:hover label.sk-toggleable__label-arrow:before {color: black;}#sk-container-id-2 div.sk-toggleable__content {max-height: 0;max-width: 0;overflow: hidden;text-align: left;background-color: #f0f8ff;}#sk-container-id-2 div.sk-toggleable__content pre {margin: 0.2em;color: black;border-radius: 0.25em;background-color: #f0f8ff;}#sk-container-id-2 input.sk-toggleable__control:checked~div.sk-toggleable__content {max-height: 200px;max-width: 100%;overflow: auto;}#sk-container-id-2 input.sk-toggleable__control:checked~label.sk-toggleable__label-arrow:before {content: \"▾\";}#sk-container-id-2 div.sk-estimator input.sk-toggleable__control:checked~label.sk-toggleable__label {background-color: #d4ebff;}#sk-container-id-2 div.sk-label input.sk-toggleable__control:checked~label.sk-toggleable__label {background-color: #d4ebff;}#sk-container-id-2 input.sk-hidden--visually {border: 0;clip: rect(1px 1px 1px 1px);clip: rect(1px, 1px, 1px, 1px);height: 1px;margin: -1px;overflow: hidden;padding: 0;position: absolute;width: 1px;}#sk-container-id-2 div.sk-estimator {font-family: monospace;background-color: #f0f8ff;border: 1px dotted black;border-radius: 0.25em;box-sizing: border-box;margin-bottom: 0.5em;}#sk-container-id-2 div.sk-estimator:hover {background-color: #d4ebff;}#sk-container-id-2 div.sk-parallel-item::after {content: \"\";width: 100%;border-bottom: 1px solid gray;flex-grow: 1;}#sk-container-id-2 div.sk-label:hover label.sk-toggleable__label {background-color: #d4ebff;}#sk-container-id-2 div.sk-serial::before {content: \"\";position: absolute;border-left: 1px solid gray;box-sizing: border-box;top: 0;bottom: 0;left: 50%;z-index: 0;}#sk-container-id-2 div.sk-serial {display: flex;flex-direction: column;align-items: center;background-color: white;padding-right: 0.2em;padding-left: 0.2em;position: relative;}#sk-container-id-2 div.sk-item {position: relative;z-index: 1;}#sk-container-id-2 div.sk-parallel {display: flex;align-items: stretch;justify-content: center;background-color: white;position: relative;}#sk-container-id-2 div.sk-item::before, #sk-container-id-2 div.sk-parallel-item::before {content: \"\";position: absolute;border-left: 1px solid gray;box-sizing: border-box;top: 0;bottom: 0;left: 50%;z-index: -1;}#sk-container-id-2 div.sk-parallel-item {display: flex;flex-direction: column;z-index: 1;position: relative;background-color: white;}#sk-container-id-2 div.sk-parallel-item:first-child::after {align-self: flex-end;width: 50%;}#sk-container-id-2 div.sk-parallel-item:last-child::after {align-self: flex-start;width: 50%;}#sk-container-id-2 div.sk-parallel-item:only-child::after {width: 0;}#sk-container-id-2 div.sk-dashed-wrapped {border: 1px dashed gray;margin: 0 0.4em 0.5em 0.4em;box-sizing: border-box;padding-bottom: 0.4em;background-color: white;}#sk-container-id-2 div.sk-label label {font-family: monospace;font-weight: bold;display: inline-block;line-height: 1.2em;}#sk-container-id-2 div.sk-label-container {text-align: center;}#sk-container-id-2 div.sk-container {/* jupyter's `normalize.less` sets `[hidden] { display: none; }` but bootstrap.min.css set `[hidden] { display: none !important; }` so we also need the `!important` here to be able to override the default hidden behavior on the sphinx rendered scikit-learn.org. See: https://github.com/scikit-learn/scikit-learn/issues/21755 */display: inline-block !important;position: relative;}#sk-container-id-2 div.sk-text-repr-fallback {display: none;}</style><div id=\"sk-container-id-2\" class=\"sk-top-container\"><div class=\"sk-text-repr-fallback\"><pre>SVC(C=1.25, class_weight={0: 0.14444444444444438, 1: 0.8555555555555556},\n",
       "    probability=True, random_state=42)</pre><b>In a Jupyter environment, please rerun this cell to show the HTML representation or trust the notebook. <br />On GitHub, the HTML representation is unable to render, please try loading this page with nbviewer.org.</b></div><div class=\"sk-container\" hidden><div class=\"sk-item\"><div class=\"sk-estimator sk-toggleable\"><input class=\"sk-toggleable__control sk-hidden--visually\" id=\"sk-estimator-id-4\" type=\"checkbox\" checked><label for=\"sk-estimator-id-4\" class=\"sk-toggleable__label sk-toggleable__label-arrow\">SVC</label><div class=\"sk-toggleable__content\"><pre>SVC(C=1.25, class_weight={0: 0.14444444444444438, 1: 0.8555555555555556},\n",
       "    probability=True, random_state=42)</pre></div></div></div></div></div>"
      ],
      "text/plain": [
       "SVC(C=1.25, class_weight={0: 0.14444444444444438, 1: 0.8555555555555556},\n",
       "    probability=True, random_state=42)"
      ]
     },
     "execution_count": 65,
     "metadata": {},
     "output_type": "execute_result"
    }
   ],
   "source": [
    "# Visualizando melhor estimador\n",
    "\n",
    "final_svc = svc_opt.best_estimator_\n",
    "final_svc"
   ]
  },
  {
   "cell_type": "code",
   "execution_count": 66,
   "id": "e4830346",
   "metadata": {
    "ExecuteTime": {
     "end_time": "2023-06-23T22:58:30.807581Z",
     "start_time": "2023-06-23T22:58:30.796650Z"
    }
   },
   "outputs": [
    {
     "data": {
      "text/plain": [
       "0.849365280714118"
      ]
     },
     "execution_count": 66,
     "metadata": {},
     "output_type": "execute_result"
    }
   ],
   "source": [
    "# Visualizando o melhor score (AUC)\n",
    "\n",
    "svc_opt.best_score_"
   ]
  },
  {
   "cell_type": "code",
   "execution_count": 67,
   "id": "10d1bb6d",
   "metadata": {
    "ExecuteTime": {
     "end_time": "2023-06-23T22:58:31.748885Z",
     "start_time": "2023-06-23T22:58:30.811491Z"
    }
   },
   "outputs": [
    {
     "name": "stdout",
     "output_type": "stream",
     "text": [
      "              precision    recall  f1-score   support\n",
      "\n",
      "           0       0.93      0.71      0.81       717\n",
      "           1       0.41      0.80      0.55       183\n",
      "\n",
      "    accuracy                           0.73       900\n",
      "   macro avg       0.67      0.76      0.68       900\n",
      "weighted avg       0.83      0.73      0.75       900\n",
      "\n",
      "AUC:  0.829\n"
     ]
    }
   ],
   "source": [
    "# Performance dos dados de validação\n",
    "\n",
    "y_pred = final_svc.predict(X_val_tr)\n",
    "y_score = final_svc.predict_proba(X_val_tr)[:,1]\n",
    "\n",
    "print(classification_report(y_val, y_pred))\n",
    "print('AUC: ', np.round(roc_auc_score(y_val, y_score),3))"
   ]
  },
  {
   "cell_type": "markdown",
   "id": "f82f6d4d",
   "metadata": {},
   "source": [
    "Com isso, foi finalizada a avaliação do modelo com os dados de validação."
   ]
  },
  {
   "cell_type": "code",
   "execution_count": 68,
   "id": "69ad84cb",
   "metadata": {
    "ExecuteTime": {
     "end_time": "2023-06-23T22:58:35.996396Z",
     "start_time": "2023-06-23T22:58:31.789979Z"
    }
   },
   "outputs": [
    {
     "data": {
      "image/png": "[encoded data removed]",
      "text/plain": [
       "<Figure size 504x432 with 1 Axes>"
      ]
     },
     "metadata": {
      "needs_background": "light"
     },
     "output_type": "display_data"
    }
   ],
   "source": [
    "# Precision-recall\n",
    "\n",
    "y_train_score = final_svc.predict_proba(X_train_tr)\n",
    "\n",
    "precisions, recalls, thresholds = precision_recall_curve(y_train, y_train_score[:,1])\n",
    "\n",
    "plt.figure(figsize=(7,6))\n",
    "plt.plot(thresholds, precisions[:-1], lw=2, ls='--',label='Precision')\n",
    "plt.plot(thresholds, recalls[:-1], lw=2, label='Recall')\n",
    "plt.xlabel('Threshold')\n",
    "plt.legend()\n",
    "plt.grid()\n",
    "plt.show()"
   ]
  },
  {
   "cell_type": "markdown",
   "id": "2a8baed0",
   "metadata": {},
   "source": [
    "Variação da precisão e do recall com diferentes pontos de corte (thresholds), que representam a probabilidade de o cliente estar em churn ou não. Percebe-se que à medida em que recall aumenta, a precisão cai e vice-versa. Isso é conhecido como tradeoff recall-precision. É importante observar que quando o recall dá 100%, a precisão dá 20%.Esses 20% correspondem à proporção da classe 1 dos dados. Nesse caso, a taxa de falsos positivos será maior. No caso contrário, com a precisão em 100%, o número de falsos negativos aumenta e o de falsos positivos chega a zero.Essa análise pode ser útil para ajustar o recall e precisão, escolhendo o melhor threshold."
   ]
  },
  {
   "cell_type": "code",
   "execution_count": 69,
   "id": "20f59a84",
   "metadata": {
    "ExecuteTime": {
     "end_time": "2023-06-23T22:58:36.345499Z",
     "start_time": "2023-06-23T22:58:36.007288Z"
    }
   },
   "outputs": [
    {
     "data": {
      "image/png": "[encoded data removed]",
      "text/plain": [
       "<Figure size 432x432 with 1 Axes>"
      ]
     },
     "metadata": {
      "needs_background": "light"
     },
     "output_type": "display_data"
    }
   ],
   "source": [
    "plt.figure(figsize=(6,6))\n",
    "fpr, tpr, thr = roc_curve(y_train, y_train_score[0:,1])\n",
    "plt.plot([0, 1], [0, 1], 'k--')\n",
    "plt.plot(fpr, tpr)\n",
    "plt.ylabel('TPR')\n",
    "plt.xlabel('FPR')\n",
    "plt.grid()\n",
    "plt.xlim(0,1)\n",
    "plt.ylim(0,1)\n",
    "plt.title('Curva ROC')\n",
    "plt.show()"
   ]
  },
  {
   "cell_type": "markdown",
   "id": "c82524b7",
   "metadata": {},
   "source": [
    "# 10. Avaliação final"
   ]
  },
  {
   "cell_type": "markdown",
   "id": "c2bea514",
   "metadata": {},
   "source": [
    "Foi realizada a avaliação do modelo com os dados de teste."
   ]
  },
  {
   "cell_type": "code",
   "execution_count": 70,
   "id": "16b97925",
   "metadata": {
    "ExecuteTime": {
     "end_time": "2023-06-23T22:58:36.365934Z",
     "start_time": "2023-06-23T22:58:36.349252Z"
    }
   },
   "outputs": [],
   "source": [
    "# Transformação dos dados de teste\n",
    "\n",
    "X_test_tr = pipeline.transform(X_test)"
   ]
  },
  {
   "cell_type": "code",
   "execution_count": 71,
   "id": "4814d851",
   "metadata": {
    "ExecuteTime": {
     "end_time": "2023-06-23T22:58:37.405918Z",
     "start_time": "2023-06-23T22:58:36.369766Z"
    }
   },
   "outputs": [
    {
     "name": "stdout",
     "output_type": "stream",
     "text": [
      "              precision    recall  f1-score   support\n",
      "\n",
      "           0       0.94      0.68      0.79       796\n",
      "           1       0.40      0.84      0.54       204\n",
      "\n",
      "    accuracy                           0.71      1000\n",
      "   macro avg       0.67      0.76      0.67      1000\n",
      "weighted avg       0.83      0.71      0.74      1000\n",
      "\n",
      "AUC:  0.85\n"
     ]
    }
   ],
   "source": [
    "# Predict dos dados de teste\n",
    "\n",
    "y_pred = final_svc.predict(X_test_tr)\n",
    "y_score = final_svc.predict_proba(X_test_tr)[:,1]\n",
    "\n",
    "print(classification_report(y_test, y_pred))\n",
    "print('AUC: ', np.round(roc_auc_score(y_test, y_score),2))"
   ]
  },
  {
   "cell_type": "markdown",
   "id": "6482e65c",
   "metadata": {},
   "source": [
    "O threshold é de 50%, mas se for preciso aumentar mais o recall, é interessante diminuir esse valor. Em compensação, vai diminuir a precisão e ter mais falsos positivos. Aumentando o recall, talvez a empresa entrasse em contato com clientes que não estavam em risco de churn, no entanto, as chances de encontrar os clientes que estão realmente em churn iria aumentar. Como será um inconveniente baixo, é a melhor métrica escolhida para priorizar."
   ]
  },
  {
   "cell_type": "markdown",
   "id": "f4b91986",
   "metadata": {},
   "source": [
    "## 10.1 Matriz de confusão"
   ]
  },
  {
   "cell_type": "code",
   "execution_count": 72,
   "id": "1b2a5642",
   "metadata": {
    "ExecuteTime": {
     "end_time": "2023-06-23T22:58:37.799213Z",
     "start_time": "2023-06-23T22:58:37.412031Z"
    }
   },
   "outputs": [
    {
     "data": {
      "text/plain": [
       "<Figure size 576x432 with 0 Axes>"
      ]
     },
     "metadata": {},
     "output_type": "display_data"
    },
    {
     "data": {
      "image/png": "[encoded data removed]",
      "text/plain": [
       "<Figure size 432x288 with 2 Axes>"
      ]
     },
     "metadata": {
      "needs_background": "light"
     },
     "output_type": "display_data"
    }
   ],
   "source": [
    "cm = confusion_matrix(y_test, y_pred)\n",
    "\n",
    "plt.figure(figsize= (8,6))\n",
    "ConfusionMatrixDisplay(cm).plot()\n",
    "plt.show()"
   ]
  },
  {
   "cell_type": "markdown",
   "id": "0915454d",
   "metadata": {},
   "source": [
    "Os falso negativos deixariam de receber a atenção adequada da empresa com relação ao churn (33). Os verdadeiros positivos (171) receberiam a atenção devida."
   ]
  },
  {
   "cell_type": "markdown",
   "id": "83f5f568",
   "metadata": {},
   "source": [
    "## 10.2  Curva de ganho e Lift"
   ]
  },
  {
   "cell_type": "code",
   "execution_count": 73,
   "id": "972a25ef",
   "metadata": {
    "ExecuteTime": {
     "end_time": "2023-06-23T22:58:37.839982Z",
     "start_time": "2023-06-23T22:58:37.818824Z"
    }
   },
   "outputs": [
    {
     "data": {
      "text/html": [
       "<div>\n",
       "<style scoped>\n",
       "    .dataframe tbody tr th:only-of-type {\n",
       "        vertical-align: middle;\n",
       "    }\n",
       "\n",
       "    .dataframe tbody tr th {\n",
       "        vertical-align: top;\n",
       "    }\n",
       "\n",
       "    .dataframe thead th {\n",
       "        text-align: right;\n",
       "    }\n",
       "</style>\n",
       "<table border=\"1\" class=\"dataframe\">\n",
       "  <thead>\n",
       "    <tr style=\"text-align: right;\">\n",
       "      <th></th>\n",
       "      <th>alvo</th>\n",
       "      <th>score</th>\n",
       "    </tr>\n",
       "  </thead>\n",
       "  <tbody>\n",
       "    <tr>\n",
       "      <th>215</th>\n",
       "      <td>1</td>\n",
       "      <td>0.976230</td>\n",
       "    </tr>\n",
       "    <tr>\n",
       "      <th>953</th>\n",
       "      <td>1</td>\n",
       "      <td>0.953280</td>\n",
       "    </tr>\n",
       "    <tr>\n",
       "      <th>676</th>\n",
       "      <td>1</td>\n",
       "      <td>0.940741</td>\n",
       "    </tr>\n",
       "    <tr>\n",
       "      <th>548</th>\n",
       "      <td>1</td>\n",
       "      <td>0.884966</td>\n",
       "    </tr>\n",
       "    <tr>\n",
       "      <th>126</th>\n",
       "      <td>1</td>\n",
       "      <td>0.877853</td>\n",
       "    </tr>\n",
       "  </tbody>\n",
       "</table>\n",
       "</div>"
      ],
      "text/plain": [
       "     alvo     score\n",
       "215     1  0.976230\n",
       "953     1  0.953280\n",
       "676     1  0.940741\n",
       "548     1  0.884966\n",
       "126     1  0.877853"
      ]
     },
     "execution_count": 73,
     "metadata": {},
     "output_type": "execute_result"
    }
   ],
   "source": [
    "# Matriz ranqueada pelo score\n",
    "\n",
    "rank = pd.DataFrame(y_score, y_test).reset_index()\n",
    "rank.columns = ['alvo', 'score']\n",
    "rank = rank.sort_values(by='score', ascending=False)\n",
    "rank.head()"
   ]
  },
  {
   "cell_type": "code",
   "execution_count": 74,
   "id": "540d2123",
   "metadata": {
    "ExecuteTime": {
     "end_time": "2023-06-23T22:58:37.867949Z",
     "start_time": "2023-06-23T22:58:37.843936Z"
    }
   },
   "outputs": [
    {
     "name": "stdout",
     "output_type": "stream",
     "text": [
      "Taxa do alvo (20%): 0.59\n"
     ]
    }
   ],
   "source": [
    "# Top 20%\n",
    "\n",
    "decile = 0.2\n",
    "index_decile = int(decile * len(rank))\n",
    "\n",
    "top20 = rank.iloc[:index_decile]\n",
    "print(f\"Taxa do alvo (20%): {(top20['alvo'].sum() / rank['alvo'].sum()):.2f}\")"
   ]
  },
  {
   "cell_type": "code",
   "execution_count": 75,
   "id": "1b99954e",
   "metadata": {
    "ExecuteTime": {
     "end_time": "2023-06-23T22:58:38.701853Z",
     "start_time": "2023-06-23T22:58:37.872522Z"
    }
   },
   "outputs": [
    {
     "data": {
      "text/plain": [
       "<Figure size 576x432 with 0 Axes>"
      ]
     },
     "metadata": {},
     "output_type": "display_data"
    },
    {
     "data": {
      "image/png": "[encoded data removed]",
      "text/plain": [
       "<Figure size 432x288 with 1 Axes>"
      ]
     },
     "metadata": {
      "needs_background": "light"
     },
     "output_type": "display_data"
    }
   ],
   "source": [
    "plt.figure(figsize= (8,6))\n",
    "skplt.metrics.plot_cumulative_gain(y_test, final_svc.predict_proba(X_test_tr))\n",
    "plt.show()"
   ]
  },
  {
   "cell_type": "markdown",
   "id": "6448e6e4",
   "metadata": {},
   "source": [
    "Acima, é possível ver no eixo X, as porcentagens totais dos dados ranqueados. A taxa do alvo no segundo decil (20%), por exemplo, conseguiu obter 60% dos casos de churn."
   ]
  },
  {
   "cell_type": "code",
   "execution_count": 76,
   "id": "85a6874d",
   "metadata": {
    "ExecuteTime": {
     "end_time": "2023-06-23T22:58:39.562264Z",
     "start_time": "2023-06-23T22:58:38.706279Z"
    }
   },
   "outputs": [
    {
     "data": {
      "text/plain": [
       "<Figure size 576x432 with 0 Axes>"
      ]
     },
     "metadata": {},
     "output_type": "display_data"
    },
    {
     "data": {
      "image/png": "[encoded data removed]",
      "text/plain": [
       "<Figure size 432x288 with 1 Axes>"
      ]
     },
     "metadata": {
      "needs_background": "light"
     },
     "output_type": "display_data"
    }
   ],
   "source": [
    "plt.figure(figsize= (8,6))\n",
    "skplt.metrics.plot_lift_curve(y_test, final_svc.predict_proba(X_test_tr))\n",
    "plt.show()"
   ]
  },
  {
   "cell_type": "markdown",
   "id": "99827111",
   "metadata": {},
   "source": [
    "É possível observar em que percentis o modelo performa melhor que a baseline com a curva de Lift. Nesse caso, em 20% da base, o modelo treinado no projeto foi aproximadamente 3 vezes melhor que o modelo aleatório (baseline)."
   ]
  },
  {
   "cell_type": "code",
   "execution_count": 77,
   "id": "aacaa97d",
   "metadata": {
    "ExecuteTime": {
     "end_time": "2023-06-23T22:58:39.614229Z",
     "start_time": "2023-06-23T22:58:39.566303Z"
    }
   },
   "outputs": [
    {
     "data": {
      "text/html": [
       "<div>\n",
       "<style scoped>\n",
       "    .dataframe tbody tr th:only-of-type {\n",
       "        vertical-align: middle;\n",
       "    }\n",
       "\n",
       "    .dataframe tbody tr th {\n",
       "        vertical-align: top;\n",
       "    }\n",
       "\n",
       "    .dataframe thead th {\n",
       "        text-align: right;\n",
       "    }\n",
       "</style>\n",
       "<table border=\"1\" class=\"dataframe\">\n",
       "  <thead>\n",
       "    <tr style=\"text-align: right;\">\n",
       "      <th></th>\n",
       "      <th>CustomerId</th>\n",
       "      <th>Surname</th>\n",
       "      <th>CreditScore</th>\n",
       "      <th>Geography</th>\n",
       "      <th>Gender</th>\n",
       "      <th>Age</th>\n",
       "      <th>Tenure</th>\n",
       "      <th>Balance</th>\n",
       "      <th>NumOfProducts</th>\n",
       "      <th>HasCrCard</th>\n",
       "      <th>IsActiveMember</th>\n",
       "      <th>EstimatedSalary</th>\n",
       "      <th>score</th>\n",
       "    </tr>\n",
       "  </thead>\n",
       "  <tbody>\n",
       "    <tr>\n",
       "      <th>6172</th>\n",
       "      <td>15656822</td>\n",
       "      <td>Day</td>\n",
       "      <td>568</td>\n",
       "      <td>Germany</td>\n",
       "      <td>Male</td>\n",
       "      <td>43</td>\n",
       "      <td>5</td>\n",
       "      <td>87612.64</td>\n",
       "      <td>4</td>\n",
       "      <td>1</td>\n",
       "      <td>1</td>\n",
       "      <td>107155.40</td>\n",
       "      <td>0.976230</td>\n",
       "    </tr>\n",
       "    <tr>\n",
       "      <th>5010</th>\n",
       "      <td>15719508</td>\n",
       "      <td>Davis</td>\n",
       "      <td>575</td>\n",
       "      <td>Germany</td>\n",
       "      <td>Male</td>\n",
       "      <td>49</td>\n",
       "      <td>7</td>\n",
       "      <td>121205.15</td>\n",
       "      <td>4</td>\n",
       "      <td>1</td>\n",
       "      <td>1</td>\n",
       "      <td>168080.53</td>\n",
       "      <td>0.953280</td>\n",
       "    </tr>\n",
       "    <tr>\n",
       "      <th>7435</th>\n",
       "      <td>15647898</td>\n",
       "      <td>Russell</td>\n",
       "      <td>610</td>\n",
       "      <td>Spain</td>\n",
       "      <td>Female</td>\n",
       "      <td>50</td>\n",
       "      <td>5</td>\n",
       "      <td>130554.51</td>\n",
       "      <td>3</td>\n",
       "      <td>1</td>\n",
       "      <td>0</td>\n",
       "      <td>184758.17</td>\n",
       "      <td>0.940741</td>\n",
       "    </tr>\n",
       "    <tr>\n",
       "      <th>9255</th>\n",
       "      <td>15622033</td>\n",
       "      <td>Rapuluchukwu</td>\n",
       "      <td>847</td>\n",
       "      <td>Germany</td>\n",
       "      <td>Female</td>\n",
       "      <td>41</td>\n",
       "      <td>3</td>\n",
       "      <td>101543.51</td>\n",
       "      <td>4</td>\n",
       "      <td>1</td>\n",
       "      <td>0</td>\n",
       "      <td>16025.17</td>\n",
       "      <td>0.884966</td>\n",
       "    </tr>\n",
       "    <tr>\n",
       "      <th>1701</th>\n",
       "      <td>15605279</td>\n",
       "      <td>Francis</td>\n",
       "      <td>792</td>\n",
       "      <td>France</td>\n",
       "      <td>Male</td>\n",
       "      <td>50</td>\n",
       "      <td>9</td>\n",
       "      <td>0.00</td>\n",
       "      <td>4</td>\n",
       "      <td>1</td>\n",
       "      <td>1</td>\n",
       "      <td>194700.81</td>\n",
       "      <td>0.877853</td>\n",
       "    </tr>\n",
       "    <tr>\n",
       "      <th>6255</th>\n",
       "      <td>15589017</td>\n",
       "      <td>Chiu</td>\n",
       "      <td>547</td>\n",
       "      <td>Germany</td>\n",
       "      <td>Male</td>\n",
       "      <td>55</td>\n",
       "      <td>4</td>\n",
       "      <td>111362.76</td>\n",
       "      <td>3</td>\n",
       "      <td>1</td>\n",
       "      <td>0</td>\n",
       "      <td>16922.28</td>\n",
       "      <td>0.859260</td>\n",
       "    </tr>\n",
       "    <tr>\n",
       "      <th>4869</th>\n",
       "      <td>15781272</td>\n",
       "      <td>Coles</td>\n",
       "      <td>669</td>\n",
       "      <td>France</td>\n",
       "      <td>Male</td>\n",
       "      <td>50</td>\n",
       "      <td>4</td>\n",
       "      <td>149713.61</td>\n",
       "      <td>3</td>\n",
       "      <td>1</td>\n",
       "      <td>1</td>\n",
       "      <td>124872.42</td>\n",
       "      <td>0.854216</td>\n",
       "    </tr>\n",
       "    <tr>\n",
       "      <th>2518</th>\n",
       "      <td>15759436</td>\n",
       "      <td>Aksenov</td>\n",
       "      <td>758</td>\n",
       "      <td>France</td>\n",
       "      <td>Female</td>\n",
       "      <td>50</td>\n",
       "      <td>2</td>\n",
       "      <td>95813.76</td>\n",
       "      <td>3</td>\n",
       "      <td>1</td>\n",
       "      <td>1</td>\n",
       "      <td>67944.09</td>\n",
       "      <td>0.849608</td>\n",
       "    </tr>\n",
       "    <tr>\n",
       "      <th>5082</th>\n",
       "      <td>15793307</td>\n",
       "      <td>Calabresi</td>\n",
       "      <td>724</td>\n",
       "      <td>Spain</td>\n",
       "      <td>Female</td>\n",
       "      <td>41</td>\n",
       "      <td>4</td>\n",
       "      <td>142880.28</td>\n",
       "      <td>3</td>\n",
       "      <td>0</td>\n",
       "      <td>0</td>\n",
       "      <td>185541.20</td>\n",
       "      <td>0.846407</td>\n",
       "    </tr>\n",
       "    <tr>\n",
       "      <th>5950</th>\n",
       "      <td>15806808</td>\n",
       "      <td>Hope</td>\n",
       "      <td>834</td>\n",
       "      <td>Germany</td>\n",
       "      <td>Female</td>\n",
       "      <td>57</td>\n",
       "      <td>8</td>\n",
       "      <td>112281.60</td>\n",
       "      <td>3</td>\n",
       "      <td>1</td>\n",
       "      <td>0</td>\n",
       "      <td>140225.14</td>\n",
       "      <td>0.841067</td>\n",
       "    </tr>\n",
       "    <tr>\n",
       "      <th>2977</th>\n",
       "      <td>15655123</td>\n",
       "      <td>Dumetolisa</td>\n",
       "      <td>505</td>\n",
       "      <td>Spain</td>\n",
       "      <td>Female</td>\n",
       "      <td>45</td>\n",
       "      <td>9</td>\n",
       "      <td>131355.30</td>\n",
       "      <td>3</td>\n",
       "      <td>1</td>\n",
       "      <td>0</td>\n",
       "      <td>195395.33</td>\n",
       "      <td>0.828604</td>\n",
       "    </tr>\n",
       "    <tr>\n",
       "      <th>2092</th>\n",
       "      <td>15757408</td>\n",
       "      <td>Lo</td>\n",
       "      <td>655</td>\n",
       "      <td>Spain</td>\n",
       "      <td>Male</td>\n",
       "      <td>38</td>\n",
       "      <td>3</td>\n",
       "      <td>250898.09</td>\n",
       "      <td>3</td>\n",
       "      <td>0</td>\n",
       "      <td>1</td>\n",
       "      <td>81054.00</td>\n",
       "      <td>0.785613</td>\n",
       "    </tr>\n",
       "    <tr>\n",
       "      <th>3175</th>\n",
       "      <td>15764604</td>\n",
       "      <td>Sutherland</td>\n",
       "      <td>586</td>\n",
       "      <td>France</td>\n",
       "      <td>Female</td>\n",
       "      <td>35</td>\n",
       "      <td>7</td>\n",
       "      <td>164769.02</td>\n",
       "      <td>3</td>\n",
       "      <td>1</td>\n",
       "      <td>0</td>\n",
       "      <td>119814.25</td>\n",
       "      <td>0.778428</td>\n",
       "    </tr>\n",
       "    <tr>\n",
       "      <th>7142</th>\n",
       "      <td>15654859</td>\n",
       "      <td>Ngozichukwuka</td>\n",
       "      <td>612</td>\n",
       "      <td>Spain</td>\n",
       "      <td>Female</td>\n",
       "      <td>63</td>\n",
       "      <td>2</td>\n",
       "      <td>131629.17</td>\n",
       "      <td>2</td>\n",
       "      <td>1</td>\n",
       "      <td>0</td>\n",
       "      <td>122109.58</td>\n",
       "      <td>0.772370</td>\n",
       "    </tr>\n",
       "    <tr>\n",
       "      <th>2738</th>\n",
       "      <td>15662098</td>\n",
       "      <td>Palmer</td>\n",
       "      <td>650</td>\n",
       "      <td>Spain</td>\n",
       "      <td>Male</td>\n",
       "      <td>41</td>\n",
       "      <td>3</td>\n",
       "      <td>128808.65</td>\n",
       "      <td>3</td>\n",
       "      <td>0</td>\n",
       "      <td>0</td>\n",
       "      <td>113677.53</td>\n",
       "      <td>0.770585</td>\n",
       "    </tr>\n",
       "    <tr>\n",
       "      <th>4842</th>\n",
       "      <td>15624820</td>\n",
       "      <td>Ross</td>\n",
       "      <td>683</td>\n",
       "      <td>Spain</td>\n",
       "      <td>Male</td>\n",
       "      <td>56</td>\n",
       "      <td>7</td>\n",
       "      <td>50911.21</td>\n",
       "      <td>3</td>\n",
       "      <td>0</td>\n",
       "      <td>0</td>\n",
       "      <td>97629.31</td>\n",
       "      <td>0.770385</td>\n",
       "    </tr>\n",
       "    <tr>\n",
       "      <th>1798</th>\n",
       "      <td>15610446</td>\n",
       "      <td>Chinedum</td>\n",
       "      <td>714</td>\n",
       "      <td>France</td>\n",
       "      <td>Female</td>\n",
       "      <td>51</td>\n",
       "      <td>4</td>\n",
       "      <td>88308.87</td>\n",
       "      <td>3</td>\n",
       "      <td>0</td>\n",
       "      <td>0</td>\n",
       "      <td>5862.53</td>\n",
       "      <td>0.761681</td>\n",
       "    </tr>\n",
       "    <tr>\n",
       "      <th>4784</th>\n",
       "      <td>15811588</td>\n",
       "      <td>Eluemuno</td>\n",
       "      <td>664</td>\n",
       "      <td>Spain</td>\n",
       "      <td>Female</td>\n",
       "      <td>53</td>\n",
       "      <td>7</td>\n",
       "      <td>187602.18</td>\n",
       "      <td>1</td>\n",
       "      <td>1</td>\n",
       "      <td>0</td>\n",
       "      <td>186392.99</td>\n",
       "      <td>0.761339</td>\n",
       "    </tr>\n",
       "    <tr>\n",
       "      <th>7636</th>\n",
       "      <td>15673238</td>\n",
       "      <td>McCarthy</td>\n",
       "      <td>517</td>\n",
       "      <td>Germany</td>\n",
       "      <td>Female</td>\n",
       "      <td>59</td>\n",
       "      <td>8</td>\n",
       "      <td>154110.99</td>\n",
       "      <td>2</td>\n",
       "      <td>1</td>\n",
       "      <td>0</td>\n",
       "      <td>101240.08</td>\n",
       "      <td>0.756899</td>\n",
       "    </tr>\n",
       "    <tr>\n",
       "      <th>4732</th>\n",
       "      <td>15653937</td>\n",
       "      <td>McIntyre</td>\n",
       "      <td>638</td>\n",
       "      <td>Germany</td>\n",
       "      <td>Female</td>\n",
       "      <td>53</td>\n",
       "      <td>1</td>\n",
       "      <td>123916.67</td>\n",
       "      <td>1</td>\n",
       "      <td>1</td>\n",
       "      <td>0</td>\n",
       "      <td>16657.68</td>\n",
       "      <td>0.755318</td>\n",
       "    </tr>\n",
       "  </tbody>\n",
       "</table>\n",
       "</div>"
      ],
      "text/plain": [
       "      CustomerId        Surname  CreditScore Geography  Gender  Age  Tenure  \\\n",
       "6172    15656822            Day          568   Germany    Male   43       5   \n",
       "5010    15719508          Davis          575   Germany    Male   49       7   \n",
       "7435    15647898        Russell          610     Spain  Female   50       5   \n",
       "9255    15622033   Rapuluchukwu          847   Germany  Female   41       3   \n",
       "1701    15605279        Francis          792    France    Male   50       9   \n",
       "6255    15589017           Chiu          547   Germany    Male   55       4   \n",
       "4869    15781272          Coles          669    France    Male   50       4   \n",
       "2518    15759436        Aksenov          758    France  Female   50       2   \n",
       "5082    15793307      Calabresi          724     Spain  Female   41       4   \n",
       "5950    15806808           Hope          834   Germany  Female   57       8   \n",
       "2977    15655123     Dumetolisa          505     Spain  Female   45       9   \n",
       "2092    15757408             Lo          655     Spain    Male   38       3   \n",
       "3175    15764604     Sutherland          586    France  Female   35       7   \n",
       "7142    15654859  Ngozichukwuka          612     Spain  Female   63       2   \n",
       "2738    15662098         Palmer          650     Spain    Male   41       3   \n",
       "4842    15624820           Ross          683     Spain    Male   56       7   \n",
       "1798    15610446       Chinedum          714    France  Female   51       4   \n",
       "4784    15811588       Eluemuno          664     Spain  Female   53       7   \n",
       "7636    15673238       McCarthy          517   Germany  Female   59       8   \n",
       "4732    15653937       McIntyre          638   Germany  Female   53       1   \n",
       "\n",
       "        Balance  NumOfProducts  HasCrCard  IsActiveMember  EstimatedSalary  \\\n",
       "6172   87612.64              4          1               1        107155.40   \n",
       "5010  121205.15              4          1               1        168080.53   \n",
       "7435  130554.51              3          1               0        184758.17   \n",
       "9255  101543.51              4          1               0         16025.17   \n",
       "1701       0.00              4          1               1        194700.81   \n",
       "6255  111362.76              3          1               0         16922.28   \n",
       "4869  149713.61              3          1               1        124872.42   \n",
       "2518   95813.76              3          1               1         67944.09   \n",
       "5082  142880.28              3          0               0        185541.20   \n",
       "5950  112281.60              3          1               0        140225.14   \n",
       "2977  131355.30              3          1               0        195395.33   \n",
       "2092  250898.09              3          0               1         81054.00   \n",
       "3175  164769.02              3          1               0        119814.25   \n",
       "7142  131629.17              2          1               0        122109.58   \n",
       "2738  128808.65              3          0               0        113677.53   \n",
       "4842   50911.21              3          0               0         97629.31   \n",
       "1798   88308.87              3          0               0          5862.53   \n",
       "4784  187602.18              1          1               0        186392.99   \n",
       "7636  154110.99              2          1               0        101240.08   \n",
       "4732  123916.67              1          1               0         16657.68   \n",
       "\n",
       "         score  \n",
       "6172  0.976230  \n",
       "5010  0.953280  \n",
       "7435  0.940741  \n",
       "9255  0.884966  \n",
       "1701  0.877853  \n",
       "6255  0.859260  \n",
       "4869  0.854216  \n",
       "2518  0.849608  \n",
       "5082  0.846407  \n",
       "5950  0.841067  \n",
       "2977  0.828604  \n",
       "2092  0.785613  \n",
       "3175  0.778428  \n",
       "7142  0.772370  \n",
       "2738  0.770585  \n",
       "4842  0.770385  \n",
       "1798  0.761681  \n",
       "4784  0.761339  \n",
       "7636  0.756899  \n",
       "4732  0.755318  "
      ]
     },
     "execution_count": 77,
     "metadata": {},
     "output_type": "execute_result"
    }
   ],
   "source": [
    "clientes = X_test.join(pd.Series(y_score, index=y_test.index, name='score')\n",
    "                      ).sort_values(by='score', ascending=False)\n",
    "\n",
    "clientes = clientes.drop('RowNumber', axis=1)\n",
    "\n",
    "clientes.head(20) # 20 clientes com maior chance de churn"
   ]
  }
 ],
 "metadata": {
  "kernelspec": {
   "display_name": "Python 3 (ipykernel)",
   "language": "python",
   "name": "python3"
  },
  "language_info": {
   "codemirror_mode": {
    "name": "ipython",
    "version": 3
   },
   "file_extension": ".py",
   "mimetype": "text/x-python",
   "name": "python",
   "nbconvert_exporter": "python",
   "pygments_lexer": "ipython3",
   "version": "3.10.6"
  },
  "varInspector": {
   "cols": {
    "lenName": 16,
    "lenType": 16,
    "lenVar": 40
   },
   "kernels_config": {
    "python": {
     "delete_cmd_postfix": "",
     "delete_cmd_prefix": "del ",
     "library": "var_list.py",
     "varRefreshCmd": "print(var_dic_list())"
    },
    "r": {
     "delete_cmd_postfix": ") ",
     "delete_cmd_prefix": "rm(",
     "library": "var_list.r",
     "varRefreshCmd": "cat(var_dic_list()) "
    }
   },
   "types_to_exclude": [
    "module",
    "function",
    "builtin_function_or_method",
    "instance",
    "_Feature"
   ],
   "window_display": false
  }
 },
 "nbformat": 4,
 "nbformat_minor": 5
}
