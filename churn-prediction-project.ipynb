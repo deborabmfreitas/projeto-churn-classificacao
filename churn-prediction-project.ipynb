{
 "cells": [
  {
   "cell_type": "markdown",
   "id": "13324734",
   "metadata": {
    "heading_collapsed": true
   },
   "source": [
    "# Entendimento de negócio\n",
    "\n",
    "`Objetivo geral`\n",
    "- Foi requisitado um modelo de performance para a identificação de clientes em _churn_\n",
    "- Uma espécie de _score_ correspondente à probabilidade de um cliente entrar em _churn_\n",
    " \n",
    "`Métricas`   \n",
    "- Taxa atual de churn da empresa  \n",
    "- Variação da taxa de churn por mês  \n",
    "- Performance do modelo em classificar os clientes com churn  \n",
    "- Qual o faturamento da empresa se ela impedir o churn de clientes  \n",
    "- Qual o valor de um cupom de desconto daria para o cliente, a fim de evitar o churn\n",
    "- Qual o custo total dessse incentivo para a empresa"
   ]
  },
  {
   "cell_type": "markdown",
   "id": "b557925e",
   "metadata": {},
   "source": [
    "# Objetivos da Sprint 1\n",
    "\n",
    "- Descrição dos dados\n",
    "- Análise geral dos dados\n",
    "- Planejamento e substituições de NA\n",
    "- Lista de hipóteses\n",
    "- Split do dataset"
   ]
  },
  {
   "cell_type": "markdown",
   "id": "bf323639",
   "metadata": {},
   "source": [
    "## Descrição dos dados"
   ]
  },
  {
   "cell_type": "markdown",
   "id": "72e1e472",
   "metadata": {},
   "source": [
    "Coluna | Descrição\n",
    "-------|----------\n",
    "RowNumber | Nº da linha\n",
    "CustomerId | ID do cliente\n",
    "Surname | Sobrenome do cliente\n",
    "CreditScore | Pontuação de crédito do cliente para o mercado de consumo\n",
    "Geography | País onde o cliente reside\n",
    "Gender | Gênero do cliente\n",
    "Age | Idade do cliente\n",
    "Tenure| Nº de meses que o cliente permaneceu ativo\n",
    "Balance  | Valor gasto pelo cliente\n",
    "NumOfProducts | Nº de produtos comprados pelo cliente\n",
    "HasCrCard | Indica se o cliente possui ou não um cartão de crédito\n",
    "IsActiveMember | Indica se o cliente ainda tem o cadastro ativo na empresa\n",
    "EstimatedSalary | Estimativa de salário mensal do cliente\n",
    "Exited | Indica se o cliente está ou não em churn "
   ]
  },
  {
   "cell_type": "markdown",
   "id": "409deb3e",
   "metadata": {},
   "source": [
    "## Bibliotecas"
   ]
  },
  {
   "cell_type": "code",
   "execution_count": 2,
   "id": "e0260443",
   "metadata": {
    "ExecuteTime": {
     "end_time": "2023-02-28T18:06:44.684572Z",
     "start_time": "2023-02-28T18:06:34.811991Z"
    }
   },
   "outputs": [],
   "source": [
    "import pandas as pd\n",
    "import numpy as np\n",
    "from sklearn.model_selection import train_test_split\n",
    "import seaborn as sns\n",
    "import matplotlib.pyplot as plt"
   ]
  },
  {
   "cell_type": "markdown",
   "id": "9e0a2859",
   "metadata": {},
   "source": [
    "## Carregando o dataset"
   ]
  },
  {
   "cell_type": "code",
   "execution_count": 5,
   "id": "755bba2b",
   "metadata": {
    "ExecuteTime": {
     "end_time": "2023-02-28T18:11:50.563574Z",
     "start_time": "2023-02-28T18:11:50.507453Z"
    }
   },
   "outputs": [],
   "source": [
    "df_raw = pd.read_csv('data/churn.csv')"
   ]
  },
  {
   "cell_type": "markdown",
   "id": "9daf2181",
   "metadata": {
    "heading_collapsed": true
   },
   "source": [
    "## Análise geral dos dados"
   ]
  },
  {
   "cell_type": "code",
   "execution_count": 6,
   "id": "c8e147ca",
   "metadata": {
    "ExecuteTime": {
     "end_time": "2023-02-28T18:11:50.631683Z",
     "start_time": "2023-02-28T18:11:50.568034Z"
    },
    "hidden": true
   },
   "outputs": [
    {
     "data": {
      "text/html": [
       "<div>\n",
       "<style scoped>\n",
       "    .dataframe tbody tr th:only-of-type {\n",
       "        vertical-align: middle;\n",
       "    }\n",
       "\n",
       "    .dataframe tbody tr th {\n",
       "        vertical-align: top;\n",
       "    }\n",
       "\n",
       "    .dataframe thead th {\n",
       "        text-align: right;\n",
       "    }\n",
       "</style>\n",
       "<table border=\"1\" class=\"dataframe\">\n",
       "  <thead>\n",
       "    <tr style=\"text-align: right;\">\n",
       "      <th></th>\n",
       "      <th>RowNumber</th>\n",
       "      <th>CustomerId</th>\n",
       "      <th>Surname</th>\n",
       "      <th>CreditScore</th>\n",
       "      <th>Geography</th>\n",
       "      <th>Gender</th>\n",
       "      <th>Age</th>\n",
       "      <th>Tenure</th>\n",
       "      <th>Balance</th>\n",
       "      <th>NumOfProducts</th>\n",
       "      <th>HasCrCard</th>\n",
       "      <th>IsActiveMember</th>\n",
       "      <th>EstimatedSalary</th>\n",
       "      <th>Exited</th>\n",
       "    </tr>\n",
       "  </thead>\n",
       "  <tbody>\n",
       "    <tr>\n",
       "      <th>0</th>\n",
       "      <td>1</td>\n",
       "      <td>15634602</td>\n",
       "      <td>Hargrave</td>\n",
       "      <td>619</td>\n",
       "      <td>France</td>\n",
       "      <td>Female</td>\n",
       "      <td>42</td>\n",
       "      <td>2</td>\n",
       "      <td>0.00</td>\n",
       "      <td>1</td>\n",
       "      <td>1</td>\n",
       "      <td>1</td>\n",
       "      <td>101348.88</td>\n",
       "      <td>1</td>\n",
       "    </tr>\n",
       "    <tr>\n",
       "      <th>1</th>\n",
       "      <td>2</td>\n",
       "      <td>15647311</td>\n",
       "      <td>Hill</td>\n",
       "      <td>608</td>\n",
       "      <td>Spain</td>\n",
       "      <td>Female</td>\n",
       "      <td>41</td>\n",
       "      <td>1</td>\n",
       "      <td>83807.86</td>\n",
       "      <td>1</td>\n",
       "      <td>0</td>\n",
       "      <td>1</td>\n",
       "      <td>112542.58</td>\n",
       "      <td>0</td>\n",
       "    </tr>\n",
       "    <tr>\n",
       "      <th>2</th>\n",
       "      <td>3</td>\n",
       "      <td>15619304</td>\n",
       "      <td>Onio</td>\n",
       "      <td>502</td>\n",
       "      <td>France</td>\n",
       "      <td>Female</td>\n",
       "      <td>42</td>\n",
       "      <td>8</td>\n",
       "      <td>159660.80</td>\n",
       "      <td>3</td>\n",
       "      <td>1</td>\n",
       "      <td>0</td>\n",
       "      <td>113931.57</td>\n",
       "      <td>1</td>\n",
       "    </tr>\n",
       "    <tr>\n",
       "      <th>3</th>\n",
       "      <td>4</td>\n",
       "      <td>15701354</td>\n",
       "      <td>Boni</td>\n",
       "      <td>699</td>\n",
       "      <td>France</td>\n",
       "      <td>Female</td>\n",
       "      <td>39</td>\n",
       "      <td>1</td>\n",
       "      <td>0.00</td>\n",
       "      <td>2</td>\n",
       "      <td>0</td>\n",
       "      <td>0</td>\n",
       "      <td>93826.63</td>\n",
       "      <td>0</td>\n",
       "    </tr>\n",
       "    <tr>\n",
       "      <th>4</th>\n",
       "      <td>5</td>\n",
       "      <td>15737888</td>\n",
       "      <td>Mitchell</td>\n",
       "      <td>850</td>\n",
       "      <td>Spain</td>\n",
       "      <td>Female</td>\n",
       "      <td>43</td>\n",
       "      <td>2</td>\n",
       "      <td>125510.82</td>\n",
       "      <td>1</td>\n",
       "      <td>1</td>\n",
       "      <td>1</td>\n",
       "      <td>79084.10</td>\n",
       "      <td>0</td>\n",
       "    </tr>\n",
       "  </tbody>\n",
       "</table>\n",
       "</div>"
      ],
      "text/plain": [
       "   RowNumber  CustomerId   Surname  CreditScore Geography  Gender  Age  \\\n",
       "0          1    15634602  Hargrave          619    France  Female   42   \n",
       "1          2    15647311      Hill          608     Spain  Female   41   \n",
       "2          3    15619304      Onio          502    France  Female   42   \n",
       "3          4    15701354      Boni          699    France  Female   39   \n",
       "4          5    15737888  Mitchell          850     Spain  Female   43   \n",
       "\n",
       "   Tenure    Balance  NumOfProducts  HasCrCard  IsActiveMember  \\\n",
       "0       2       0.00              1          1               1   \n",
       "1       1   83807.86              1          0               1   \n",
       "2       8  159660.80              3          1               0   \n",
       "3       1       0.00              2          0               0   \n",
       "4       2  125510.82              1          1               1   \n",
       "\n",
       "   EstimatedSalary  Exited  \n",
       "0        101348.88       1  \n",
       "1        112542.58       0  \n",
       "2        113931.57       1  \n",
       "3         93826.63       0  \n",
       "4         79084.10       0  "
      ]
     },
     "execution_count": 6,
     "metadata": {},
     "output_type": "execute_result"
    }
   ],
   "source": [
    "# analisando colunas\n",
    "\n",
    "df_raw.head()"
   ]
  },
  {
   "cell_type": "code",
   "execution_count": 7,
   "id": "10e2bf82",
   "metadata": {
    "ExecuteTime": {
     "end_time": "2023-02-28T18:11:50.654241Z",
     "start_time": "2023-02-28T18:11:50.640588Z"
    },
    "hidden": true
   },
   "outputs": [
    {
     "data": {
      "text/plain": [
       "(10000, 14)"
      ]
     },
     "execution_count": 7,
     "metadata": {},
     "output_type": "execute_result"
    }
   ],
   "source": [
    "# checando linhas do dataset\n",
    "\n",
    "df_raw.shape"
   ]
  },
  {
   "cell_type": "code",
   "execution_count": 8,
   "id": "7b18bce0",
   "metadata": {
    "ExecuteTime": {
     "end_time": "2023-02-28T18:11:50.682296Z",
     "start_time": "2023-02-28T18:11:50.666465Z"
    },
    "hidden": true
   },
   "outputs": [
    {
     "data": {
      "text/plain": [
       "Index(['RowNumber', 'CustomerId', 'Surname', 'CreditScore', 'Geography',\n",
       "       'Gender', 'Age', 'Tenure', 'Balance', 'NumOfProducts', 'HasCrCard',\n",
       "       'IsActiveMember', 'EstimatedSalary', 'Exited'],\n",
       "      dtype='object')"
      ]
     },
     "execution_count": 8,
     "metadata": {},
     "output_type": "execute_result"
    }
   ],
   "source": [
    "# checando colunas\n",
    "\n",
    "df_raw.columns"
   ]
  },
  {
   "cell_type": "code",
   "execution_count": 9,
   "id": "b3811733",
   "metadata": {
    "ExecuteTime": {
     "end_time": "2023-02-28T18:11:50.758776Z",
     "start_time": "2023-02-28T18:11:50.687132Z"
    },
    "hidden": true
   },
   "outputs": [
    {
     "name": "stdout",
     "output_type": "stream",
     "text": [
      "<class 'pandas.core.frame.DataFrame'>\n",
      "RangeIndex: 10000 entries, 0 to 9999\n",
      "Data columns (total 14 columns):\n",
      " #   Column           Non-Null Count  Dtype  \n",
      "---  ------           --------------  -----  \n",
      " 0   RowNumber        10000 non-null  int64  \n",
      " 1   CustomerId       10000 non-null  int64  \n",
      " 2   Surname          10000 non-null  object \n",
      " 3   CreditScore      10000 non-null  int64  \n",
      " 4   Geography        10000 non-null  object \n",
      " 5   Gender           10000 non-null  object \n",
      " 6   Age              10000 non-null  int64  \n",
      " 7   Tenure           10000 non-null  int64  \n",
      " 8   Balance          10000 non-null  float64\n",
      " 9   NumOfProducts    10000 non-null  int64  \n",
      " 10  HasCrCard        10000 non-null  int64  \n",
      " 11  IsActiveMember   10000 non-null  int64  \n",
      " 12  EstimatedSalary  10000 non-null  float64\n",
      " 13  Exited           10000 non-null  int64  \n",
      "dtypes: float64(2), int64(9), object(3)\n",
      "memory usage: 1.1+ MB\n"
     ]
    }
   ],
   "source": [
    "# checando os tipos de dados\n",
    "\n",
    "df_raw. info()"
   ]
  },
  {
   "cell_type": "code",
   "execution_count": 10,
   "id": "3fa18eb0",
   "metadata": {
    "ExecuteTime": {
     "end_time": "2023-02-28T18:11:50.881018Z",
     "start_time": "2023-02-28T18:11:50.762674Z"
    },
    "hidden": true
   },
   "outputs": [
    {
     "data": {
      "text/html": [
       "<div>\n",
       "<style scoped>\n",
       "    .dataframe tbody tr th:only-of-type {\n",
       "        vertical-align: middle;\n",
       "    }\n",
       "\n",
       "    .dataframe tbody tr th {\n",
       "        vertical-align: top;\n",
       "    }\n",
       "\n",
       "    .dataframe thead th {\n",
       "        text-align: right;\n",
       "    }\n",
       "</style>\n",
       "<table border=\"1\" class=\"dataframe\">\n",
       "  <thead>\n",
       "    <tr style=\"text-align: right;\">\n",
       "      <th></th>\n",
       "      <th>RowNumber</th>\n",
       "      <th>CustomerId</th>\n",
       "      <th>CreditScore</th>\n",
       "      <th>Age</th>\n",
       "      <th>Tenure</th>\n",
       "      <th>Balance</th>\n",
       "      <th>NumOfProducts</th>\n",
       "      <th>HasCrCard</th>\n",
       "      <th>IsActiveMember</th>\n",
       "      <th>EstimatedSalary</th>\n",
       "      <th>Exited</th>\n",
       "    </tr>\n",
       "  </thead>\n",
       "  <tbody>\n",
       "    <tr>\n",
       "      <th>count</th>\n",
       "      <td>10000.00000</td>\n",
       "      <td>1.000000e+04</td>\n",
       "      <td>10000.000000</td>\n",
       "      <td>10000.000000</td>\n",
       "      <td>10000.000000</td>\n",
       "      <td>10000.000000</td>\n",
       "      <td>10000.000000</td>\n",
       "      <td>10000.00000</td>\n",
       "      <td>10000.000000</td>\n",
       "      <td>10000.000000</td>\n",
       "      <td>10000.000000</td>\n",
       "    </tr>\n",
       "    <tr>\n",
       "      <th>mean</th>\n",
       "      <td>5000.50000</td>\n",
       "      <td>1.569094e+07</td>\n",
       "      <td>650.528800</td>\n",
       "      <td>38.921800</td>\n",
       "      <td>5.012800</td>\n",
       "      <td>76485.889288</td>\n",
       "      <td>1.530200</td>\n",
       "      <td>0.70550</td>\n",
       "      <td>0.515100</td>\n",
       "      <td>100090.239881</td>\n",
       "      <td>0.203700</td>\n",
       "    </tr>\n",
       "    <tr>\n",
       "      <th>std</th>\n",
       "      <td>2886.89568</td>\n",
       "      <td>7.193619e+04</td>\n",
       "      <td>96.653299</td>\n",
       "      <td>10.487806</td>\n",
       "      <td>2.892174</td>\n",
       "      <td>62397.405202</td>\n",
       "      <td>0.581654</td>\n",
       "      <td>0.45584</td>\n",
       "      <td>0.499797</td>\n",
       "      <td>57510.492818</td>\n",
       "      <td>0.402769</td>\n",
       "    </tr>\n",
       "    <tr>\n",
       "      <th>min</th>\n",
       "      <td>1.00000</td>\n",
       "      <td>1.556570e+07</td>\n",
       "      <td>350.000000</td>\n",
       "      <td>18.000000</td>\n",
       "      <td>0.000000</td>\n",
       "      <td>0.000000</td>\n",
       "      <td>1.000000</td>\n",
       "      <td>0.00000</td>\n",
       "      <td>0.000000</td>\n",
       "      <td>11.580000</td>\n",
       "      <td>0.000000</td>\n",
       "    </tr>\n",
       "    <tr>\n",
       "      <th>25%</th>\n",
       "      <td>2500.75000</td>\n",
       "      <td>1.562853e+07</td>\n",
       "      <td>584.000000</td>\n",
       "      <td>32.000000</td>\n",
       "      <td>3.000000</td>\n",
       "      <td>0.000000</td>\n",
       "      <td>1.000000</td>\n",
       "      <td>0.00000</td>\n",
       "      <td>0.000000</td>\n",
       "      <td>51002.110000</td>\n",
       "      <td>0.000000</td>\n",
       "    </tr>\n",
       "    <tr>\n",
       "      <th>50%</th>\n",
       "      <td>5000.50000</td>\n",
       "      <td>1.569074e+07</td>\n",
       "      <td>652.000000</td>\n",
       "      <td>37.000000</td>\n",
       "      <td>5.000000</td>\n",
       "      <td>97198.540000</td>\n",
       "      <td>1.000000</td>\n",
       "      <td>1.00000</td>\n",
       "      <td>1.000000</td>\n",
       "      <td>100193.915000</td>\n",
       "      <td>0.000000</td>\n",
       "    </tr>\n",
       "    <tr>\n",
       "      <th>75%</th>\n",
       "      <td>7500.25000</td>\n",
       "      <td>1.575323e+07</td>\n",
       "      <td>718.000000</td>\n",
       "      <td>44.000000</td>\n",
       "      <td>7.000000</td>\n",
       "      <td>127644.240000</td>\n",
       "      <td>2.000000</td>\n",
       "      <td>1.00000</td>\n",
       "      <td>1.000000</td>\n",
       "      <td>149388.247500</td>\n",
       "      <td>0.000000</td>\n",
       "    </tr>\n",
       "    <tr>\n",
       "      <th>max</th>\n",
       "      <td>10000.00000</td>\n",
       "      <td>1.581569e+07</td>\n",
       "      <td>850.000000</td>\n",
       "      <td>92.000000</td>\n",
       "      <td>10.000000</td>\n",
       "      <td>250898.090000</td>\n",
       "      <td>4.000000</td>\n",
       "      <td>1.00000</td>\n",
       "      <td>1.000000</td>\n",
       "      <td>199992.480000</td>\n",
       "      <td>1.000000</td>\n",
       "    </tr>\n",
       "  </tbody>\n",
       "</table>\n",
       "</div>"
      ],
      "text/plain": [
       "         RowNumber    CustomerId   CreditScore           Age        Tenure  \\\n",
       "count  10000.00000  1.000000e+04  10000.000000  10000.000000  10000.000000   \n",
       "mean    5000.50000  1.569094e+07    650.528800     38.921800      5.012800   \n",
       "std     2886.89568  7.193619e+04     96.653299     10.487806      2.892174   \n",
       "min        1.00000  1.556570e+07    350.000000     18.000000      0.000000   \n",
       "25%     2500.75000  1.562853e+07    584.000000     32.000000      3.000000   \n",
       "50%     5000.50000  1.569074e+07    652.000000     37.000000      5.000000   \n",
       "75%     7500.25000  1.575323e+07    718.000000     44.000000      7.000000   \n",
       "max    10000.00000  1.581569e+07    850.000000     92.000000     10.000000   \n",
       "\n",
       "             Balance  NumOfProducts    HasCrCard  IsActiveMember  \\\n",
       "count   10000.000000   10000.000000  10000.00000    10000.000000   \n",
       "mean    76485.889288       1.530200      0.70550        0.515100   \n",
       "std     62397.405202       0.581654      0.45584        0.499797   \n",
       "min         0.000000       1.000000      0.00000        0.000000   \n",
       "25%         0.000000       1.000000      0.00000        0.000000   \n",
       "50%     97198.540000       1.000000      1.00000        1.000000   \n",
       "75%    127644.240000       2.000000      1.00000        1.000000   \n",
       "max    250898.090000       4.000000      1.00000        1.000000   \n",
       "\n",
       "       EstimatedSalary        Exited  \n",
       "count     10000.000000  10000.000000  \n",
       "mean     100090.239881      0.203700  \n",
       "std       57510.492818      0.402769  \n",
       "min          11.580000      0.000000  \n",
       "25%       51002.110000      0.000000  \n",
       "50%      100193.915000      0.000000  \n",
       "75%      149388.247500      0.000000  \n",
       "max      199992.480000      1.000000  "
      ]
     },
     "execution_count": 10,
     "metadata": {},
     "output_type": "execute_result"
    }
   ],
   "source": [
    "# ver como os dados estão distribuídos\n",
    "\n",
    "df_raw.describe()"
   ]
  },
  {
   "cell_type": "code",
   "execution_count": 11,
   "id": "39d51fd8",
   "metadata": {
    "ExecuteTime": {
     "end_time": "2023-02-28T18:11:50.972343Z",
     "start_time": "2023-02-28T18:11:50.897178Z"
    },
    "hidden": true
   },
   "outputs": [
    {
     "data": {
      "text/plain": [
       "0"
      ]
     },
     "execution_count": 11,
     "metadata": {},
     "output_type": "execute_result"
    }
   ],
   "source": [
    "# checando se há dados duplicados\n",
    "\n",
    "df_raw.duplicated().sum()"
   ]
  },
  {
   "cell_type": "code",
   "execution_count": 12,
   "id": "a1cbdab2",
   "metadata": {
    "ExecuteTime": {
     "end_time": "2023-02-28T18:11:51.016485Z",
     "start_time": "2023-02-28T18:11:50.982922Z"
    },
    "hidden": true,
    "scrolled": true
   },
   "outputs": [
    {
     "data": {
      "text/plain": [
       "Smith       32\n",
       "Scott       29\n",
       "Martin      29\n",
       "Walker      28\n",
       "Brown       26\n",
       "            ..\n",
       "Izmailov     1\n",
       "Bold         1\n",
       "Bonham       1\n",
       "Poninski     1\n",
       "Burbidge     1\n",
       "Name: Surname, Length: 2932, dtype: int64"
      ]
     },
     "execution_count": 12,
     "metadata": {},
     "output_type": "execute_result"
    }
   ],
   "source": [
    "# quantidade de clientes por sobrenome\n",
    "\n",
    "df_raw['Surname'].value_counts()"
   ]
  },
  {
   "cell_type": "code",
   "execution_count": 13,
   "id": "623b75e6",
   "metadata": {
    "ExecuteTime": {
     "end_time": "2023-02-28T18:11:51.041653Z",
     "start_time": "2023-02-28T18:11:51.023424Z"
    },
    "hidden": true
   },
   "outputs": [
    {
     "data": {
      "text/plain": [
       "(2932,)"
      ]
     },
     "execution_count": 13,
     "metadata": {},
     "output_type": "execute_result"
    }
   ],
   "source": [
    "# quantos sobrenomes únicos existem\n",
    "\n",
    "df_raw['Surname'].unique().shape"
   ]
  },
  {
   "cell_type": "code",
   "execution_count": 14,
   "id": "d20ab0cc",
   "metadata": {
    "ExecuteTime": {
     "end_time": "2023-02-28T18:11:51.068492Z",
     "start_time": "2023-02-28T18:11:51.055788Z"
    },
    "hidden": true
   },
   "outputs": [
    {
     "data": {
      "text/plain": [
       "413"
      ]
     },
     "execution_count": 14,
     "metadata": {},
     "output_type": "execute_result"
    }
   ],
   "source": [
    "# quantos clientes são recém-chegados\n",
    "\n",
    "(df_raw['Tenure'] == 0).sum()"
   ]
  },
  {
   "cell_type": "code",
   "execution_count": 15,
   "id": "087ea307",
   "metadata": {
    "ExecuteTime": {
     "end_time": "2023-02-28T18:11:51.095505Z",
     "start_time": "2023-02-28T18:11:51.077859Z"
    },
    "hidden": true
   },
   "outputs": [
    {
     "data": {
      "text/plain": [
       "1    5084\n",
       "2    4590\n",
       "3     266\n",
       "4      60\n",
       "Name: NumOfProducts, dtype: int64"
      ]
     },
     "execution_count": 15,
     "metadata": {},
     "output_type": "execute_result"
    }
   ],
   "source": [
    "# quantidade de clientes por produto\n",
    "\n",
    "df_raw['NumOfProducts'].value_counts()"
   ]
  },
  {
   "cell_type": "code",
   "execution_count": 16,
   "id": "e97156a8",
   "metadata": {
    "ExecuteTime": {
     "end_time": "2023-02-28T18:11:51.126541Z",
     "start_time": "2023-02-28T18:11:51.106312Z"
    },
    "hidden": true
   },
   "outputs": [
    {
     "data": {
      "text/plain": [
       "1    7055\n",
       "0    2945\n",
       "Name: HasCrCard, dtype: int64"
      ]
     },
     "execution_count": 16,
     "metadata": {},
     "output_type": "execute_result"
    }
   ],
   "source": [
    "# contabilizando clientes com e sem cartão\n",
    "\n",
    "df_raw['HasCrCard'].value_counts()"
   ]
  },
  {
   "cell_type": "code",
   "execution_count": 17,
   "id": "4116c7e3",
   "metadata": {
    "ExecuteTime": {
     "end_time": "2023-02-28T18:11:51.148894Z",
     "start_time": "2023-02-28T18:11:51.133984Z"
    },
    "hidden": true
   },
   "outputs": [
    {
     "data": {
      "text/plain": [
       "Male      5457\n",
       "Female    4543\n",
       "Name: Gender, dtype: int64"
      ]
     },
     "execution_count": 17,
     "metadata": {},
     "output_type": "execute_result"
    }
   ],
   "source": [
    "# contabilizando clientes por gênero\n",
    "\n",
    "df_raw['Gender'].value_counts()"
   ]
  },
  {
   "cell_type": "code",
   "execution_count": 18,
   "id": "1ffd8539",
   "metadata": {
    "ExecuteTime": {
     "end_time": "2023-02-28T18:11:51.165808Z",
     "start_time": "2023-02-28T18:11:51.155074Z"
    },
    "hidden": true
   },
   "outputs": [
    {
     "data": {
      "text/plain": [
       "1    5151\n",
       "0    4849\n",
       "Name: IsActiveMember, dtype: int64"
      ]
     },
     "execution_count": 18,
     "metadata": {},
     "output_type": "execute_result"
    }
   ],
   "source": [
    "# verificando quantidade de clientes ativos\n",
    "\n",
    "df_raw['IsActiveMember'].value_counts()"
   ]
  },
  {
   "cell_type": "code",
   "execution_count": 19,
   "id": "08777db9",
   "metadata": {
    "ExecuteTime": {
     "end_time": "2023-02-28T18:11:51.187542Z",
     "start_time": "2023-02-28T18:11:51.172736Z"
    },
    "hidden": true
   },
   "outputs": [
    {
     "data": {
      "text/plain": [
       "0    7963\n",
       "1    2037\n",
       "Name: Exited, dtype: int64"
      ]
     },
     "execution_count": 19,
     "metadata": {},
     "output_type": "execute_result"
    }
   ],
   "source": [
    "# verificando clientes em churn\n",
    "\n",
    "df_raw['Exited'].value_counts()"
   ]
  },
  {
   "cell_type": "code",
   "execution_count": 20,
   "id": "2e019828",
   "metadata": {
    "ExecuteTime": {
     "end_time": "2023-02-28T18:11:51.207597Z",
     "start_time": "2023-02-28T18:11:51.191484Z"
    },
    "hidden": true
   },
   "outputs": [
    {
     "data": {
      "text/plain": [
       "France     5014\n",
       "Germany    2509\n",
       "Spain      2477\n",
       "Name: Geography, dtype: int64"
      ]
     },
     "execution_count": 20,
     "metadata": {},
     "output_type": "execute_result"
    }
   ],
   "source": [
    "# checando países com mais clientes\n",
    "\n",
    "df_raw['Geography'].value_counts()"
   ]
  },
  {
   "cell_type": "markdown",
   "id": "e10f7b4b",
   "metadata": {
    "heading_collapsed": true
   },
   "source": [
    "## Planejamento e substituições de NA"
   ]
  },
  {
   "cell_type": "code",
   "execution_count": 21,
   "id": "987aafbd",
   "metadata": {
    "ExecuteTime": {
     "end_time": "2023-02-28T18:11:51.240482Z",
     "start_time": "2023-02-28T18:11:51.211288Z"
    },
    "hidden": true
   },
   "outputs": [
    {
     "data": {
      "text/plain": [
       "RowNumber          0\n",
       "CustomerId         0\n",
       "Surname            0\n",
       "CreditScore        0\n",
       "Geography          0\n",
       "Gender             0\n",
       "Age                0\n",
       "Tenure             0\n",
       "Balance            0\n",
       "NumOfProducts      0\n",
       "HasCrCard          0\n",
       "IsActiveMember     0\n",
       "EstimatedSalary    0\n",
       "Exited             0\n",
       "dtype: int64"
      ]
     },
     "execution_count": 21,
     "metadata": {},
     "output_type": "execute_result"
    }
   ],
   "source": [
    "# checando dados nulos\n",
    "\n",
    "df_raw.isna().sum()"
   ]
  },
  {
   "cell_type": "markdown",
   "id": "b423f795",
   "metadata": {
    "hidden": true
   },
   "source": [
    "Não foram verificados dados nulos."
   ]
  },
  {
   "cell_type": "markdown",
   "id": "56b58d5c",
   "metadata": {
    "heading_collapsed": true
   },
   "source": [
    "## Levantamento de hipóteses"
   ]
  },
  {
   "cell_type": "markdown",
   "id": "69ad595a",
   "metadata": {
    "hidden": true
   },
   "source": [
    "`Hipótese 1`: Mulheres estão entre os clientes mais cadastrados  \n",
    "`Hipótese 2`: Mulheres compram mais produtos do que homens  \n",
    "`Hipótese 3`: A taxa de churn de homens é maior  \n",
    "`Hipótese 4`: Os clientes mais ativos compram mais produtos  \n",
    "`Hipótese 5`: Clientes franceses utilizam mais o cartão de crédito  \n",
    "`Hipótese 6`: Clientes franceses têm um _credit score_ maior   \n",
    "`Hipótese 7`: Clientes franceses têm menos churn com relação às demais nacionalidades  \n",
    "`Hipótese 8`: Clientes que compram mais produtos possuem menor risco de churn   \n",
    "`Hipótese 9`: Clientes com mais gastos por salário têm menos churn  \n",
    "`Hipótese 10`: Clientes recém-chegados compram mais  \n",
    "`Hipótese 11`: Clientes mais antigos compram menos    \n",
    "`Hipótese 12`: Clientes com maior Tenure possuem maior churn"
   ]
  },
  {
   "cell_type": "markdown",
   "id": "bd521bd3",
   "metadata": {
    "heading_collapsed": true
   },
   "source": [
    "## Split do dataset"
   ]
  },
  {
   "cell_type": "code",
   "execution_count": 22,
   "id": "f1bc6217",
   "metadata": {
    "ExecuteTime": {
     "end_time": "2023-02-28T18:11:51.259817Z",
     "start_time": "2023-02-28T18:11:51.247864Z"
    },
    "hidden": true
   },
   "outputs": [],
   "source": [
    "# cópia do dataset\n",
    "\n",
    "df1 = df_raw.copy()"
   ]
  },
  {
   "cell_type": "code",
   "execution_count": 23,
   "id": "85b6b778",
   "metadata": {
    "ExecuteTime": {
     "end_time": "2023-02-28T18:11:51.279072Z",
     "start_time": "2023-02-28T18:11:51.266443Z"
    },
    "hidden": true
   },
   "outputs": [],
   "source": [
    "# separando features de targets\n",
    "\n",
    "X = df1.drop('Exited', axis=1)\n",
    "y = df1['Exited']"
   ]
  },
  {
   "cell_type": "code",
   "execution_count": 24,
   "id": "7b4fa19a",
   "metadata": {
    "ExecuteTime": {
     "end_time": "2023-02-28T18:11:51.322270Z",
     "start_time": "2023-02-28T18:11:51.282681Z"
    },
    "hidden": true
   },
   "outputs": [],
   "source": [
    "# separando os dados em treino, teste e validação\n",
    "\n",
    "X_train_val, X_test, y_train_val, y_test = train_test_split(\n",
    "    X, y, test_size=0.1, stratify=y, random_state=42)\n",
    "X_train, X_val, y_train, y_val = train_test_split(\n",
    "    X_train_val, y_train_val, test_size=0.1, stratify=y_train_val, random_state=42)"
   ]
  },
  {
   "cell_type": "code",
   "execution_count": 25,
   "id": "e7684544",
   "metadata": {
    "ExecuteTime": {
     "end_time": "2023-02-28T18:11:51.338480Z",
     "start_time": "2023-02-28T18:11:51.326143Z"
    },
    "hidden": true
   },
   "outputs": [
    {
     "name": "stdout",
     "output_type": "stream",
     "text": [
      "Dados de treino: 8100\n",
      "Dados de validação:900\n",
      "Dados de teste: 1000\n"
     ]
    }
   ],
   "source": [
    "# instâncias por split\n",
    "\n",
    "print(f'Dados de treino: {X_train.shape[0]}')\n",
    "print(f'Dados de validação:{X_val.shape[0]}')\n",
    "print(f'Dados de teste: {X_test.shape[0]}')"
   ]
  },
  {
   "cell_type": "markdown",
   "id": "51bb3536",
   "metadata": {
    "heading_collapsed": true
   },
   "source": [
    "# Objetivos da Sprint 2\n",
    "\n",
    "- EDA\n",
    "- Data preparation"
   ]
  },
  {
   "cell_type": "markdown",
   "id": "5193140a",
   "metadata": {
    "heading_collapsed": true,
    "hidden": true
   },
   "source": [
    "## EDA"
   ]
  },
  {
   "cell_type": "markdown",
   "id": "e8076c92",
   "metadata": {
    "heading_collapsed": true,
    "hidden": true
   },
   "source": [
    "### Análise do target"
   ]
  },
  {
   "cell_type": "code",
   "execution_count": 26,
   "id": "cdbb6c89",
   "metadata": {
    "ExecuteTime": {
     "end_time": "2023-02-28T18:11:51.878843Z",
     "start_time": "2023-02-28T18:11:51.346698Z"
    },
    "hidden": true
   },
   "outputs": [
    {
     "data": {
      "text/plain": [
       "<AxesSubplot: xlabel='Exited', ylabel='count'>"
      ]
     },
     "execution_count": 26,
     "metadata": {},
     "output_type": "execute_result"
    },
    {
     "data": {
      "image/png": "[encoded data removed]",
      "text/plain": [
       "<Figure size 432x288 with 1 Axes>"
      ]
     },
     "metadata": {
      "needs_background": "light"
     },
     "output_type": "display_data"
    }
   ],
   "source": [
    "# verificando se os dados estão desbalanceados\n",
    "\n",
    "sns.countplot(data=X_train.join(y_train), x='Exited', palette=['g', 'r'])"
   ]
  },
  {
   "cell_type": "code",
   "execution_count": 27,
   "id": "57149f7c",
   "metadata": {
    "ExecuteTime": {
     "end_time": "2023-02-28T18:11:51.910737Z",
     "start_time": "2023-02-28T18:11:51.889599Z"
    },
    "hidden": true
   },
   "outputs": [
    {
     "data": {
      "text/plain": [
       "0    0.796296\n",
       "1    0.203704\n",
       "Name: Exited, dtype: float64"
      ]
     },
     "execution_count": 27,
     "metadata": {},
     "output_type": "execute_result"
    }
   ],
   "source": [
    "# checando a porcentagem dos dados\n",
    "\n",
    "y_train.value_counts(normalize=True)"
   ]
  },
  {
   "cell_type": "markdown",
   "id": "3687e7ca",
   "metadata": {
    "heading_collapsed": true,
    "hidden": true
   },
   "source": [
    "### Análise das colunas numéricas"
   ]
  },
  {
   "cell_type": "code",
   "execution_count": 28,
   "id": "06694dbb",
   "metadata": {
    "ExecuteTime": {
     "end_time": "2023-02-28T18:11:51.950199Z",
     "start_time": "2023-02-28T18:11:51.920417Z"
    },
    "hidden": true
   },
   "outputs": [],
   "source": [
    "# separando colunas com dados numéricos\n",
    "colunas_numericas = X_train.join(\n",
    "    y_train).select_dtypes(include=['int64', 'float64'])\n",
    "\n",
    "# separando colunas com dados categóricos\n",
    "colunas_categoricas = X_train.join(y_train).select_dtypes(\n",
    "    exclude=['int64', 'float64'])"
   ]
  },
  {
   "cell_type": "code",
   "execution_count": 29,
   "id": "93a5682a",
   "metadata": {
    "ExecuteTime": {
     "end_time": "2023-02-28T18:11:56.467365Z",
     "start_time": "2023-02-28T18:11:51.953800Z"
    },
    "hidden": true
   },
   "outputs": [
    {
     "data": {
      "text/plain": [
       "array([[<AxesSubplot: title={'center': 'RowNumber'}>,\n",
       "        <AxesSubplot: title={'center': 'CustomerId'}>,\n",
       "        <AxesSubplot: title={'center': 'CreditScore'}>],\n",
       "       [<AxesSubplot: title={'center': 'Age'}>,\n",
       "        <AxesSubplot: title={'center': 'Tenure'}>,\n",
       "        <AxesSubplot: title={'center': 'Balance'}>],\n",
       "       [<AxesSubplot: title={'center': 'NumOfProducts'}>,\n",
       "        <AxesSubplot: title={'center': 'HasCrCard'}>,\n",
       "        <AxesSubplot: title={'center': 'IsActiveMember'}>],\n",
       "       [<AxesSubplot: title={'center': 'EstimatedSalary'}>,\n",
       "        <AxesSubplot: title={'center': 'Exited'}>, <AxesSubplot: >]],\n",
       "      dtype=object)"
      ]
     },
     "execution_count": 29,
     "metadata": {},
     "output_type": "execute_result"
    },
    {
     "data": {
      "image/png": "[encoded data removed]",
      "text/plain": [
       "<Figure size 1800x1800 with 12 Axes>"
      ]
     },
     "metadata": {
      "needs_background": "light"
     },
     "output_type": "display_data"
    }
   ],
   "source": [
    "# checando as distribuições das variáveis numéricas\n",
    "\n",
    "colunas_numericas.hist(figsize=(25, 25), bins=25)"
   ]
  },
  {
   "cell_type": "code",
   "execution_count": 30,
   "id": "4f840890",
   "metadata": {
    "ExecuteTime": {
     "end_time": "2023-02-28T18:11:56.559955Z",
     "start_time": "2023-02-28T18:11:56.478468Z"
    },
    "hidden": true
   },
   "outputs": [
    {
     "data": {
      "text/html": [
       "<div>\n",
       "<style scoped>\n",
       "    .dataframe tbody tr th:only-of-type {\n",
       "        vertical-align: middle;\n",
       "    }\n",
       "\n",
       "    .dataframe tbody tr th {\n",
       "        vertical-align: top;\n",
       "    }\n",
       "\n",
       "    .dataframe thead th {\n",
       "        text-align: right;\n",
       "    }\n",
       "</style>\n",
       "<table border=\"1\" class=\"dataframe\">\n",
       "  <thead>\n",
       "    <tr style=\"text-align: right;\">\n",
       "      <th></th>\n",
       "      <th>RowNumber</th>\n",
       "      <th>CustomerId</th>\n",
       "      <th>CreditScore</th>\n",
       "      <th>Age</th>\n",
       "      <th>Tenure</th>\n",
       "      <th>Balance</th>\n",
       "      <th>NumOfProducts</th>\n",
       "      <th>HasCrCard</th>\n",
       "      <th>IsActiveMember</th>\n",
       "      <th>EstimatedSalary</th>\n",
       "      <th>Exited</th>\n",
       "    </tr>\n",
       "  </thead>\n",
       "  <tbody>\n",
       "    <tr>\n",
       "      <th>count</th>\n",
       "      <td>8100.000000</td>\n",
       "      <td>8.100000e+03</td>\n",
       "      <td>8100.000000</td>\n",
       "      <td>8100.000000</td>\n",
       "      <td>8100.000000</td>\n",
       "      <td>8100.000000</td>\n",
       "      <td>8100.000000</td>\n",
       "      <td>8100.000000</td>\n",
       "      <td>8100.000000</td>\n",
       "      <td>8100.000000</td>\n",
       "      <td>8100.000000</td>\n",
       "    </tr>\n",
       "    <tr>\n",
       "      <th>mean</th>\n",
       "      <td>4975.722593</td>\n",
       "      <td>1.569080e+07</td>\n",
       "      <td>651.458889</td>\n",
       "      <td>38.989383</td>\n",
       "      <td>5.017901</td>\n",
       "      <td>76660.420195</td>\n",
       "      <td>1.527778</td>\n",
       "      <td>0.708272</td>\n",
       "      <td>0.516667</td>\n",
       "      <td>99382.137130</td>\n",
       "      <td>0.203704</td>\n",
       "    </tr>\n",
       "    <tr>\n",
       "      <th>std</th>\n",
       "      <td>2880.771212</td>\n",
       "      <td>7.187825e+04</td>\n",
       "      <td>96.536899</td>\n",
       "      <td>10.521793</td>\n",
       "      <td>2.895394</td>\n",
       "      <td>62325.766615</td>\n",
       "      <td>0.583845</td>\n",
       "      <td>0.454586</td>\n",
       "      <td>0.499753</td>\n",
       "      <td>57254.573553</td>\n",
       "      <td>0.402776</td>\n",
       "    </tr>\n",
       "    <tr>\n",
       "      <th>min</th>\n",
       "      <td>1.000000</td>\n",
       "      <td>1.556570e+07</td>\n",
       "      <td>350.000000</td>\n",
       "      <td>18.000000</td>\n",
       "      <td>0.000000</td>\n",
       "      <td>0.000000</td>\n",
       "      <td>1.000000</td>\n",
       "      <td>0.000000</td>\n",
       "      <td>0.000000</td>\n",
       "      <td>90.070000</td>\n",
       "      <td>0.000000</td>\n",
       "    </tr>\n",
       "    <tr>\n",
       "      <th>25%</th>\n",
       "      <td>2487.500000</td>\n",
       "      <td>1.562858e+07</td>\n",
       "      <td>584.000000</td>\n",
       "      <td>32.000000</td>\n",
       "      <td>3.000000</td>\n",
       "      <td>0.000000</td>\n",
       "      <td>1.000000</td>\n",
       "      <td>0.000000</td>\n",
       "      <td>0.000000</td>\n",
       "      <td>50588.367500</td>\n",
       "      <td>0.000000</td>\n",
       "    </tr>\n",
       "    <tr>\n",
       "      <th>50%</th>\n",
       "      <td>4966.500000</td>\n",
       "      <td>1.569033e+07</td>\n",
       "      <td>653.000000</td>\n",
       "      <td>37.000000</td>\n",
       "      <td>5.000000</td>\n",
       "      <td>97331.670000</td>\n",
       "      <td>1.000000</td>\n",
       "      <td>1.000000</td>\n",
       "      <td>1.000000</td>\n",
       "      <td>98923.585000</td>\n",
       "      <td>0.000000</td>\n",
       "    </tr>\n",
       "    <tr>\n",
       "      <th>75%</th>\n",
       "      <td>7478.250000</td>\n",
       "      <td>1.575309e+07</td>\n",
       "      <td>718.000000</td>\n",
       "      <td>44.000000</td>\n",
       "      <td>8.000000</td>\n",
       "      <td>127762.890000</td>\n",
       "      <td>2.000000</td>\n",
       "      <td>1.000000</td>\n",
       "      <td>1.000000</td>\n",
       "      <td>148090.647500</td>\n",
       "      <td>0.000000</td>\n",
       "    </tr>\n",
       "    <tr>\n",
       "      <th>max</th>\n",
       "      <td>10000.000000</td>\n",
       "      <td>1.581569e+07</td>\n",
       "      <td>850.000000</td>\n",
       "      <td>92.000000</td>\n",
       "      <td>10.000000</td>\n",
       "      <td>238387.560000</td>\n",
       "      <td>4.000000</td>\n",
       "      <td>1.000000</td>\n",
       "      <td>1.000000</td>\n",
       "      <td>199992.480000</td>\n",
       "      <td>1.000000</td>\n",
       "    </tr>\n",
       "  </tbody>\n",
       "</table>\n",
       "</div>"
      ],
      "text/plain": [
       "          RowNumber    CustomerId  CreditScore          Age       Tenure  \\\n",
       "count   8100.000000  8.100000e+03  8100.000000  8100.000000  8100.000000   \n",
       "mean    4975.722593  1.569080e+07   651.458889    38.989383     5.017901   \n",
       "std     2880.771212  7.187825e+04    96.536899    10.521793     2.895394   \n",
       "min        1.000000  1.556570e+07   350.000000    18.000000     0.000000   \n",
       "25%     2487.500000  1.562858e+07   584.000000    32.000000     3.000000   \n",
       "50%     4966.500000  1.569033e+07   653.000000    37.000000     5.000000   \n",
       "75%     7478.250000  1.575309e+07   718.000000    44.000000     8.000000   \n",
       "max    10000.000000  1.581569e+07   850.000000    92.000000    10.000000   \n",
       "\n",
       "             Balance  NumOfProducts    HasCrCard  IsActiveMember  \\\n",
       "count    8100.000000    8100.000000  8100.000000     8100.000000   \n",
       "mean    76660.420195       1.527778     0.708272        0.516667   \n",
       "std     62325.766615       0.583845     0.454586        0.499753   \n",
       "min         0.000000       1.000000     0.000000        0.000000   \n",
       "25%         0.000000       1.000000     0.000000        0.000000   \n",
       "50%     97331.670000       1.000000     1.000000        1.000000   \n",
       "75%    127762.890000       2.000000     1.000000        1.000000   \n",
       "max    238387.560000       4.000000     1.000000        1.000000   \n",
       "\n",
       "       EstimatedSalary       Exited  \n",
       "count      8100.000000  8100.000000  \n",
       "mean      99382.137130     0.203704  \n",
       "std       57254.573553     0.402776  \n",
       "min          90.070000     0.000000  \n",
       "25%       50588.367500     0.000000  \n",
       "50%       98923.585000     0.000000  \n",
       "75%      148090.647500     0.000000  \n",
       "max      199992.480000     1.000000  "
      ]
     },
     "execution_count": 30,
     "metadata": {},
     "output_type": "execute_result"
    }
   ],
   "source": [
    "# análise estatística\n",
    "\n",
    "colunas_numericas.describe()"
   ]
  },
  {
   "cell_type": "markdown",
   "id": "0a852a31",
   "metadata": {
    "heading_collapsed": true,
    "hidden": true
   },
   "source": [
    "### Análise das colunas categóricas"
   ]
  },
  {
   "cell_type": "code",
   "execution_count": 31,
   "id": "9fba01c0",
   "metadata": {
    "ExecuteTime": {
     "end_time": "2023-02-28T18:11:56.578160Z",
     "start_time": "2023-02-28T18:11:56.564166Z"
    },
    "hidden": true
   },
   "outputs": [
    {
     "data": {
      "text/plain": [
       "Surname      2642\n",
       "Geography       3\n",
       "Gender          2\n",
       "dtype: int64"
      ]
     },
     "execution_count": 31,
     "metadata": {},
     "output_type": "execute_result"
    }
   ],
   "source": [
    "# valores únicos dos dados categóricos\n",
    "colunas_categoricas.apply(lambda x: x.unique().shape[0])"
   ]
  },
  {
   "cell_type": "code",
   "execution_count": 32,
   "id": "e2680cb7",
   "metadata": {
    "ExecuteTime": {
     "end_time": "2023-02-28T18:11:56.895315Z",
     "start_time": "2023-02-28T18:11:56.598322Z"
    },
    "hidden": true
   },
   "outputs": [
    {
     "data": {
      "text/plain": [
       "<AxesSubplot: xlabel='Geography', ylabel='count'>"
      ]
     },
     "execution_count": 32,
     "metadata": {},
     "output_type": "execute_result"
    },
    {
     "data": {
      "image/png": "[encoded data removed]",
      "text/plain": [
       "<Figure size 432x288 with 1 Axes>"
      ]
     },
     "metadata": {
      "needs_background": "light"
     },
     "output_type": "display_data"
    }
   ],
   "source": [
    "# país\n",
    "\n",
    "sns.countplot(data=X_train.join(y_train), x='Geography')"
   ]
  },
  {
   "cell_type": "code",
   "execution_count": 33,
   "id": "b7008a7e",
   "metadata": {
    "ExecuteTime": {
     "end_time": "2023-02-28T18:11:57.111567Z",
     "start_time": "2023-02-28T18:11:56.899613Z"
    },
    "hidden": true
   },
   "outputs": [
    {
     "data": {
      "text/plain": [
       "<AxesSubplot: xlabel='Gender', ylabel='count'>"
      ]
     },
     "execution_count": 33,
     "metadata": {},
     "output_type": "execute_result"
    },
    {
     "data": {
      "image/png": "[encoded data removed]",
      "text/plain": [
       "<Figure size 432x288 with 1 Axes>"
      ]
     },
     "metadata": {
      "needs_background": "light"
     },
     "output_type": "display_data"
    }
   ],
   "source": [
    "# quantidade de pessoas por gênero\n",
    "\n",
    "sns.countplot(data=X_train.join(y_train), x='Gender')"
   ]
  },
  {
   "cell_type": "markdown",
   "id": "3d564318",
   "metadata": {
    "heading_collapsed": true,
    "hidden": true
   },
   "source": [
    "### Hipóteses"
   ]
  },
  {
   "cell_type": "markdown",
   "id": "b1e14ea2",
   "metadata": {
    "hidden": true
   },
   "source": [
    " `Hipótese 1`: Mulheres estão entre os clientes mais cadastrados - **FALSA**\n",
    " \n",
    "Há mais homens cadastrados."
   ]
  },
  {
   "cell_type": "code",
   "execution_count": 34,
   "id": "e066d637",
   "metadata": {
    "ExecuteTime": {
     "end_time": "2023-02-28T18:11:57.175695Z",
     "start_time": "2023-02-28T18:11:57.115775Z"
    },
    "hidden": true
   },
   "outputs": [
    {
     "data": {
      "text/html": [
       "<div>\n",
       "<style scoped>\n",
       "    .dataframe tbody tr th:only-of-type {\n",
       "        vertical-align: middle;\n",
       "    }\n",
       "\n",
       "    .dataframe tbody tr th {\n",
       "        vertical-align: top;\n",
       "    }\n",
       "\n",
       "    .dataframe thead th {\n",
       "        text-align: right;\n",
       "    }\n",
       "</style>\n",
       "<table border=\"1\" class=\"dataframe\">\n",
       "  <thead>\n",
       "    <tr style=\"text-align: right;\">\n",
       "      <th></th>\n",
       "      <th>Gender</th>\n",
       "      <th>IsActiveMember</th>\n",
       "    </tr>\n",
       "  </thead>\n",
       "  <tbody>\n",
       "    <tr>\n",
       "      <th>0</th>\n",
       "      <td>Female</td>\n",
       "      <td>1842</td>\n",
       "    </tr>\n",
       "    <tr>\n",
       "      <th>1</th>\n",
       "      <td>Male</td>\n",
       "      <td>2343</td>\n",
       "    </tr>\n",
       "  </tbody>\n",
       "</table>\n",
       "</div>"
      ],
      "text/plain": [
       "   Gender  IsActiveMember\n",
       "0  Female            1842\n",
       "1    Male            2343"
      ]
     },
     "execution_count": 34,
     "metadata": {},
     "output_type": "execute_result"
    }
   ],
   "source": [
    "filtro = X_train['IsActiveMember'] == 1\n",
    "h1 = X_train.join(y_train).loc[filtro, ['Gender', 'IsActiveMember']].groupby(\n",
    "    'Gender').count().reset_index()\n",
    "h1"
   ]
  },
  {
   "cell_type": "code",
   "execution_count": 35,
   "id": "1ab5c9c5",
   "metadata": {
    "ExecuteTime": {
     "end_time": "2023-02-28T18:11:57.426331Z",
     "start_time": "2023-02-28T18:11:57.184126Z"
    },
    "hidden": true
   },
   "outputs": [
    {
     "data": {
      "text/plain": [
       "<AxesSubplot: xlabel='Gender', ylabel='IsActiveMember'>"
      ]
     },
     "execution_count": 35,
     "metadata": {},
     "output_type": "execute_result"
    },
    {
     "data": {
      "image/png": "[encoded data removed]",
      "text/plain": [
       "<Figure size 432x288 with 1 Axes>"
      ]
     },
     "metadata": {
      "needs_background": "light"
     },
     "output_type": "display_data"
    }
   ],
   "source": [
    "sns.barplot(data=h1, x='Gender', y='IsActiveMember')"
   ]
  },
  {
   "cell_type": "markdown",
   "id": "8362a462",
   "metadata": {
    "hidden": true
   },
   "source": [
    "`Hipótese 2`: Mulheres compram mais produtos do que homens - **FALSA**  \n",
    " \n",
    " Não há diferença de compra entre os gêneros."
   ]
  },
  {
   "cell_type": "code",
   "execution_count": 36,
   "id": "6e8d9751",
   "metadata": {
    "ExecuteTime": {
     "end_time": "2023-02-28T18:11:57.785077Z",
     "start_time": "2023-02-28T18:11:57.433955Z"
    },
    "hidden": true
   },
   "outputs": [
    {
     "data": {
      "text/plain": [
       "<AxesSubplot: xlabel='Gender'>"
      ]
     },
     "execution_count": 36,
     "metadata": {},
     "output_type": "execute_result"
    },
    {
     "data": {
      "image/png": "[encoded data removed]",
      "text/plain": [
       "<Figure size 432x288 with 1 Axes>"
      ]
     },
     "metadata": {
      "needs_background": "light"
     },
     "output_type": "display_data"
    }
   ],
   "source": [
    "X_train.join(y_train).groupby(\n",
    "    ['Gender', 'NumOfProducts']).size().unstack().plot(kind='bar')"
   ]
  },
  {
   "cell_type": "markdown",
   "id": "865dcad4",
   "metadata": {
    "hidden": true
   },
   "source": [
    " `Hipótese 3`: A taxa de churn de homens é maior - **FALSA**\n",
    " \n",
    "Mulheres dão mais churn."
   ]
  },
  {
   "cell_type": "code",
   "execution_count": 37,
   "id": "b184809c",
   "metadata": {
    "ExecuteTime": {
     "end_time": "2023-02-28T18:11:58.080348Z",
     "start_time": "2023-02-28T18:11:57.789808Z"
    },
    "hidden": true
   },
   "outputs": [
    {
     "data": {
      "text/plain": [
       "<AxesSubplot: xlabel='Gender'>"
      ]
     },
     "execution_count": 37,
     "metadata": {},
     "output_type": "execute_result"
    },
    {
     "data": {
      "image/png": "[encoded data removed]",
      "text/plain": [
       "<Figure size 432x288 with 1 Axes>"
      ]
     },
     "metadata": {
      "needs_background": "light"
     },
     "output_type": "display_data"
    }
   ],
   "source": [
    "X_train.join(y_train).groupby(\n",
    "    ['Gender', 'Exited']).size().unstack().plot(kind='bar')"
   ]
  },
  {
   "cell_type": "code",
   "execution_count": 38,
   "id": "4bd51602",
   "metadata": {
    "ExecuteTime": {
     "end_time": "2023-02-28T18:11:58.111150Z",
     "start_time": "2023-02-28T18:11:58.083913Z"
    },
    "hidden": true
   },
   "outputs": [
    {
     "data": {
      "text/html": [
       "<div>\n",
       "<style scoped>\n",
       "    .dataframe tbody tr th:only-of-type {\n",
       "        vertical-align: middle;\n",
       "    }\n",
       "\n",
       "    .dataframe tbody tr th {\n",
       "        vertical-align: top;\n",
       "    }\n",
       "\n",
       "    .dataframe thead th {\n",
       "        text-align: right;\n",
       "    }\n",
       "</style>\n",
       "<table border=\"1\" class=\"dataframe\">\n",
       "  <thead>\n",
       "    <tr style=\"text-align: right;\">\n",
       "      <th>Exited</th>\n",
       "      <th>0</th>\n",
       "      <th>1</th>\n",
       "    </tr>\n",
       "    <tr>\n",
       "      <th>Gender</th>\n",
       "      <th></th>\n",
       "      <th></th>\n",
       "    </tr>\n",
       "  </thead>\n",
       "  <tbody>\n",
       "    <tr>\n",
       "      <th>Female</th>\n",
       "      <td>2753</td>\n",
       "      <td>924</td>\n",
       "    </tr>\n",
       "    <tr>\n",
       "      <th>Male</th>\n",
       "      <td>3697</td>\n",
       "      <td>726</td>\n",
       "    </tr>\n",
       "  </tbody>\n",
       "</table>\n",
       "</div>"
      ],
      "text/plain": [
       "Exited     0    1\n",
       "Gender           \n",
       "Female  2753  924\n",
       "Male    3697  726"
      ]
     },
     "execution_count": 38,
     "metadata": {},
     "output_type": "execute_result"
    }
   ],
   "source": [
    "churn_gender = X_train.join(y_train).groupby(\n",
    "    ['Gender', 'Exited']).size().unstack()\n",
    "churn_gender"
   ]
  },
  {
   "cell_type": "code",
   "execution_count": 39,
   "id": "af05f8f3",
   "metadata": {
    "ExecuteTime": {
     "end_time": "2023-02-28T18:11:58.150390Z",
     "start_time": "2023-02-28T18:11:58.119282Z"
    },
    "hidden": true
   },
   "outputs": [
    {
     "data": {
      "text/plain": [
       "Gender\n",
       "Female    0.251292\n",
       "Male      0.164142\n",
       "dtype: float64"
      ]
     },
     "execution_count": 39,
     "metadata": {},
     "output_type": "execute_result"
    }
   ],
   "source": [
    "# proporção de gênero por churn\n",
    "\n",
    "churn_gender.iloc[:, 1] / churn_gender.sum(axis=1)"
   ]
  },
  {
   "cell_type": "markdown",
   "id": "dabcc2fd",
   "metadata": {
    "hidden": true
   },
   "source": [
    "`Hipótese 4`: Os clientes mais ativos compram mais produtos - **PARCIALMENTE VERDADEIRA**\n",
    "\n",
    "Até a compra de 2 produtos, os membros ativos compram um pouco mais que os clientes não ativos, porém quando chega a 3 produtos, os clientes ativos compram menos."
   ]
  },
  {
   "cell_type": "code",
   "execution_count": 40,
   "id": "c9a41a43",
   "metadata": {
    "ExecuteTime": {
     "end_time": "2023-02-28T18:11:58.484836Z",
     "start_time": "2023-02-28T18:11:58.154725Z"
    },
    "hidden": true
   },
   "outputs": [
    {
     "data": {
      "text/plain": [
       "<AxesSubplot: xlabel='NumOfProducts'>"
      ]
     },
     "execution_count": 40,
     "metadata": {},
     "output_type": "execute_result"
    },
    {
     "data": {
      "image/png": "[encoded data removed]",
      "text/plain": [
       "<Figure size 432x288 with 1 Axes>"
      ]
     },
     "metadata": {
      "needs_background": "light"
     },
     "output_type": "display_data"
    }
   ],
   "source": [
    "X_train.join(y_train).groupby(\n",
    "    ['NumOfProducts', 'IsActiveMember']).size().unstack().plot(kind='bar')"
   ]
  },
  {
   "cell_type": "markdown",
   "id": "982a7cf1",
   "metadata": {
    "ExecuteTime": {
     "end_time": "2023-02-27T20:08:58.470694Z",
     "start_time": "2023-02-27T20:08:58.463009Z"
    },
    "hidden": true
   },
   "source": [
    " `Hipótese 5`: Clientes franceses utilizam mais o cartão de crédito **FALSA**\n",
    " \n",
    " A proporção é praticamente a mesma."
   ]
  },
  {
   "cell_type": "code",
   "execution_count": 41,
   "id": "1c7539b5",
   "metadata": {
    "ExecuteTime": {
     "end_time": "2023-02-28T18:11:58.519527Z",
     "start_time": "2023-02-28T18:11:58.488801Z"
    },
    "hidden": true
   },
   "outputs": [
    {
     "data": {
      "text/html": [
       "<div>\n",
       "<style scoped>\n",
       "    .dataframe tbody tr th:only-of-type {\n",
       "        vertical-align: middle;\n",
       "    }\n",
       "\n",
       "    .dataframe tbody tr th {\n",
       "        vertical-align: top;\n",
       "    }\n",
       "\n",
       "    .dataframe thead th {\n",
       "        text-align: right;\n",
       "    }\n",
       "</style>\n",
       "<table border=\"1\" class=\"dataframe\">\n",
       "  <thead>\n",
       "    <tr style=\"text-align: right;\">\n",
       "      <th>HasCrCard</th>\n",
       "      <th>0</th>\n",
       "      <th>1</th>\n",
       "    </tr>\n",
       "    <tr>\n",
       "      <th>Geography</th>\n",
       "      <th></th>\n",
       "      <th></th>\n",
       "    </tr>\n",
       "  </thead>\n",
       "  <tbody>\n",
       "    <tr>\n",
       "      <th>France</th>\n",
       "      <td>1188</td>\n",
       "      <td>2858</td>\n",
       "    </tr>\n",
       "    <tr>\n",
       "      <th>Germany</th>\n",
       "      <td>571</td>\n",
       "      <td>1468</td>\n",
       "    </tr>\n",
       "    <tr>\n",
       "      <th>Spain</th>\n",
       "      <td>604</td>\n",
       "      <td>1411</td>\n",
       "    </tr>\n",
       "  </tbody>\n",
       "</table>\n",
       "</div>"
      ],
      "text/plain": [
       "HasCrCard     0     1\n",
       "Geography            \n",
       "France     1188  2858\n",
       "Germany     571  1468\n",
       "Spain       604  1411"
      ]
     },
     "execution_count": 41,
     "metadata": {},
     "output_type": "execute_result"
    }
   ],
   "source": [
    "h5 = X_train.join(y_train).groupby(['Geography', 'HasCrCard']).size().unstack()\n",
    "h5"
   ]
  },
  {
   "cell_type": "code",
   "execution_count": 42,
   "id": "b62ce245",
   "metadata": {
    "ExecuteTime": {
     "end_time": "2023-02-28T18:11:59.031680Z",
     "start_time": "2023-02-28T18:11:58.524338Z"
    },
    "hidden": true
   },
   "outputs": [
    {
     "data": {
      "text/plain": [
       "<AxesSubplot: xlabel='Geography'>"
      ]
     },
     "execution_count": 42,
     "metadata": {},
     "output_type": "execute_result"
    },
    {
     "data": {
      "image/png": "[encoded data removed]",
      "text/plain": [
       "<Figure size 432x288 with 1 Axes>"
      ]
     },
     "metadata": {
      "needs_background": "light"
     },
     "output_type": "display_data"
    }
   ],
   "source": [
    "X_train.join(y_train).groupby(\n",
    "    ['Geography', 'HasCrCard']).size().unstack().plot(kind='bar')"
   ]
  },
  {
   "cell_type": "code",
   "execution_count": 43,
   "id": "fb5e03ec",
   "metadata": {
    "ExecuteTime": {
     "end_time": "2023-02-28T18:11:59.046442Z",
     "start_time": "2023-02-28T18:11:59.035888Z"
    },
    "hidden": true
   },
   "outputs": [
    {
     "data": {
      "text/plain": [
       "Geography\n",
       "France     0.706377\n",
       "Germany    0.719961\n",
       "Spain      0.700248\n",
       "dtype: float64"
      ]
     },
     "execution_count": 43,
     "metadata": {},
     "output_type": "execute_result"
    }
   ],
   "source": [
    "# proporção dos países com o cartão de crédito\n",
    "\n",
    "h5.iloc[:, 1] / h5.sum(axis=1)"
   ]
  },
  {
   "cell_type": "markdown",
   "id": "1a7a7f99",
   "metadata": {
    "hidden": true
   },
   "source": [
    "`Hipótese 6`: Clientes franceses têm um _credit score_ maior - **FALSA**\n",
    "\n",
    "Não foi vista nenhuma diferença entre as distribuições."
   ]
  },
  {
   "cell_type": "code",
   "execution_count": 44,
   "id": "09f355cb",
   "metadata": {
    "ExecuteTime": {
     "end_time": "2023-02-28T18:11:59.920095Z",
     "start_time": "2023-02-28T18:11:59.050403Z"
    },
    "hidden": true
   },
   "outputs": [
    {
     "data": {
      "text/plain": [
       "<AxesSubplot: xlabel='CreditScore', ylabel='Count'>"
      ]
     },
     "execution_count": 44,
     "metadata": {},
     "output_type": "execute_result"
    },
    {
     "data": {
      "image/png": "[encoded data removed]",
      "text/plain": [
       "<Figure size 432x288 with 1 Axes>"
      ]
     },
     "metadata": {
      "needs_background": "light"
     },
     "output_type": "display_data"
    }
   ],
   "source": [
    "sns.histplot(X_train.join(y_train), x='CreditScore', hue='Geography')"
   ]
  },
  {
   "cell_type": "code",
   "execution_count": 45,
   "id": "c6e72247",
   "metadata": {
    "ExecuteTime": {
     "end_time": "2023-02-28T18:12:00.030189Z",
     "start_time": "2023-02-28T18:11:59.924063Z"
    },
    "hidden": true
   },
   "outputs": [
    {
     "data": {
      "text/html": [
       "<div>\n",
       "<style scoped>\n",
       "    .dataframe tbody tr th:only-of-type {\n",
       "        vertical-align: middle;\n",
       "    }\n",
       "\n",
       "    .dataframe tbody tr th {\n",
       "        vertical-align: top;\n",
       "    }\n",
       "\n",
       "    .dataframe thead tr th {\n",
       "        text-align: left;\n",
       "    }\n",
       "\n",
       "    .dataframe thead tr:last-of-type th {\n",
       "        text-align: right;\n",
       "    }\n",
       "</style>\n",
       "<table border=\"1\" class=\"dataframe\">\n",
       "  <thead>\n",
       "    <tr>\n",
       "      <th></th>\n",
       "      <th colspan=\"8\" halign=\"left\">CreditScore</th>\n",
       "    </tr>\n",
       "    <tr>\n",
       "      <th></th>\n",
       "      <th>count</th>\n",
       "      <th>mean</th>\n",
       "      <th>std</th>\n",
       "      <th>min</th>\n",
       "      <th>25%</th>\n",
       "      <th>50%</th>\n",
       "      <th>75%</th>\n",
       "      <th>max</th>\n",
       "    </tr>\n",
       "    <tr>\n",
       "      <th>Geography</th>\n",
       "      <th></th>\n",
       "      <th></th>\n",
       "      <th></th>\n",
       "      <th></th>\n",
       "      <th></th>\n",
       "      <th></th>\n",
       "      <th></th>\n",
       "      <th></th>\n",
       "    </tr>\n",
       "  </thead>\n",
       "  <tbody>\n",
       "    <tr>\n",
       "      <th>France</th>\n",
       "      <td>4046.0</td>\n",
       "      <td>650.727138</td>\n",
       "      <td>97.023465</td>\n",
       "      <td>350.0</td>\n",
       "      <td>583.0</td>\n",
       "      <td>654.0</td>\n",
       "      <td>718.0</td>\n",
       "      <td>850.0</td>\n",
       "    </tr>\n",
       "    <tr>\n",
       "      <th>Germany</th>\n",
       "      <td>2039.0</td>\n",
       "      <td>651.898970</td>\n",
       "      <td>97.907702</td>\n",
       "      <td>350.0</td>\n",
       "      <td>585.0</td>\n",
       "      <td>651.0</td>\n",
       "      <td>723.0</td>\n",
       "      <td>850.0</td>\n",
       "    </tr>\n",
       "    <tr>\n",
       "      <th>Spain</th>\n",
       "      <td>2015.0</td>\n",
       "      <td>652.482878</td>\n",
       "      <td>94.167035</td>\n",
       "      <td>358.0</td>\n",
       "      <td>588.0</td>\n",
       "      <td>653.0</td>\n",
       "      <td>717.0</td>\n",
       "      <td>850.0</td>\n",
       "    </tr>\n",
       "  </tbody>\n",
       "</table>\n",
       "</div>"
      ],
      "text/plain": [
       "          CreditScore                                                     \\\n",
       "                count        mean        std    min    25%    50%    75%   \n",
       "Geography                                                                  \n",
       "France         4046.0  650.727138  97.023465  350.0  583.0  654.0  718.0   \n",
       "Germany        2039.0  651.898970  97.907702  350.0  585.0  651.0  723.0   \n",
       "Spain          2015.0  652.482878  94.167035  358.0  588.0  653.0  717.0   \n",
       "\n",
       "                  \n",
       "             max  \n",
       "Geography         \n",
       "France     850.0  \n",
       "Germany    850.0  \n",
       "Spain      850.0  "
      ]
     },
     "execution_count": 45,
     "metadata": {},
     "output_type": "execute_result"
    }
   ],
   "source": [
    "X_train[['CreditScore', 'Geography']].groupby('Geography').describe()"
   ]
  },
  {
   "cell_type": "markdown",
   "id": "53bd25e8",
   "metadata": {
    "hidden": true
   },
   "source": [
    " `Hipótese 7`: Clientes franceses têm menos churn com relação às demais nacionalidades - **PARCIALMENTE VERDADEIRA**\n",
    " \n",
    " Não foi notada nenhuma diferença entre a França e Espanha, no entanto, a Alemanha apresenta maior churn. "
   ]
  },
  {
   "cell_type": "code",
   "execution_count": 46,
   "id": "490eba3e",
   "metadata": {
    "ExecuteTime": {
     "end_time": "2023-02-28T18:12:00.086405Z",
     "start_time": "2023-02-28T18:12:00.048312Z"
    },
    "hidden": true
   },
   "outputs": [
    {
     "data": {
      "text/html": [
       "<div>\n",
       "<style scoped>\n",
       "    .dataframe tbody tr th:only-of-type {\n",
       "        vertical-align: middle;\n",
       "    }\n",
       "\n",
       "    .dataframe tbody tr th {\n",
       "        vertical-align: top;\n",
       "    }\n",
       "\n",
       "    .dataframe thead th {\n",
       "        text-align: right;\n",
       "    }\n",
       "</style>\n",
       "<table border=\"1\" class=\"dataframe\">\n",
       "  <thead>\n",
       "    <tr style=\"text-align: right;\">\n",
       "      <th>Exited</th>\n",
       "      <th>0</th>\n",
       "      <th>1</th>\n",
       "    </tr>\n",
       "    <tr>\n",
       "      <th>Geography</th>\n",
       "      <th></th>\n",
       "      <th></th>\n",
       "    </tr>\n",
       "  </thead>\n",
       "  <tbody>\n",
       "    <tr>\n",
       "      <th>France</th>\n",
       "      <td>3389</td>\n",
       "      <td>657</td>\n",
       "    </tr>\n",
       "    <tr>\n",
       "      <th>Germany</th>\n",
       "      <td>1374</td>\n",
       "      <td>665</td>\n",
       "    </tr>\n",
       "    <tr>\n",
       "      <th>Spain</th>\n",
       "      <td>1687</td>\n",
       "      <td>328</td>\n",
       "    </tr>\n",
       "  </tbody>\n",
       "</table>\n",
       "</div>"
      ],
      "text/plain": [
       "Exited        0    1\n",
       "Geography           \n",
       "France     3389  657\n",
       "Germany    1374  665\n",
       "Spain      1687  328"
      ]
     },
     "execution_count": 46,
     "metadata": {},
     "output_type": "execute_result"
    }
   ],
   "source": [
    "h7 = X_train.join(y_train).groupby(['Geography', 'Exited']).size().unstack()\n",
    "h7"
   ]
  },
  {
   "cell_type": "code",
   "execution_count": 47,
   "id": "abcd2502",
   "metadata": {
    "ExecuteTime": {
     "end_time": "2023-02-28T18:12:00.450951Z",
     "start_time": "2023-02-28T18:12:00.100523Z"
    },
    "hidden": true,
    "scrolled": true
   },
   "outputs": [
    {
     "data": {
      "text/plain": [
       "<AxesSubplot: xlabel='Geography'>"
      ]
     },
     "execution_count": 47,
     "metadata": {},
     "output_type": "execute_result"
    },
    {
     "data": {
      "image/png": "[encoded data removed]",
      "text/plain": [
       "<Figure size 432x288 with 1 Axes>"
      ]
     },
     "metadata": {
      "needs_background": "light"
     },
     "output_type": "display_data"
    }
   ],
   "source": [
    "X_train.join(y_train).groupby(\n",
    "    ['Geography', 'Exited']).size().unstack().plot(kind='bar')"
   ]
  },
  {
   "cell_type": "code",
   "execution_count": 48,
   "id": "05ec5209",
   "metadata": {
    "ExecuteTime": {
     "end_time": "2023-02-28T18:12:00.466667Z",
     "start_time": "2023-02-28T18:12:00.454405Z"
    },
    "hidden": true
   },
   "outputs": [
    {
     "data": {
      "text/plain": [
       "Geography\n",
       "France     0.162383\n",
       "Germany    0.326140\n",
       "Spain      0.162779\n",
       "dtype: float64"
      ]
     },
     "execution_count": 48,
     "metadata": {},
     "output_type": "execute_result"
    }
   ],
   "source": [
    "# proporção do churn por país\n",
    "\n",
    "h7.iloc[:, 1] / h7.sum(axis=1)"
   ]
  },
  {
   "cell_type": "markdown",
   "id": "7c86f1d4",
   "metadata": {
    "hidden": true
   },
   "source": [
    "`Hipótese 8`: Clientes que compram mais produtos possuem menor risco de churn - **PARCIAL**\n",
    "\n",
    "Clientes que compram mais de dois produtos têm maior churn."
   ]
  },
  {
   "cell_type": "code",
   "execution_count": 49,
   "id": "52ab961d",
   "metadata": {
    "ExecuteTime": {
     "end_time": "2023-02-28T18:12:00.801030Z",
     "start_time": "2023-02-28T18:12:00.478602Z"
    },
    "hidden": true
   },
   "outputs": [
    {
     "data": {
      "text/plain": [
       "<AxesSubplot: xlabel='NumOfProducts'>"
      ]
     },
     "execution_count": 49,
     "metadata": {},
     "output_type": "execute_result"
    },
    {
     "data": {
      "image/png": "[encoded data removed]",
      "text/plain": [
       "<Figure size 432x288 with 1 Axes>"
      ]
     },
     "metadata": {
      "needs_background": "light"
     },
     "output_type": "display_data"
    }
   ],
   "source": [
    "X_train.join(y_train).groupby(\n",
    "    ['NumOfProducts', 'Exited']).size().unstack().plot(kind='bar')"
   ]
  },
  {
   "cell_type": "markdown",
   "id": "f2892c63",
   "metadata": {
    "hidden": true
   },
   "source": [
    " `Hipótese 9`: Clientes com mais gastos por salário têm menos churn\n",
    " \n",
    " Inserir coluna de features engineering (gastos por salário)."
   ]
  },
  {
   "cell_type": "markdown",
   "id": "e80d97de",
   "metadata": {
    "hidden": true
   },
   "source": [
    "`Hipótese 10`: Clientes recém-chegados compram mais - **FALSA**\n",
    "\n",
    "Clientes recém-chegados não compram que os demais. Também foi observado que compram mais 1 ou 2 produtos."
   ]
  },
  {
   "cell_type": "code",
   "execution_count": 50,
   "id": "ea9d6968",
   "metadata": {
    "ExecuteTime": {
     "end_time": "2023-02-28T18:12:01.654506Z",
     "start_time": "2023-02-28T18:12:00.811108Z"
    },
    "hidden": true
   },
   "outputs": [
    {
     "data": {
      "text/plain": [
       "<AxesSubplot: xlabel='Tenure', ylabel='Count'>"
      ]
     },
     "execution_count": 50,
     "metadata": {},
     "output_type": "execute_result"
    },
    {
     "data": {
      "image/png": "[encoded data removed]",
      "text/plain": [
       "<Figure size 432x288 with 1 Axes>"
      ]
     },
     "metadata": {
      "needs_background": "light"
     },
     "output_type": "display_data"
    }
   ],
   "source": [
    "sns.histplot(X_train.join(y_train), x='Tenure', hue='NumOfProducts')"
   ]
  },
  {
   "cell_type": "markdown",
   "id": "5e1a5e7a",
   "metadata": {
    "hidden": true
   },
   "source": [
    "`Hipótese 11`: Clientes mais antigos compram menos  - **VERDADEIRO**"
   ]
  },
  {
   "cell_type": "markdown",
   "id": "eb63b313",
   "metadata": {
    "hidden": true
   },
   "source": [
    "Verdadeiro. Como visto acima, clientes mais antigos compram menos e, geralmente, compram 2 produtos.\n",
    "\n",
    "Compram a mesma quantidade que clientes recém-chegados."
   ]
  },
  {
   "cell_type": "markdown",
   "id": "0697d466",
   "metadata": {
    "hidden": true
   },
   "source": [
    " `Hipótese 12`: Clientes com maior Tenure possuem maior churn- **FALSA**\n",
    " \n",
    "Não há diferença."
   ]
  },
  {
   "cell_type": "code",
   "execution_count": 51,
   "id": "d0bf77d0",
   "metadata": {
    "ExecuteTime": {
     "end_time": "2023-02-28T18:12:02.157067Z",
     "start_time": "2023-02-28T18:12:01.658813Z"
    },
    "hidden": true
   },
   "outputs": [
    {
     "data": {
      "text/plain": [
       "<AxesSubplot: xlabel='Tenure', ylabel='Count'>"
      ]
     },
     "execution_count": 51,
     "metadata": {},
     "output_type": "execute_result"
    },
    {
     "data": {
      "image/png": "[encoded data removed]",
      "text/plain": [
       "<Figure size 432x288 with 1 Axes>"
      ]
     },
     "metadata": {
      "needs_background": "light"
     },
     "output_type": "display_data"
    }
   ],
   "source": [
    "sns.histplot(data=X_train.join(y_train)[\n",
    "             X_train['IsActiveMember'] == 0], x='Tenure', hue='Exited', discrete=True)"
   ]
  },
  {
   "cell_type": "markdown",
   "id": "79df0392",
   "metadata": {
    "heading_collapsed": true,
    "hidden": true
   },
   "source": [
    "### Correlação de variáveis numéricas"
   ]
  },
  {
   "cell_type": "code",
   "execution_count": 52,
   "id": "e3b1a657",
   "metadata": {
    "ExecuteTime": {
     "end_time": "2023-02-28T18:12:02.946227Z",
     "start_time": "2023-02-28T18:12:02.162575Z"
    },
    "hidden": true,
    "scrolled": false
   },
   "outputs": [
    {
     "data": {
      "text/plain": [
       "<function matplotlib.pyplot.show(close=None, block=None)>"
      ]
     },
     "execution_count": 52,
     "metadata": {},
     "output_type": "execute_result"
    },
    {
     "data": {
      "image/png": "[encoded data removed]",
      "text/plain": [
       "<Figure size 720x360 with 2 Axes>"
      ]
     },
     "metadata": {
      "needs_background": "light"
     },
     "output_type": "display_data"
    }
   ],
   "source": [
    "plt.figure(figsize=(10, 5))\n",
    "\n",
    "cols = colunas_numericas[['Age', 'CreditScore', 'Tenure',\n",
    "                          'Balance', 'EstimatedSalary', 'NumOfProducts']].join(y_train)\n",
    "\n",
    "sns.heatmap(cols.corr(), annot=True)\n",
    "plt.show"
   ]
  },
  {
   "cell_type": "markdown",
   "id": "485060f5",
   "metadata": {
    "hidden": true
   },
   "source": [
    "Existe uma correlação entre 'Age' e 'Exited'."
   ]
  },
  {
   "cell_type": "markdown",
   "id": "de3bd171",
   "metadata": {
    "heading_collapsed": true,
    "hidden": true
   },
   "source": [
    "## Data preparation"
   ]
  },
  {
   "cell_type": "markdown",
   "id": "09aa4544",
   "metadata": {
    "heading_collapsed": true,
    "hidden": true
   },
   "source": [
    "### Features engineering"
   ]
  },
  {
   "cell_type": "markdown",
   "id": "0214acd1",
   "metadata": {
    "hidden": true
   },
   "source": [
    "- Inserir coluna de gasto por salário\n",
    "- `BalancePerSalary` = 'Balance' / 'EstimatedSalary'"
   ]
  },
  {
   "cell_type": "code",
   "execution_count": 53,
   "id": "c22ba497",
   "metadata": {
    "ExecuteTime": {
     "end_time": "2023-02-28T18:12:02.963945Z",
     "start_time": "2023-02-28T18:12:02.950263Z"
    },
    "hidden": true
   },
   "outputs": [],
   "source": [
    "# criando classes para tratar igualmente os dados de treino, teste e validação\n",
    "\n",
    "from sklearn.base import BaseEstimator, TransformerMixin\n",
    "\n",
    "\n",
    "class Feature_drop(BaseEstimator, TransformerMixin):\n",
    "    def __init__(self, cols):\n",
    "        self.cols = cols\n",
    "\n",
    "    def fit(self, X, y=None):\n",
    "        return self\n",
    "\n",
    "    def transform(self, X, y=None):\n",
    "        return X.drop(self.cols, axis=1)\n",
    "\n",
    "\n",
    "class Add_BalancePerSalary(BaseEstimator, TransformerMixin):\n",
    "    def __init__(self):\n",
    "        pass\n",
    "\n",
    "    def fit(self, X, y=None):\n",
    "        return self\n",
    "\n",
    "    def transform(self, X, y=None):\n",
    "        X['BalancePerSalary'] = X['Balance']/X['EstimatedSalary']\n",
    "        return X"
   ]
  },
  {
   "cell_type": "markdown",
   "id": "4deaec8b",
   "metadata": {
    "heading_collapsed": true,
    "hidden": true
   },
   "source": [
    "### Criação do pipeline / transformação"
   ]
  },
  {
   "cell_type": "code",
   "execution_count": 54,
   "id": "8d0770a4",
   "metadata": {
    "ExecuteTime": {
     "end_time": "2023-02-28T18:12:03.024736Z",
     "start_time": "2023-02-28T18:12:02.970606Z"
    },
    "hidden": true
   },
   "outputs": [],
   "source": [
    "from sklearn.pipeline import Pipeline\n",
    "from sklearn.preprocessing import OneHotEncoder, StandardScaler\n",
    "from sklearn.compose import ColumnTransformer"
   ]
  },
  {
   "cell_type": "code",
   "execution_count": 55,
   "id": "6c796d47",
   "metadata": {
    "ExecuteTime": {
     "end_time": "2023-02-28T18:12:03.043973Z",
     "start_time": "2023-02-28T18:12:03.030491Z"
    },
    "hidden": true
   },
   "outputs": [],
   "source": [
    "# instanciando transformadores\n",
    "\n",
    "\n",
    "fd = Feature_drop(['RowNumber', 'CustomerId', 'Surname'])\n",
    "# encoding (one hot encoding)\n",
    "ohe = OneHotEncoder(drop='first', sparse_output=False)\n",
    "ohe_ct = ColumnTransformer(\n",
    "    [('ohe_ct', ohe, ['Geography', 'Gender'])], remainder='passthrough')\n",
    "standard_scaler = StandardScaler()\n",
    "\n",
    "\n",
    "pipeline = Pipeline([('drop', fd), ('one_hot', ohe_ct),\n",
    "                    ('StanderScaler', standard_scaler)])"
   ]
  },
  {
   "cell_type": "markdown",
   "id": "0171d1f9",
   "metadata": {},
   "source": [
    "# Objetivos da Sprint 3"
   ]
  },
  {
   "cell_type": "markdown",
   "id": "525f5550",
   "metadata": {},
   "source": [
    "- Utilizar algoritmos de Machine learning\n",
    "\n",
    "- Ver métricas de performance\n",
    "\n",
    "- Ver avaliação final"
   ]
  },
  {
   "cell_type": "code",
   "execution_count": 56,
   "id": "5392e320",
   "metadata": {
    "ExecuteTime": {
     "end_time": "2023-02-28T18:12:03.119486Z",
     "start_time": "2023-02-28T18:12:03.048181Z"
    }
   },
   "outputs": [],
   "source": [
    "# transformando dados de treino\n",
    "\n",
    "X_train_tr = pipeline.fit_transform(X_train)\n",
    "\n",
    "\n",
    "# transformando os dados de validação\n",
    "\n",
    "X_val_tr = pipeline.fit_transform(X_val)"
   ]
  },
  {
   "cell_type": "code",
   "execution_count": 57,
   "id": "80816a4e",
   "metadata": {
    "ExecuteTime": {
     "end_time": "2023-02-28T18:12:04.131756Z",
     "start_time": "2023-02-28T18:12:03.123301Z"
    }
   },
   "outputs": [],
   "source": [
    "from sklearn.metrics import accuracy_score, recall_score, precision_score\n",
    "from sklearn.linear_model import LogisticRegression\n",
    "from sklearn.svm import SVC\n",
    "from sklearn.ensemble import RandomForestClassifier"
   ]
  },
  {
   "cell_type": "code",
   "execution_count": 58,
   "id": "507fc311",
   "metadata": {
    "ExecuteTime": {
     "end_time": "2023-02-28T18:12:04.141241Z",
     "start_time": "2023-02-28T18:12:04.135127Z"
    }
   },
   "outputs": [],
   "source": [
    "def ml_metrics(model_name, y_test, y_pred):\n",
    "    accuracy = accuracy_score(y_test, y_pred)\n",
    "    recall = recall_score(y_test, y_pred)\n",
    "    precision = precision_score(y_test, y_pred)\n",
    "    return pd.DataFrame([{'Model': model_name, 'Accuracy': accuracy, 'Recall': recall,\n",
    "                          'Precision': precision}], index=[0])"
   ]
  },
  {
   "cell_type": "markdown",
   "id": "4266f7c1",
   "metadata": {},
   "source": [
    "Obs: os modelos possuem como parâmetro o class_weight='balanced' porque os dados estão desbalanceados, por isso, irão considerar mais a classe mais desbalanceada _não churn_."
   ]
  },
  {
   "cell_type": "markdown",
   "id": "50d1a4d0",
   "metadata": {},
   "source": [
    "## LogisticRegression"
   ]
  },
  {
   "cell_type": "code",
   "execution_count": 59,
   "id": "3c2494fb",
   "metadata": {
    "ExecuteTime": {
     "end_time": "2023-02-28T18:12:04.230661Z",
     "start_time": "2023-02-28T18:12:04.145863Z"
    }
   },
   "outputs": [],
   "source": [
    "log_reg = LogisticRegression(class_weight='balanced')\n",
    "log_reg.fit(X_train_tr, y_train)\n",
    "y_val_pred = log_reg.predict(X_val_tr)"
   ]
  },
  {
   "cell_type": "code",
   "execution_count": 60,
   "id": "43dcf40a",
   "metadata": {
    "ExecuteTime": {
     "end_time": "2023-02-28T18:12:04.294340Z",
     "start_time": "2023-02-28T18:12:04.233626Z"
    }
   },
   "outputs": [
    {
     "data": {
      "text/html": [
       "<div>\n",
       "<style scoped>\n",
       "    .dataframe tbody tr th:only-of-type {\n",
       "        vertical-align: middle;\n",
       "    }\n",
       "\n",
       "    .dataframe tbody tr th {\n",
       "        vertical-align: top;\n",
       "    }\n",
       "\n",
       "    .dataframe thead th {\n",
       "        text-align: right;\n",
       "    }\n",
       "</style>\n",
       "<table border=\"1\" class=\"dataframe\">\n",
       "  <thead>\n",
       "    <tr style=\"text-align: right;\">\n",
       "      <th></th>\n",
       "      <th>Model</th>\n",
       "      <th>Accuracy</th>\n",
       "      <th>Recall</th>\n",
       "      <th>Precision</th>\n",
       "    </tr>\n",
       "  </thead>\n",
       "  <tbody>\n",
       "    <tr>\n",
       "      <th>0</th>\n",
       "      <td>LogisticRegression</td>\n",
       "      <td>0.714444</td>\n",
       "      <td>0.655738</td>\n",
       "      <td>0.382166</td>\n",
       "    </tr>\n",
       "  </tbody>\n",
       "</table>\n",
       "</div>"
      ],
      "text/plain": [
       "                Model  Accuracy    Recall  Precision\n",
       "0  LogisticRegression  0.714444  0.655738   0.382166"
      ]
     },
     "execution_count": 60,
     "metadata": {},
     "output_type": "execute_result"
    }
   ],
   "source": [
    "log_reg_result = ml_metrics('LogisticRegression',y_val, y_val_pred)\n",
    "log_reg_result"
   ]
  },
  {
   "cell_type": "markdown",
   "id": "4c77f140",
   "metadata": {},
   "source": [
    "## SVM"
   ]
  },
  {
   "cell_type": "code",
   "execution_count": 61,
   "id": "d1284835",
   "metadata": {
    "ExecuteTime": {
     "end_time": "2023-02-28T18:12:08.681535Z",
     "start_time": "2023-02-28T18:12:04.298697Z"
    }
   },
   "outputs": [],
   "source": [
    "svm = SVC(class_weight='balanced')\n",
    "svm.fit(X_train_tr, y_train)\n",
    "y_val_pred = svm.predict(X_val_tr)"
   ]
  },
  {
   "cell_type": "code",
   "execution_count": 62,
   "id": "f0f9d0ce",
   "metadata": {
    "ExecuteTime": {
     "end_time": "2023-02-28T18:12:08.717512Z",
     "start_time": "2023-02-28T18:12:08.685513Z"
    }
   },
   "outputs": [
    {
     "data": {
      "text/html": [
       "<div>\n",
       "<style scoped>\n",
       "    .dataframe tbody tr th:only-of-type {\n",
       "        vertical-align: middle;\n",
       "    }\n",
       "\n",
       "    .dataframe tbody tr th {\n",
       "        vertical-align: top;\n",
       "    }\n",
       "\n",
       "    .dataframe thead th {\n",
       "        text-align: right;\n",
       "    }\n",
       "</style>\n",
       "<table border=\"1\" class=\"dataframe\">\n",
       "  <thead>\n",
       "    <tr style=\"text-align: right;\">\n",
       "      <th></th>\n",
       "      <th>Model</th>\n",
       "      <th>Accuracy</th>\n",
       "      <th>Recall</th>\n",
       "      <th>Precision</th>\n",
       "    </tr>\n",
       "  </thead>\n",
       "  <tbody>\n",
       "    <tr>\n",
       "      <th>0</th>\n",
       "      <td>SVM</td>\n",
       "      <td>0.791111</td>\n",
       "      <td>0.693989</td>\n",
       "      <td>0.490347</td>\n",
       "    </tr>\n",
       "  </tbody>\n",
       "</table>\n",
       "</div>"
      ],
      "text/plain": [
       "  Model  Accuracy    Recall  Precision\n",
       "0   SVM  0.791111  0.693989   0.490347"
      ]
     },
     "execution_count": 62,
     "metadata": {},
     "output_type": "execute_result"
    }
   ],
   "source": [
    "svm_result = ml_metrics('SVM',y_val, y_val_pred)\n",
    "svm_result"
   ]
  },
  {
   "cell_type": "markdown",
   "id": "014177c9",
   "metadata": {},
   "source": [
    "## Random Forest Classifier"
   ]
  },
  {
   "cell_type": "code",
   "execution_count": 63,
   "id": "a5c8e8a7",
   "metadata": {
    "ExecuteTime": {
     "end_time": "2023-02-28T18:12:09.826455Z",
     "start_time": "2023-02-28T18:12:08.722206Z"
    }
   },
   "outputs": [],
   "source": [
    "rfc = RandomForestClassifier(class_weight='balanced',random_state=42, min_samples_leaf=25)\n",
    "rfc.fit(X_train_tr, y_train)\n",
    "y_val_pred = rfc.predict(X_val_tr)"
   ]
  },
  {
   "cell_type": "code",
   "execution_count": 64,
   "id": "9774d482",
   "metadata": {
    "ExecuteTime": {
     "end_time": "2023-02-28T18:12:09.852472Z",
     "start_time": "2023-02-28T18:12:09.829913Z"
    }
   },
   "outputs": [
    {
     "data": {
      "text/html": [
       "<div>\n",
       "<style scoped>\n",
       "    .dataframe tbody tr th:only-of-type {\n",
       "        vertical-align: middle;\n",
       "    }\n",
       "\n",
       "    .dataframe tbody tr th {\n",
       "        vertical-align: top;\n",
       "    }\n",
       "\n",
       "    .dataframe thead th {\n",
       "        text-align: right;\n",
       "    }\n",
       "</style>\n",
       "<table border=\"1\" class=\"dataframe\">\n",
       "  <thead>\n",
       "    <tr style=\"text-align: right;\">\n",
       "      <th></th>\n",
       "      <th>Model</th>\n",
       "      <th>Accuracy</th>\n",
       "      <th>Recall</th>\n",
       "      <th>Precision</th>\n",
       "    </tr>\n",
       "  </thead>\n",
       "  <tbody>\n",
       "    <tr>\n",
       "      <th>0</th>\n",
       "      <td>Random Forest Classifier</td>\n",
       "      <td>0.801111</td>\n",
       "      <td>0.704918</td>\n",
       "      <td>0.507874</td>\n",
       "    </tr>\n",
       "  </tbody>\n",
       "</table>\n",
       "</div>"
      ],
      "text/plain": [
       "                      Model  Accuracy    Recall  Precision\n",
       "0  Random Forest Classifier  0.801111  0.704918   0.507874"
      ]
     },
     "execution_count": 64,
     "metadata": {},
     "output_type": "execute_result"
    }
   ],
   "source": [
    "rfc_result = ml_metrics('Random Forest Classifier',y_val, y_val_pred)\n",
    "rfc_result"
   ]
  },
  {
   "cell_type": "markdown",
   "id": "d0b7011e",
   "metadata": {},
   "source": [
    "## Comparando performances do modelo"
   ]
  },
  {
   "cell_type": "code",
   "execution_count": 65,
   "id": "a039392c",
   "metadata": {
    "ExecuteTime": {
     "end_time": "2023-02-28T18:12:09.893012Z",
     "start_time": "2023-02-28T18:12:09.856375Z"
    }
   },
   "outputs": [
    {
     "data": {
      "text/html": [
       "<div>\n",
       "<style scoped>\n",
       "    .dataframe tbody tr th:only-of-type {\n",
       "        vertical-align: middle;\n",
       "    }\n",
       "\n",
       "    .dataframe tbody tr th {\n",
       "        vertical-align: top;\n",
       "    }\n",
       "\n",
       "    .dataframe thead th {\n",
       "        text-align: right;\n",
       "    }\n",
       "</style>\n",
       "<table border=\"1\" class=\"dataframe\">\n",
       "  <thead>\n",
       "    <tr style=\"text-align: right;\">\n",
       "      <th></th>\n",
       "      <th>Model</th>\n",
       "      <th>Accuracy</th>\n",
       "      <th>Recall</th>\n",
       "      <th>Precision</th>\n",
       "    </tr>\n",
       "  </thead>\n",
       "  <tbody>\n",
       "    <tr>\n",
       "      <th>0</th>\n",
       "      <td>LogisticRegression</td>\n",
       "      <td>0.714444</td>\n",
       "      <td>0.655738</td>\n",
       "      <td>0.382166</td>\n",
       "    </tr>\n",
       "    <tr>\n",
       "      <th>0</th>\n",
       "      <td>SVM</td>\n",
       "      <td>0.791111</td>\n",
       "      <td>0.693989</td>\n",
       "      <td>0.490347</td>\n",
       "    </tr>\n",
       "    <tr>\n",
       "      <th>0</th>\n",
       "      <td>Random Forest Classifier</td>\n",
       "      <td>0.801111</td>\n",
       "      <td>0.704918</td>\n",
       "      <td>0.507874</td>\n",
       "    </tr>\n",
       "  </tbody>\n",
       "</table>\n",
       "</div>"
      ],
      "text/plain": [
       "                      Model  Accuracy    Recall  Precision\n",
       "0        LogisticRegression  0.714444  0.655738   0.382166\n",
       "0                       SVM  0.791111  0.693989   0.490347\n",
       "0  Random Forest Classifier  0.801111  0.704918   0.507874"
      ]
     },
     "execution_count": 65,
     "metadata": {},
     "output_type": "execute_result"
    }
   ],
   "source": [
    "metrics =  pd.concat([log_reg_result, svm_result, rfc_result])\n",
    "metrics"
   ]
  },
  {
   "cell_type": "markdown",
   "id": "5c12ff56",
   "metadata": {},
   "source": [
    "## Otimização dos hiperparâmetros"
   ]
  },
  {
   "cell_type": "code",
   "execution_count": 66,
   "id": "b60d29f0",
   "metadata": {
    "ExecuteTime": {
     "end_time": "2023-02-28T18:12:09.908546Z",
     "start_time": "2023-02-28T18:12:09.896609Z"
    }
   },
   "outputs": [],
   "source": [
    "from sklearn.model_selection import RandomizedSearchCV"
   ]
  },
  {
   "cell_type": "code",
   "execution_count": 67,
   "id": "70867b65",
   "metadata": {
    "ExecuteTime": {
     "end_time": "2023-02-28T18:12:09.924888Z",
     "start_time": "2023-02-28T18:12:09.914413Z"
    }
   },
   "outputs": [],
   "source": [
    "param = {'n_estimators' : [100, 200, 400, 500],\n",
    "        'min_samples_leaf': [10, 25, 50, 100],\n",
    "        }"
   ]
  },
  {
   "cell_type": "code",
   "execution_count": 68,
   "id": "84261c04",
   "metadata": {
    "ExecuteTime": {
     "end_time": "2023-02-28T18:14:08.255095Z",
     "start_time": "2023-02-28T18:12:09.928729Z"
    }
   },
   "outputs": [
    {
     "data": {
      "text/html": [
       "<style>#sk-container-id-1 {color: black;background-color: white;}#sk-container-id-1 pre{padding: 0;}#sk-container-id-1 div.sk-toggleable {background-color: white;}#sk-container-id-1 label.sk-toggleable__label {cursor: pointer;display: block;width: 100%;margin-bottom: 0;padding: 0.3em;box-sizing: border-box;text-align: center;}#sk-container-id-1 label.sk-toggleable__label-arrow:before {content: \"▸\";float: left;margin-right: 0.25em;color: #696969;}#sk-container-id-1 label.sk-toggleable__label-arrow:hover:before {color: black;}#sk-container-id-1 div.sk-estimator:hover label.sk-toggleable__label-arrow:before {color: black;}#sk-container-id-1 div.sk-toggleable__content {max-height: 0;max-width: 0;overflow: hidden;text-align: left;background-color: #f0f8ff;}#sk-container-id-1 div.sk-toggleable__content pre {margin: 0.2em;color: black;border-radius: 0.25em;background-color: #f0f8ff;}#sk-container-id-1 input.sk-toggleable__control:checked~div.sk-toggleable__content {max-height: 200px;max-width: 100%;overflow: auto;}#sk-container-id-1 input.sk-toggleable__control:checked~label.sk-toggleable__label-arrow:before {content: \"▾\";}#sk-container-id-1 div.sk-estimator input.sk-toggleable__control:checked~label.sk-toggleable__label {background-color: #d4ebff;}#sk-container-id-1 div.sk-label input.sk-toggleable__control:checked~label.sk-toggleable__label {background-color: #d4ebff;}#sk-container-id-1 input.sk-hidden--visually {border: 0;clip: rect(1px 1px 1px 1px);clip: rect(1px, 1px, 1px, 1px);height: 1px;margin: -1px;overflow: hidden;padding: 0;position: absolute;width: 1px;}#sk-container-id-1 div.sk-estimator {font-family: monospace;background-color: #f0f8ff;border: 1px dotted black;border-radius: 0.25em;box-sizing: border-box;margin-bottom: 0.5em;}#sk-container-id-1 div.sk-estimator:hover {background-color: #d4ebff;}#sk-container-id-1 div.sk-parallel-item::after {content: \"\";width: 100%;border-bottom: 1px solid gray;flex-grow: 1;}#sk-container-id-1 div.sk-label:hover label.sk-toggleable__label {background-color: #d4ebff;}#sk-container-id-1 div.sk-serial::before {content: \"\";position: absolute;border-left: 1px solid gray;box-sizing: border-box;top: 0;bottom: 0;left: 50%;z-index: 0;}#sk-container-id-1 div.sk-serial {display: flex;flex-direction: column;align-items: center;background-color: white;padding-right: 0.2em;padding-left: 0.2em;position: relative;}#sk-container-id-1 div.sk-item {position: relative;z-index: 1;}#sk-container-id-1 div.sk-parallel {display: flex;align-items: stretch;justify-content: center;background-color: white;position: relative;}#sk-container-id-1 div.sk-item::before, #sk-container-id-1 div.sk-parallel-item::before {content: \"\";position: absolute;border-left: 1px solid gray;box-sizing: border-box;top: 0;bottom: 0;left: 50%;z-index: -1;}#sk-container-id-1 div.sk-parallel-item {display: flex;flex-direction: column;z-index: 1;position: relative;background-color: white;}#sk-container-id-1 div.sk-parallel-item:first-child::after {align-self: flex-end;width: 50%;}#sk-container-id-1 div.sk-parallel-item:last-child::after {align-self: flex-start;width: 50%;}#sk-container-id-1 div.sk-parallel-item:only-child::after {width: 0;}#sk-container-id-1 div.sk-dashed-wrapped {border: 1px dashed gray;margin: 0 0.4em 0.5em 0.4em;box-sizing: border-box;padding-bottom: 0.4em;background-color: white;}#sk-container-id-1 div.sk-label label {font-family: monospace;font-weight: bold;display: inline-block;line-height: 1.2em;}#sk-container-id-1 div.sk-label-container {text-align: center;}#sk-container-id-1 div.sk-container {/* jupyter's `normalize.less` sets `[hidden] { display: none; }` but bootstrap.min.css set `[hidden] { display: none !important; }` so we also need the `!important` here to be able to override the default hidden behavior on the sphinx rendered scikit-learn.org. See: https://github.com/scikit-learn/scikit-learn/issues/21755 */display: inline-block !important;position: relative;}#sk-container-id-1 div.sk-text-repr-fallback {display: none;}</style><div id=\"sk-container-id-1\" class=\"sk-top-container\"><div class=\"sk-text-repr-fallback\"><pre>RandomizedSearchCV(cv=5,\n",
       "                   estimator=RandomForestClassifier(class_weight=&#x27;balanced&#x27;,\n",
       "                                                    min_samples_leaf=25,\n",
       "                                                    random_state=42),\n",
       "                   param_distributions={&#x27;min_samples_leaf&#x27;: [10, 25, 50, 100],\n",
       "                                        &#x27;n_estimators&#x27;: [100, 200, 400, 500]},\n",
       "                   random_state=42, scoring=&#x27;recall&#x27;)</pre><b>In a Jupyter environment, please rerun this cell to show the HTML representation or trust the notebook. <br />On GitHub, the HTML representation is unable to render, please try loading this page with nbviewer.org.</b></div><div class=\"sk-container\" hidden><div class=\"sk-item sk-dashed-wrapped\"><div class=\"sk-label-container\"><div class=\"sk-label sk-toggleable\"><input class=\"sk-toggleable__control sk-hidden--visually\" id=\"sk-estimator-id-1\" type=\"checkbox\" ><label for=\"sk-estimator-id-1\" class=\"sk-toggleable__label sk-toggleable__label-arrow\">RandomizedSearchCV</label><div class=\"sk-toggleable__content\"><pre>RandomizedSearchCV(cv=5,\n",
       "                   estimator=RandomForestClassifier(class_weight=&#x27;balanced&#x27;,\n",
       "                                                    min_samples_leaf=25,\n",
       "                                                    random_state=42),\n",
       "                   param_distributions={&#x27;min_samples_leaf&#x27;: [10, 25, 50, 100],\n",
       "                                        &#x27;n_estimators&#x27;: [100, 200, 400, 500]},\n",
       "                   random_state=42, scoring=&#x27;recall&#x27;)</pre></div></div></div><div class=\"sk-parallel\"><div class=\"sk-parallel-item\"><div class=\"sk-item\"><div class=\"sk-label-container\"><div class=\"sk-label sk-toggleable\"><input class=\"sk-toggleable__control sk-hidden--visually\" id=\"sk-estimator-id-2\" type=\"checkbox\" ><label for=\"sk-estimator-id-2\" class=\"sk-toggleable__label sk-toggleable__label-arrow\">estimator: RandomForestClassifier</label><div class=\"sk-toggleable__content\"><pre>RandomForestClassifier(class_weight=&#x27;balanced&#x27;, min_samples_leaf=25,\n",
       "                       random_state=42)</pre></div></div></div><div class=\"sk-serial\"><div class=\"sk-item\"><div class=\"sk-estimator sk-toggleable\"><input class=\"sk-toggleable__control sk-hidden--visually\" id=\"sk-estimator-id-3\" type=\"checkbox\" ><label for=\"sk-estimator-id-3\" class=\"sk-toggleable__label sk-toggleable__label-arrow\">RandomForestClassifier</label><div class=\"sk-toggleable__content\"><pre>RandomForestClassifier(class_weight=&#x27;balanced&#x27;, min_samples_leaf=25,\n",
       "                       random_state=42)</pre></div></div></div></div></div></div></div></div></div></div>"
      ],
      "text/plain": [
       "RandomizedSearchCV(cv=5,\n",
       "                   estimator=RandomForestClassifier(class_weight='balanced',\n",
       "                                                    min_samples_leaf=25,\n",
       "                                                    random_state=42),\n",
       "                   param_distributions={'min_samples_leaf': [10, 25, 50, 100],\n",
       "                                        'n_estimators': [100, 200, 400, 500]},\n",
       "                   random_state=42, scoring='recall')"
      ]
     },
     "execution_count": 68,
     "metadata": {},
     "output_type": "execute_result"
    }
   ],
   "source": [
    "# otimização dos hiperparâmetros\n",
    "\n",
    "rfc_tuned = RandomizedSearchCV(estimator= rfc, param_distributions= param, n_iter= 10, scoring='recall', cv= 5, random_state= 42)\n",
    "rfc_tuned.fit(X_train_tr, y_train)"
   ]
  },
  {
   "cell_type": "code",
   "execution_count": 69,
   "id": "c4468507",
   "metadata": {
    "ExecuteTime": {
     "end_time": "2023-02-28T18:14:08.268296Z",
     "start_time": "2023-02-28T18:14:08.259432Z"
    }
   },
   "outputs": [
    {
     "data": {
      "text/plain": [
       "0.730909090909091"
      ]
     },
     "execution_count": 69,
     "metadata": {},
     "output_type": "execute_result"
    }
   ],
   "source": [
    "# melhor recall das combinações testadas\n",
    "\n",
    "rfc_tuned.best_score_"
   ]
  },
  {
   "cell_type": "code",
   "execution_count": 70,
   "id": "ec6738a9",
   "metadata": {
    "ExecuteTime": {
     "end_time": "2023-02-28T18:14:08.283775Z",
     "start_time": "2023-02-28T18:14:08.272600Z"
    }
   },
   "outputs": [
    {
     "data": {
      "text/html": [
       "<style>#sk-container-id-2 {color: black;background-color: white;}#sk-container-id-2 pre{padding: 0;}#sk-container-id-2 div.sk-toggleable {background-color: white;}#sk-container-id-2 label.sk-toggleable__label {cursor: pointer;display: block;width: 100%;margin-bottom: 0;padding: 0.3em;box-sizing: border-box;text-align: center;}#sk-container-id-2 label.sk-toggleable__label-arrow:before {content: \"▸\";float: left;margin-right: 0.25em;color: #696969;}#sk-container-id-2 label.sk-toggleable__label-arrow:hover:before {color: black;}#sk-container-id-2 div.sk-estimator:hover label.sk-toggleable__label-arrow:before {color: black;}#sk-container-id-2 div.sk-toggleable__content {max-height: 0;max-width: 0;overflow: hidden;text-align: left;background-color: #f0f8ff;}#sk-container-id-2 div.sk-toggleable__content pre {margin: 0.2em;color: black;border-radius: 0.25em;background-color: #f0f8ff;}#sk-container-id-2 input.sk-toggleable__control:checked~div.sk-toggleable__content {max-height: 200px;max-width: 100%;overflow: auto;}#sk-container-id-2 input.sk-toggleable__control:checked~label.sk-toggleable__label-arrow:before {content: \"▾\";}#sk-container-id-2 div.sk-estimator input.sk-toggleable__control:checked~label.sk-toggleable__label {background-color: #d4ebff;}#sk-container-id-2 div.sk-label input.sk-toggleable__control:checked~label.sk-toggleable__label {background-color: #d4ebff;}#sk-container-id-2 input.sk-hidden--visually {border: 0;clip: rect(1px 1px 1px 1px);clip: rect(1px, 1px, 1px, 1px);height: 1px;margin: -1px;overflow: hidden;padding: 0;position: absolute;width: 1px;}#sk-container-id-2 div.sk-estimator {font-family: monospace;background-color: #f0f8ff;border: 1px dotted black;border-radius: 0.25em;box-sizing: border-box;margin-bottom: 0.5em;}#sk-container-id-2 div.sk-estimator:hover {background-color: #d4ebff;}#sk-container-id-2 div.sk-parallel-item::after {content: \"\";width: 100%;border-bottom: 1px solid gray;flex-grow: 1;}#sk-container-id-2 div.sk-label:hover label.sk-toggleable__label {background-color: #d4ebff;}#sk-container-id-2 div.sk-serial::before {content: \"\";position: absolute;border-left: 1px solid gray;box-sizing: border-box;top: 0;bottom: 0;left: 50%;z-index: 0;}#sk-container-id-2 div.sk-serial {display: flex;flex-direction: column;align-items: center;background-color: white;padding-right: 0.2em;padding-left: 0.2em;position: relative;}#sk-container-id-2 div.sk-item {position: relative;z-index: 1;}#sk-container-id-2 div.sk-parallel {display: flex;align-items: stretch;justify-content: center;background-color: white;position: relative;}#sk-container-id-2 div.sk-item::before, #sk-container-id-2 div.sk-parallel-item::before {content: \"\";position: absolute;border-left: 1px solid gray;box-sizing: border-box;top: 0;bottom: 0;left: 50%;z-index: -1;}#sk-container-id-2 div.sk-parallel-item {display: flex;flex-direction: column;z-index: 1;position: relative;background-color: white;}#sk-container-id-2 div.sk-parallel-item:first-child::after {align-self: flex-end;width: 50%;}#sk-container-id-2 div.sk-parallel-item:last-child::after {align-self: flex-start;width: 50%;}#sk-container-id-2 div.sk-parallel-item:only-child::after {width: 0;}#sk-container-id-2 div.sk-dashed-wrapped {border: 1px dashed gray;margin: 0 0.4em 0.5em 0.4em;box-sizing: border-box;padding-bottom: 0.4em;background-color: white;}#sk-container-id-2 div.sk-label label {font-family: monospace;font-weight: bold;display: inline-block;line-height: 1.2em;}#sk-container-id-2 div.sk-label-container {text-align: center;}#sk-container-id-2 div.sk-container {/* jupyter's `normalize.less` sets `[hidden] { display: none; }` but bootstrap.min.css set `[hidden] { display: none !important; }` so we also need the `!important` here to be able to override the default hidden behavior on the sphinx rendered scikit-learn.org. See: https://github.com/scikit-learn/scikit-learn/issues/21755 */display: inline-block !important;position: relative;}#sk-container-id-2 div.sk-text-repr-fallback {display: none;}</style><div id=\"sk-container-id-2\" class=\"sk-top-container\"><div class=\"sk-text-repr-fallback\"><pre>RandomForestClassifier(class_weight=&#x27;balanced&#x27;, min_samples_leaf=50,\n",
       "                       n_estimators=500, random_state=42)</pre><b>In a Jupyter environment, please rerun this cell to show the HTML representation or trust the notebook. <br />On GitHub, the HTML representation is unable to render, please try loading this page with nbviewer.org.</b></div><div class=\"sk-container\" hidden><div class=\"sk-item\"><div class=\"sk-estimator sk-toggleable\"><input class=\"sk-toggleable__control sk-hidden--visually\" id=\"sk-estimator-id-4\" type=\"checkbox\" checked><label for=\"sk-estimator-id-4\" class=\"sk-toggleable__label sk-toggleable__label-arrow\">RandomForestClassifier</label><div class=\"sk-toggleable__content\"><pre>RandomForestClassifier(class_weight=&#x27;balanced&#x27;, min_samples_leaf=50,\n",
       "                       n_estimators=500, random_state=42)</pre></div></div></div></div></div>"
      ],
      "text/plain": [
       "RandomForestClassifier(class_weight='balanced', min_samples_leaf=50,\n",
       "                       n_estimators=500, random_state=42)"
      ]
     },
     "execution_count": 70,
     "metadata": {},
     "output_type": "execute_result"
    }
   ],
   "source": [
    "# melhores parâmetros\n",
    "\n",
    "rfc_opt = rfc_tuned.best_estimator_\n",
    "rfc_opt"
   ]
  },
  {
   "cell_type": "code",
   "execution_count": 71,
   "id": "10abb3dc",
   "metadata": {
    "ExecuteTime": {
     "end_time": "2023-02-28T18:14:08.451912Z",
     "start_time": "2023-02-28T18:14:08.291554Z"
    }
   },
   "outputs": [],
   "source": [
    "# métricas de validação\n",
    "\n",
    "y_val_pred = rfc_opt.predict(X_val_tr)"
   ]
  },
  {
   "cell_type": "code",
   "execution_count": 72,
   "id": "891bf896",
   "metadata": {
    "ExecuteTime": {
     "end_time": "2023-02-28T18:14:08.490339Z",
     "start_time": "2023-02-28T18:14:08.455436Z"
    }
   },
   "outputs": [
    {
     "data": {
      "text/html": [
       "<div>\n",
       "<style scoped>\n",
       "    .dataframe tbody tr th:only-of-type {\n",
       "        vertical-align: middle;\n",
       "    }\n",
       "\n",
       "    .dataframe tbody tr th {\n",
       "        vertical-align: top;\n",
       "    }\n",
       "\n",
       "    .dataframe thead th {\n",
       "        text-align: right;\n",
       "    }\n",
       "</style>\n",
       "<table border=\"1\" class=\"dataframe\">\n",
       "  <thead>\n",
       "    <tr style=\"text-align: right;\">\n",
       "      <th></th>\n",
       "      <th>Model</th>\n",
       "      <th>Accuracy</th>\n",
       "      <th>Recall</th>\n",
       "      <th>Precision</th>\n",
       "    </tr>\n",
       "  </thead>\n",
       "  <tbody>\n",
       "    <tr>\n",
       "      <th>0</th>\n",
       "      <td>RFC-CV</td>\n",
       "      <td>0.79</td>\n",
       "      <td>0.73224</td>\n",
       "      <td>0.489051</td>\n",
       "    </tr>\n",
       "  </tbody>\n",
       "</table>\n",
       "</div>"
      ],
      "text/plain": [
       "    Model  Accuracy   Recall  Precision\n",
       "0  RFC-CV      0.79  0.73224   0.489051"
      ]
     },
     "execution_count": 72,
     "metadata": {},
     "output_type": "execute_result"
    }
   ],
   "source": [
    "# a performance dos dados de validação\n",
    "\n",
    "rfc_cv = ml_metrics('RFC-CV',y_val, y_val_pred)\n",
    "rfc_cv"
   ]
  },
  {
   "cell_type": "markdown",
   "id": "ebfc182a",
   "metadata": {},
   "source": [
    " ## Avaliação final"
   ]
  },
  {
   "cell_type": "code",
   "execution_count": 73,
   "id": "9fe393d1",
   "metadata": {
    "ExecuteTime": {
     "end_time": "2023-02-28T18:14:08.692629Z",
     "start_time": "2023-02-28T18:14:08.501762Z"
    }
   },
   "outputs": [],
   "source": [
    "X_test_tr = pipeline.transform(X_test)\n",
    "\n",
    "y_test_pred = rfc_opt.predict(X_test_tr)"
   ]
  },
  {
   "cell_type": "code",
   "execution_count": 74,
   "id": "fcdb3490",
   "metadata": {
    "ExecuteTime": {
     "end_time": "2023-02-28T18:14:08.732973Z",
     "start_time": "2023-02-28T18:14:08.696094Z"
    },
    "scrolled": true
   },
   "outputs": [
    {
     "data": {
      "text/html": [
       "<div>\n",
       "<style scoped>\n",
       "    .dataframe tbody tr th:only-of-type {\n",
       "        vertical-align: middle;\n",
       "    }\n",
       "\n",
       "    .dataframe tbody tr th {\n",
       "        vertical-align: top;\n",
       "    }\n",
       "\n",
       "    .dataframe thead th {\n",
       "        text-align: right;\n",
       "    }\n",
       "</style>\n",
       "<table border=\"1\" class=\"dataframe\">\n",
       "  <thead>\n",
       "    <tr style=\"text-align: right;\">\n",
       "      <th></th>\n",
       "      <th>Model</th>\n",
       "      <th>Accuracy</th>\n",
       "      <th>Recall</th>\n",
       "      <th>Precision</th>\n",
       "    </tr>\n",
       "  </thead>\n",
       "  <tbody>\n",
       "    <tr>\n",
       "      <th>0</th>\n",
       "      <td>AV-FINAL</td>\n",
       "      <td>0.779</td>\n",
       "      <td>0.794118</td>\n",
       "      <td>0.475073</td>\n",
       "    </tr>\n",
       "  </tbody>\n",
       "</table>\n",
       "</div>"
      ],
      "text/plain": [
       "      Model  Accuracy    Recall  Precision\n",
       "0  AV-FINAL     0.779  0.794118   0.475073"
      ]
     },
     "execution_count": 74,
     "metadata": {},
     "output_type": "execute_result"
    }
   ],
   "source": [
    "ml_metrics('AV-FINAL', y_test, y_test_pred)"
   ]
  },
  {
   "cell_type": "code",
   "execution_count": 75,
   "id": "46c8292e",
   "metadata": {
    "ExecuteTime": {
     "end_time": "2023-02-28T18:14:08.741181Z",
     "start_time": "2023-02-28T18:14:08.736443Z"
    }
   },
   "outputs": [],
   "source": [
    "# probabilidade de cada instância ser churn ou não\n",
    "\n",
    "#rfc_opt.predict_proba(X_test_tr)[:,1]"
   ]
  },
  {
   "cell_type": "code",
   "execution_count": 76,
   "id": "fc0ba22b",
   "metadata": {
    "ExecuteTime": {
     "end_time": "2023-02-28T18:14:08.945673Z",
     "start_time": "2023-02-28T18:14:08.747239Z"
    },
    "scrolled": true
   },
   "outputs": [
    {
     "data": {
      "text/html": [
       "<div>\n",
       "<style scoped>\n",
       "    .dataframe tbody tr th:only-of-type {\n",
       "        vertical-align: middle;\n",
       "    }\n",
       "\n",
       "    .dataframe tbody tr th {\n",
       "        vertical-align: top;\n",
       "    }\n",
       "\n",
       "    .dataframe thead th {\n",
       "        text-align: right;\n",
       "    }\n",
       "</style>\n",
       "<table border=\"1\" class=\"dataframe\">\n",
       "  <thead>\n",
       "    <tr style=\"text-align: right;\">\n",
       "      <th></th>\n",
       "      <th>RowNumber</th>\n",
       "      <th>CustomerId</th>\n",
       "      <th>Surname</th>\n",
       "      <th>CreditScore</th>\n",
       "      <th>Geography</th>\n",
       "      <th>Gender</th>\n",
       "      <th>Age</th>\n",
       "      <th>Tenure</th>\n",
       "      <th>Balance</th>\n",
       "      <th>NumOfProducts</th>\n",
       "      <th>HasCrCard</th>\n",
       "      <th>IsActiveMember</th>\n",
       "      <th>EstimatedSalary</th>\n",
       "      <th>Prob_Churn</th>\n",
       "      <th>Exited</th>\n",
       "    </tr>\n",
       "  </thead>\n",
       "  <tbody>\n",
       "    <tr>\n",
       "      <th>2127</th>\n",
       "      <td>2128</td>\n",
       "      <td>15703482</td>\n",
       "      <td>Walker</td>\n",
       "      <td>710</td>\n",
       "      <td>Germany</td>\n",
       "      <td>Male</td>\n",
       "      <td>34</td>\n",
       "      <td>9</td>\n",
       "      <td>134260.36</td>\n",
       "      <td>2</td>\n",
       "      <td>1</td>\n",
       "      <td>0</td>\n",
       "      <td>147074.67</td>\n",
       "      <td>0.363692</td>\n",
       "      <td>0</td>\n",
       "    </tr>\n",
       "    <tr>\n",
       "      <th>6426</th>\n",
       "      <td>6427</td>\n",
       "      <td>15749123</td>\n",
       "      <td>Sokolova</td>\n",
       "      <td>743</td>\n",
       "      <td>Spain</td>\n",
       "      <td>Male</td>\n",
       "      <td>45</td>\n",
       "      <td>7</td>\n",
       "      <td>157332.26</td>\n",
       "      <td>1</td>\n",
       "      <td>1</td>\n",
       "      <td>0</td>\n",
       "      <td>125424.42</td>\n",
       "      <td>0.749484</td>\n",
       "      <td>0</td>\n",
       "    </tr>\n",
       "    <tr>\n",
       "      <th>3205</th>\n",
       "      <td>3206</td>\n",
       "      <td>15733973</td>\n",
       "      <td>Bibi</td>\n",
       "      <td>850</td>\n",
       "      <td>France</td>\n",
       "      <td>Female</td>\n",
       "      <td>42</td>\n",
       "      <td>8</td>\n",
       "      <td>0.00</td>\n",
       "      <td>1</td>\n",
       "      <td>1</td>\n",
       "      <td>0</td>\n",
       "      <td>19632.64</td>\n",
       "      <td>0.720657</td>\n",
       "      <td>1</td>\n",
       "    </tr>\n",
       "    <tr>\n",
       "      <th>4782</th>\n",
       "      <td>4783</td>\n",
       "      <td>15722611</td>\n",
       "      <td>Cameron</td>\n",
       "      <td>752</td>\n",
       "      <td>France</td>\n",
       "      <td>Female</td>\n",
       "      <td>53</td>\n",
       "      <td>8</td>\n",
       "      <td>114233.18</td>\n",
       "      <td>1</td>\n",
       "      <td>1</td>\n",
       "      <td>1</td>\n",
       "      <td>51587.04</td>\n",
       "      <td>0.614058</td>\n",
       "      <td>0</td>\n",
       "    </tr>\n",
       "    <tr>\n",
       "      <th>8359</th>\n",
       "      <td>8360</td>\n",
       "      <td>15577107</td>\n",
       "      <td>Milne</td>\n",
       "      <td>657</td>\n",
       "      <td>Spain</td>\n",
       "      <td>Female</td>\n",
       "      <td>22</td>\n",
       "      <td>6</td>\n",
       "      <td>0.00</td>\n",
       "      <td>3</td>\n",
       "      <td>0</td>\n",
       "      <td>1</td>\n",
       "      <td>168412.07</td>\n",
       "      <td>0.500334</td>\n",
       "      <td>1</td>\n",
       "    </tr>\n",
       "    <tr>\n",
       "      <th>246</th>\n",
       "      <td>247</td>\n",
       "      <td>15685500</td>\n",
       "      <td>Glazkov</td>\n",
       "      <td>772</td>\n",
       "      <td>Germany</td>\n",
       "      <td>Male</td>\n",
       "      <td>26</td>\n",
       "      <td>7</td>\n",
       "      <td>152400.51</td>\n",
       "      <td>2</td>\n",
       "      <td>1</td>\n",
       "      <td>0</td>\n",
       "      <td>79414.00</td>\n",
       "      <td>0.320604</td>\n",
       "      <td>0</td>\n",
       "    </tr>\n",
       "    <tr>\n",
       "      <th>2193</th>\n",
       "      <td>2194</td>\n",
       "      <td>15764409</td>\n",
       "      <td>Goodman</td>\n",
       "      <td>613</td>\n",
       "      <td>France</td>\n",
       "      <td>Male</td>\n",
       "      <td>37</td>\n",
       "      <td>9</td>\n",
       "      <td>108286.50</td>\n",
       "      <td>1</td>\n",
       "      <td>1</td>\n",
       "      <td>1</td>\n",
       "      <td>114153.44</td>\n",
       "      <td>0.215357</td>\n",
       "      <td>0</td>\n",
       "    </tr>\n",
       "    <tr>\n",
       "      <th>3896</th>\n",
       "      <td>3897</td>\n",
       "      <td>15767894</td>\n",
       "      <td>Ch'ien</td>\n",
       "      <td>741</td>\n",
       "      <td>France</td>\n",
       "      <td>Female</td>\n",
       "      <td>21</td>\n",
       "      <td>9</td>\n",
       "      <td>0.00</td>\n",
       "      <td>2</td>\n",
       "      <td>0</td>\n",
       "      <td>1</td>\n",
       "      <td>139259.54</td>\n",
       "      <td>0.133380</td>\n",
       "      <td>0</td>\n",
       "    </tr>\n",
       "    <tr>\n",
       "      <th>6380</th>\n",
       "      <td>6381</td>\n",
       "      <td>15642162</td>\n",
       "      <td>Ponce</td>\n",
       "      <td>603</td>\n",
       "      <td>Germany</td>\n",
       "      <td>Male</td>\n",
       "      <td>35</td>\n",
       "      <td>1</td>\n",
       "      <td>123407.69</td>\n",
       "      <td>1</td>\n",
       "      <td>1</td>\n",
       "      <td>0</td>\n",
       "      <td>152541.89</td>\n",
       "      <td>0.565979</td>\n",
       "      <td>1</td>\n",
       "    </tr>\n",
       "    <tr>\n",
       "      <th>3242</th>\n",
       "      <td>3243</td>\n",
       "      <td>15729908</td>\n",
       "      <td>Allan</td>\n",
       "      <td>411</td>\n",
       "      <td>France</td>\n",
       "      <td>Female</td>\n",
       "      <td>36</td>\n",
       "      <td>10</td>\n",
       "      <td>0.00</td>\n",
       "      <td>1</td>\n",
       "      <td>0</td>\n",
       "      <td>0</td>\n",
       "      <td>120694.35</td>\n",
       "      <td>0.506219</td>\n",
       "      <td>0</td>\n",
       "    </tr>\n",
       "    <tr>\n",
       "      <th>4950</th>\n",
       "      <td>4951</td>\n",
       "      <td>15771383</td>\n",
       "      <td>Loggia</td>\n",
       "      <td>628</td>\n",
       "      <td>Germany</td>\n",
       "      <td>Female</td>\n",
       "      <td>45</td>\n",
       "      <td>6</td>\n",
       "      <td>53667.44</td>\n",
       "      <td>1</td>\n",
       "      <td>1</td>\n",
       "      <td>0</td>\n",
       "      <td>115022.94</td>\n",
       "      <td>0.835271</td>\n",
       "      <td>0</td>\n",
       "    </tr>\n",
       "    <tr>\n",
       "      <th>5076</th>\n",
       "      <td>5077</td>\n",
       "      <td>15720676</td>\n",
       "      <td>Bukowski</td>\n",
       "      <td>700</td>\n",
       "      <td>France</td>\n",
       "      <td>Female</td>\n",
       "      <td>37</td>\n",
       "      <td>7</td>\n",
       "      <td>0.00</td>\n",
       "      <td>2</td>\n",
       "      <td>1</td>\n",
       "      <td>0</td>\n",
       "      <td>17040.82</td>\n",
       "      <td>0.255424</td>\n",
       "      <td>0</td>\n",
       "    </tr>\n",
       "    <tr>\n",
       "      <th>3720</th>\n",
       "      <td>3721</td>\n",
       "      <td>15788775</td>\n",
       "      <td>Milne</td>\n",
       "      <td>473</td>\n",
       "      <td>Germany</td>\n",
       "      <td>Male</td>\n",
       "      <td>40</td>\n",
       "      <td>8</td>\n",
       "      <td>152576.25</td>\n",
       "      <td>2</td>\n",
       "      <td>1</td>\n",
       "      <td>0</td>\n",
       "      <td>73073.68</td>\n",
       "      <td>0.454436</td>\n",
       "      <td>0</td>\n",
       "    </tr>\n",
       "    <tr>\n",
       "      <th>5975</th>\n",
       "      <td>5976</td>\n",
       "      <td>15758039</td>\n",
       "      <td>Ash</td>\n",
       "      <td>614</td>\n",
       "      <td>France</td>\n",
       "      <td>Male</td>\n",
       "      <td>44</td>\n",
       "      <td>6</td>\n",
       "      <td>0.00</td>\n",
       "      <td>2</td>\n",
       "      <td>0</td>\n",
       "      <td>1</td>\n",
       "      <td>104930.46</td>\n",
       "      <td>0.321164</td>\n",
       "      <td>0</td>\n",
       "    </tr>\n",
       "    <tr>\n",
       "      <th>5548</th>\n",
       "      <td>5549</td>\n",
       "      <td>15639662</td>\n",
       "      <td>Phillips</td>\n",
       "      <td>710</td>\n",
       "      <td>France</td>\n",
       "      <td>Male</td>\n",
       "      <td>38</td>\n",
       "      <td>2</td>\n",
       "      <td>0.00</td>\n",
       "      <td>2</td>\n",
       "      <td>1</td>\n",
       "      <td>0</td>\n",
       "      <td>96.27</td>\n",
       "      <td>0.174512</td>\n",
       "      <td>0</td>\n",
       "    </tr>\n",
       "    <tr>\n",
       "      <th>2604</th>\n",
       "      <td>2605</td>\n",
       "      <td>15643752</td>\n",
       "      <td>Wei</td>\n",
       "      <td>540</td>\n",
       "      <td>France</td>\n",
       "      <td>Male</td>\n",
       "      <td>25</td>\n",
       "      <td>5</td>\n",
       "      <td>116160.23</td>\n",
       "      <td>1</td>\n",
       "      <td>1</td>\n",
       "      <td>0</td>\n",
       "      <td>13411.67</td>\n",
       "      <td>0.267588</td>\n",
       "      <td>0</td>\n",
       "    </tr>\n",
       "    <tr>\n",
       "      <th>986</th>\n",
       "      <td>987</td>\n",
       "      <td>15655339</td>\n",
       "      <td>Spencer</td>\n",
       "      <td>566</td>\n",
       "      <td>France</td>\n",
       "      <td>Male</td>\n",
       "      <td>36</td>\n",
       "      <td>1</td>\n",
       "      <td>142120.91</td>\n",
       "      <td>1</td>\n",
       "      <td>1</td>\n",
       "      <td>0</td>\n",
       "      <td>79616.37</td>\n",
       "      <td>0.370741</td>\n",
       "      <td>0</td>\n",
       "    </tr>\n",
       "    <tr>\n",
       "      <th>2281</th>\n",
       "      <td>2282</td>\n",
       "      <td>15778320</td>\n",
       "      <td>Teng</td>\n",
       "      <td>848</td>\n",
       "      <td>Germany</td>\n",
       "      <td>Female</td>\n",
       "      <td>40</td>\n",
       "      <td>5</td>\n",
       "      <td>148495.64</td>\n",
       "      <td>1</td>\n",
       "      <td>0</td>\n",
       "      <td>0</td>\n",
       "      <td>158853.98</td>\n",
       "      <td>0.627531</td>\n",
       "      <td>0</td>\n",
       "    </tr>\n",
       "    <tr>\n",
       "      <th>475</th>\n",
       "      <td>476</td>\n",
       "      <td>15591986</td>\n",
       "      <td>Johnston</td>\n",
       "      <td>621</td>\n",
       "      <td>Germany</td>\n",
       "      <td>Male</td>\n",
       "      <td>46</td>\n",
       "      <td>6</td>\n",
       "      <td>141078.37</td>\n",
       "      <td>1</td>\n",
       "      <td>0</td>\n",
       "      <td>0</td>\n",
       "      <td>34580.80</td>\n",
       "      <td>0.863905</td>\n",
       "      <td>1</td>\n",
       "    </tr>\n",
       "    <tr>\n",
       "      <th>5982</th>\n",
       "      <td>5983</td>\n",
       "      <td>15704378</td>\n",
       "      <td>Calabrese</td>\n",
       "      <td>655</td>\n",
       "      <td>Germany</td>\n",
       "      <td>Male</td>\n",
       "      <td>37</td>\n",
       "      <td>9</td>\n",
       "      <td>121342.24</td>\n",
       "      <td>1</td>\n",
       "      <td>1</td>\n",
       "      <td>1</td>\n",
       "      <td>180241.44</td>\n",
       "      <td>0.495071</td>\n",
       "      <td>0</td>\n",
       "    </tr>\n",
       "  </tbody>\n",
       "</table>\n",
       "</div>"
      ],
      "text/plain": [
       "      RowNumber  CustomerId    Surname  CreditScore Geography  Gender  Age  \\\n",
       "2127       2128    15703482     Walker          710   Germany    Male   34   \n",
       "6426       6427    15749123   Sokolova          743     Spain    Male   45   \n",
       "3205       3206    15733973       Bibi          850    France  Female   42   \n",
       "4782       4783    15722611    Cameron          752    France  Female   53   \n",
       "8359       8360    15577107      Milne          657     Spain  Female   22   \n",
       "246         247    15685500    Glazkov          772   Germany    Male   26   \n",
       "2193       2194    15764409    Goodman          613    France    Male   37   \n",
       "3896       3897    15767894     Ch'ien          741    France  Female   21   \n",
       "6380       6381    15642162      Ponce          603   Germany    Male   35   \n",
       "3242       3243    15729908      Allan          411    France  Female   36   \n",
       "4950       4951    15771383     Loggia          628   Germany  Female   45   \n",
       "5076       5077    15720676   Bukowski          700    France  Female   37   \n",
       "3720       3721    15788775      Milne          473   Germany    Male   40   \n",
       "5975       5976    15758039        Ash          614    France    Male   44   \n",
       "5548       5549    15639662   Phillips          710    France    Male   38   \n",
       "2604       2605    15643752        Wei          540    France    Male   25   \n",
       "986         987    15655339    Spencer          566    France    Male   36   \n",
       "2281       2282    15778320       Teng          848   Germany  Female   40   \n",
       "475         476    15591986   Johnston          621   Germany    Male   46   \n",
       "5982       5983    15704378  Calabrese          655   Germany    Male   37   \n",
       "\n",
       "      Tenure    Balance  NumOfProducts  HasCrCard  IsActiveMember  \\\n",
       "2127       9  134260.36              2          1               0   \n",
       "6426       7  157332.26              1          1               0   \n",
       "3205       8       0.00              1          1               0   \n",
       "4782       8  114233.18              1          1               1   \n",
       "8359       6       0.00              3          0               1   \n",
       "246        7  152400.51              2          1               0   \n",
       "2193       9  108286.50              1          1               1   \n",
       "3896       9       0.00              2          0               1   \n",
       "6380       1  123407.69              1          1               0   \n",
       "3242      10       0.00              1          0               0   \n",
       "4950       6   53667.44              1          1               0   \n",
       "5076       7       0.00              2          1               0   \n",
       "3720       8  152576.25              2          1               0   \n",
       "5975       6       0.00              2          0               1   \n",
       "5548       2       0.00              2          1               0   \n",
       "2604       5  116160.23              1          1               0   \n",
       "986        1  142120.91              1          1               0   \n",
       "2281       5  148495.64              1          0               0   \n",
       "475        6  141078.37              1          0               0   \n",
       "5982       9  121342.24              1          1               1   \n",
       "\n",
       "      EstimatedSalary  Prob_Churn  Exited  \n",
       "2127        147074.67    0.363692       0  \n",
       "6426        125424.42    0.749484       0  \n",
       "3205         19632.64    0.720657       1  \n",
       "4782         51587.04    0.614058       0  \n",
       "8359        168412.07    0.500334       1  \n",
       "246          79414.00    0.320604       0  \n",
       "2193        114153.44    0.215357       0  \n",
       "3896        139259.54    0.133380       0  \n",
       "6380        152541.89    0.565979       1  \n",
       "3242        120694.35    0.506219       0  \n",
       "4950        115022.94    0.835271       0  \n",
       "5076         17040.82    0.255424       0  \n",
       "3720         73073.68    0.454436       0  \n",
       "5975        104930.46    0.321164       0  \n",
       "5548            96.27    0.174512       0  \n",
       "2604         13411.67    0.267588       0  \n",
       "986          79616.37    0.370741       0  \n",
       "2281        158853.98    0.627531       0  \n",
       "475          34580.80    0.863905       1  \n",
       "5982        180241.44    0.495071       0  "
      ]
     },
     "execution_count": 76,
     "metadata": {},
     "output_type": "execute_result"
    }
   ],
   "source": [
    "# criando uma coluna com a probabilidade de ter churn ou não\n",
    "\n",
    "X_test_proba = X_test.copy()\n",
    "X_test_proba['Prob_Churn'] = rfc_opt.predict_proba(X_test_tr)[:,1]\n",
    "X_test_proba.join(y_test).sample(20)"
   ]
  },
  {
   "cell_type": "markdown",
   "id": "95e019f2",
   "metadata": {},
   "source": [
    "# Objetivos da Sprint 4"
   ]
  },
  {
   "cell_type": "markdown",
   "id": "229731e2",
   "metadata": {},
   "source": [
    "- Deploy do modelo"
   ]
  },
  {
   "cell_type": "markdown",
   "id": "ca8fc4e7",
   "metadata": {},
   "source": [
    "## Deploy"
   ]
  },
  {
   "cell_type": "code",
   "execution_count": 77,
   "id": "02142072",
   "metadata": {
    "ExecuteTime": {
     "end_time": "2023-02-28T18:14:08.955258Z",
     "start_time": "2023-02-28T18:14:08.948798Z"
    }
   },
   "outputs": [],
   "source": [
    "pipeline_final = Pipeline([('tratamento',pipeline),('rfc',rfc_opt)])"
   ]
  },
  {
   "cell_type": "code",
   "execution_count": 78,
   "id": "a144b7ec",
   "metadata": {
    "ExecuteTime": {
     "end_time": "2023-02-28T18:14:09.099402Z",
     "start_time": "2023-02-28T18:14:08.959433Z"
    }
   },
   "outputs": [
    {
     "data": {
      "text/plain": [
       "array([[0.77591128, 0.22408872]])"
      ]
     },
     "execution_count": 78,
     "metadata": {},
     "output_type": "execute_result"
    }
   ],
   "source": [
    "# testando o modelo final\n",
    "\n",
    "pipeline_final.predict_proba(X_test.sample())"
   ]
  },
  {
   "cell_type": "code",
   "execution_count": 79,
   "id": "1be02bd0",
   "metadata": {
    "ExecuteTime": {
     "end_time": "2023-02-28T18:14:09.564907Z",
     "start_time": "2023-02-28T18:14:09.110824Z"
    }
   },
   "outputs": [
    {
     "data": {
      "text/plain": [
       "['../model.pkl']"
      ]
     },
     "execution_count": 79,
     "metadata": {},
     "output_type": "execute_result"
    }
   ],
   "source": [
    "import joblib\n",
    "\n",
    "joblib.dump(pipeline_final,'../model.pkl')"
   ]
  }
 ],
 "metadata": {
  "kernelspec": {
   "display_name": "Python 3 (ipykernel)",
   "language": "python",
   "name": "python3"
  },
  "language_info": {
   "codemirror_mode": {
    "name": "ipython",
    "version": 3
   },
   "file_extension": ".py",
   "mimetype": "text/x-python",
   "name": "python",
   "nbconvert_exporter": "python",
   "pygments_lexer": "ipython3",
   "version": "3.10.6"
  },
  "varInspector": {
   "cols": {
    "lenName": 16,
    "lenType": 16,
    "lenVar": 40
   },
   "kernels_config": {
    "python": {
     "delete_cmd_postfix": "",
     "delete_cmd_prefix": "del ",
     "library": "var_list.py",
     "varRefreshCmd": "print(var_dic_list())"
    },
    "r": {
     "delete_cmd_postfix": ") ",
     "delete_cmd_prefix": "rm(",
     "library": "var_list.r",
     "varRefreshCmd": "cat(var_dic_list()) "
    }
   },
   "types_to_exclude": [
    "module",
    "function",
    "builtin_function_or_method",
    "instance",
    "_Feature"
   ],
   "window_display": false
  }
 },
 "nbformat": 4,
 "nbformat_minor": 5
}
